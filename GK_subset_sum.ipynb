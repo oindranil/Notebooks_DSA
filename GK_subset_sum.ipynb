{
 "cells": [
  {
   "cell_type": "code",
   "execution_count": null,
   "id": "59e324c3",
   "metadata": {},
   "outputs": [],
   "source": [
    "# program: Subset Sum Problem\n",
    "#\n",
    "# topic: Dynamic Programming\n",
    "#\n",
    "# subtopic: DP Array\n",
    "#\n",
    "# source: GeeksForGeeks\n",
    "#\n",
    "# url: https://www.geeksforgeeks.org/subset-sum-problem-dp-25/\n",
    "#\n",
    "# description: Given an array of positive integers and a target sum, \n",
    "#              determine if there exists a subset whose sum equals the target.\n",
    "#              Additionally, reconstruct one such subset if it exists.\n",
    "#"
   ]
  },
  {
   "cell_type": "code",
   "execution_count": null,
   "id": "ff3381a6",
   "metadata": {
    "lines_to_next_cell": 1
   },
   "outputs": [],
   "source": [
    "def subset_sum(arr, target):\n",
    "    n = len(arr)\n",
    "    # dp[j] = True if sum j can be formed using some subset\n",
    "    dp = [False] * (target + 1)\n",
    "    dp[0] = True  # sum 0 is always possible\n",
    "\n",
    "    # parent array to reconstruct subset\n",
    "    parent = [-1] * (target + 1)\n",
    "\n",
    "    for i in range(n):\n",
    "        for j in range(target, arr[i] - 1, -1):\n",
    "            if not dp[j] and dp[j - arr[i]]:\n",
    "                dp[j] = True\n",
    "                parent[j] = i  # store index of the element contributing to sum j\n",
    "\n",
    "    # reconstruct subset\n",
    "    if not dp[target]:\n",
    "        return False, []\n",
    "\n",
    "    subset = []\n",
    "    curr_sum = target\n",
    "    while curr_sum > 0:\n",
    "        idx = parent[curr_sum]\n",
    "        subset.append(arr[idx])\n",
    "        curr_sum -= arr[idx]\n",
    "\n",
    "    subset.reverse()\n",
    "    return True, subset"
   ]
  },
  {
   "cell_type": "code",
   "execution_count": null,
   "id": "19da9539",
   "metadata": {},
   "outputs": [],
   "source": [
    "# Example usage\n",
    "arr = [3, 34, 4, 12, 5, 2]\n",
    "target = 9\n",
    "\n",
    "print(f\"Array: {arr}\")\n",
    "print(f\"Target Sum: {target}\")\n",
    "\n",
    "exists, subset = subset_sum(arr, target)\n",
    "print(f\"Subset exists: {exists}\")\n",
    "print(f\"Subset forming target sum: {subset}\")"
   ]
  }
 ],
 "metadata": {
  "jupytext": {
   "cell_metadata_filter": "-all",
   "main_language": "python",
   "notebook_metadata_filter": "-all"
  }
 },
 "nbformat": 4,
 "nbformat_minor": 5
}
