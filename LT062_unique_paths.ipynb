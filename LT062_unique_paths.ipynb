{
 "cells": [
  {
   "cell_type": "code",
   "execution_count": null,
   "id": "8c686220",
   "metadata": {},
   "outputs": [],
   "source": [
    "## [markdown]\n",
    "# program: Unique Paths\n",
    "#\n",
    "# topic: Dynamic Programming\n",
    "#\n",
    "# problem number: LeetCode 62\n",
    "#\n",
    "# difficulty: Medium\n",
    "#\n",
    "# URL: https://leetcode.com/problems/unique-paths/\n",
    "#\n",
    "# algorithm logic:\n",
    "# - We need to count the number of unique paths from top-left to bottom-right\n",
    "#   in an m x n grid, moving only down or right.\n",
    "# - Define dp[i][j] = number of ways to reach cell (i, j).\n",
    "# - Recurrence:\n",
    "#   dp[i][j] = dp[i-1][j] + dp[i][j-1]\n",
    "#   (ways from top + ways from left)\n",
    "# - Base cases:\n",
    "#   dp[0][j] = 1 for all j (first row, only right moves)\n",
    "#   dp[i][0] = 1 for all i (first column, only down moves)\n",
    "# - Answer = dp[m-1][n-1]\n",
    "#\n",
    "# time complexity: O(m * n)\n",
    "# space complexity: O(m * n) → can be optimized to O(n)"
   ]
  },
  {
   "cell_type": "code",
   "execution_count": null,
   "id": "407d6642",
   "metadata": {
    "lines_to_next_cell": 1
   },
   "outputs": [],
   "source": [
    "def uniquePaths(m: int, n: int) -> int:\n",
    "    dp = [[1] * n for _ in range(m)]\n",
    "\n",
    "    for i in range(1, m):\n",
    "        for j in range(1, n):\n",
    "            dp[i][j] = dp[i - 1][j] + dp[i][j - 1]\n",
    "\n",
    "    return dp[m - 1][n - 1]"
   ]
  },
  {
   "cell_type": "code",
   "execution_count": null,
   "id": "c1c4d601",
   "metadata": {},
   "outputs": [],
   "source": [
    "# Example usage\n",
    "m, n = 3, 7\n",
    "print(f\"Unique paths in {m}x{n} grid:\", uniquePaths(m, n))"
   ]
  }
 ],
 "metadata": {
  "jupytext": {
   "cell_metadata_filter": "-all",
   "main_language": "python",
   "notebook_metadata_filter": "-all"
  }
 },
 "nbformat": 4,
 "nbformat_minor": 5
}
