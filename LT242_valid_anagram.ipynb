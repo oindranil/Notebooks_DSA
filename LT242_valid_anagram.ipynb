{
 "cells": [
  {
   "cell_type": "markdown",
   "id": "a5a5b96e",
   "metadata": {
    "lines_to_next_cell": 0
   },
   "source": [
    "Problem 242: Valid Anagram (Extended to Phrases)\n",
    "\n",
    "Source: LeetCode\n",
    "\n",
    "Difficulty: Easy\n",
    "\n",
    "Two Approaches:\n",
    "1. Hash Map / Frequency Count\n",
    "   - Time: O(n)\n",
    "   - Space: O(1) (constant for lowercase letters)\n",
    "2. Sorting\n",
    "   - Time: O(n log n)\n",
    "   - Space: O(n)\n",
    "\n",
    "This script runs both approaches, compares results, time, memory.\n",
    "\n",
    "Works for phrases: ignores spaces, punctuation, and capitalization."
   ]
  },
  {
   "cell_type": "code",
   "execution_count": null,
   "id": "efbd92f8",
   "metadata": {
    "lines_to_next_cell": 1
   },
   "outputs": [],
   "source": [
    "\n",
    "import time\n",
    "import tracemalloc\n",
    "import re"
   ]
  },
  {
   "cell_type": "markdown",
   "id": "21a8ea7a",
   "metadata": {
    "lines_to_next_cell": 0
   },
   "source": [
    "-----------------------------------------------------------\n",
    "Utility: normalize string\n",
    "-----------------------------------------------------------"
   ]
  },
  {
   "cell_type": "code",
   "execution_count": null,
   "id": "38b9a9a3",
   "metadata": {
    "lines_to_next_cell": 1
   },
   "outputs": [],
   "source": [
    "def normalize(s):\n",
    "    \"\"\"Convert to lowercase and remove non-alphabetic characters.\"\"\"\n",
    "    return re.sub(r'[^a-z]', '', s.lower())"
   ]
  },
  {
   "cell_type": "markdown",
   "id": "1418d33f",
   "metadata": {
    "lines_to_next_cell": 0
   },
   "source": [
    "-----------------------------------------------------------\n",
    "1. Hash Map Approach\n",
    "-----------------------------------------------------------"
   ]
  },
  {
   "cell_type": "code",
   "execution_count": null,
   "id": "ffcdbde0",
   "metadata": {
    "lines_to_next_cell": 1
   },
   "outputs": [],
   "source": [
    "def isAnagram_hashmap(s, t):\n",
    "    s = normalize(s)\n",
    "    t = normalize(t)\n",
    "    if len(s) != len(t):\n",
    "        return False\n",
    "\n",
    "    freq = {}\n",
    "    for char in s:\n",
    "        freq[char] = freq.get(char, 0) + 1\n",
    "    for char in t:\n",
    "        if char not in freq or freq[char] == 0:\n",
    "            return False\n",
    "        freq[char] -= 1\n",
    "    return True"
   ]
  },
  {
   "cell_type": "markdown",
   "id": "8a34ad8a",
   "metadata": {
    "lines_to_next_cell": 0
   },
   "source": [
    "-----------------------------------------------------------\n",
    "2. Sorting Approach\n",
    "-----------------------------------------------------------"
   ]
  },
  {
   "cell_type": "code",
   "execution_count": null,
   "id": "ff374428",
   "metadata": {
    "lines_to_next_cell": 1
   },
   "outputs": [],
   "source": [
    "def isAnagram_sort(s, t):\n",
    "    s = normalize(s)\n",
    "    t = normalize(t)\n",
    "    return sorted(s) == sorted(t)"
   ]
  },
  {
   "cell_type": "markdown",
   "id": "3ea691d7",
   "metadata": {
    "lines_to_next_cell": 0
   },
   "source": [
    "-----------------------------------------------------------\n",
    "Utility to measure time and memory\n",
    "-----------------------------------------------------------"
   ]
  },
  {
   "cell_type": "code",
   "execution_count": null,
   "id": "d5990117",
   "metadata": {
    "lines_to_next_cell": 1
   },
   "outputs": [],
   "source": [
    "def run_with_profiling(func, s, t):\n",
    "    tracemalloc.start()\n",
    "    start = time.perf_counter()\n",
    "    result = func(s, t)\n",
    "    end = time.perf_counter()\n",
    "    current, peak = tracemalloc.get_traced_memory()\n",
    "    tracemalloc.stop()\n",
    "    return result, end - start, peak / 1024  # memory in KB"
   ]
  },
  {
   "cell_type": "markdown",
   "id": "d97cef5f",
   "metadata": {
    "lines_to_next_cell": 0
   },
   "source": [
    "-----------------------------------------------------------\n",
    "Main Driver\n",
    "-----------------------------------------------------------"
   ]
  },
  {
   "cell_type": "code",
   "execution_count": null,
   "id": "9a94a2e1",
   "metadata": {
    "lines_to_next_cell": 2
   },
   "outputs": [],
   "source": [
    "if __name__ == \"__main__\":\n",
    "    examples = [\n",
    "        (\"eleven plus two\", \"twelve plus one\", True),\n",
    "        (\"listen\", \"silent\", True),\n",
    "        (\"mother-in-law\", \"woman hitler\", True),\n",
    "        (\"make tea\", \"take me\", False)\n",
    "        \n",
    "    ]\n",
    "\n",
    "    print(\"#\" * 70)\n",
    "    for s, t, expected in examples:\n",
    "        print(f\"Example: '{s}' vs '{t}' | Expected: {expected}\")\n",
    "        print(\"-\" * 70)\n",
    "        algorithms = [\n",
    "            (\"Hash Map\", isAnagram_hashmap),\n",
    "            (\"Sorting\", isAnagram_sort)\n",
    "        ]\n",
    "\n",
    "        print(f\"{'Algorithm':<15} {'Result':<10} {'Time (s)':<12} {'Memory (KB)':<12}\")\n",
    "        print(\"-\" * 70)\n",
    "\n",
    "        for name, func in algorithms:\n",
    "            result, elapsed, mem = run_with_profiling(func, s, t)\n",
    "            print(f\"{name:<15} {str(result):<10} {elapsed:<12.6f} {mem:<12.2f}\")\n",
    "        print(\"#\" * 70)\n",
    "        print()"
   ]
  }
 ],
 "metadata": {
  "jupytext": {
   "cell_metadata_filter": "-all",
   "main_language": "python",
   "notebook_metadata_filter": "-all"
  }
 },
 "nbformat": 4,
 "nbformat_minor": 5
}
