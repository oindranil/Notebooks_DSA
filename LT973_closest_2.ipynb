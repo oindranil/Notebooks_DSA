{
 "cells": [
  {
   "cell_type": "markdown",
   "id": "4c7a2b42",
   "metadata": {
    "cell_marker": "\"\"\""
   },
   "source": [
    "Source: LeetCode\n",
    "\n",
    "Problem #: 973\n",
    "\n",
    "Title: K Closest Points to Origin\n",
    "\n",
    "Difficulty: Medium\n",
    "\n",
    "Topic: Heap / Priority Queue\n",
    "\n",
    "Subtopic: Min-Heap\n",
    "\n",
    "Logic:\n",
    "1. Compute squared distance for each point.\n",
    "2. Use a max-heap of size k to keep k closest points:\n",
    "   - Push (-distance, point) so largest distance is at top.\n",
    "   - If heap exceeds k, pop the farthest point.\n",
    "3. At the end, heap contains k closest points.\n",
    "\n",
    "Time Complexity: O(n log k)\n",
    "\n",
    "Space Complexity: O(k)"
   ]
  },
  {
   "cell_type": "code",
   "execution_count": null,
   "id": "83f665b6",
   "metadata": {},
   "outputs": [],
   "source": [
    "import heapq\n",
    "\n",
    "def kClosest_heap(points, k):\n",
    "    max_heap = []\n",
    "    for p in points:\n",
    "        dist = -(p[0]**2 + p[1]**2)  # max-heap via negation\n",
    "        heapq.heappush(max_heap, (dist, p))\n",
    "        if len(max_heap) > k:\n",
    "            heapq.heappop(max_heap)\n",
    "    return [p for _, p in max_heap]"
   ]
  },
  {
   "cell_type": "markdown",
   "id": "8f277c7c",
   "metadata": {
    "lines_to_next_cell": 0
   },
   "source": [
    "-----------------------------\n",
    "Example Test Cases\n",
    "-----------------------------"
   ]
  },
  {
   "cell_type": "code",
   "execution_count": null,
   "id": "62d233ae",
   "metadata": {},
   "outputs": [],
   "source": [
    "if __name__ == \"__main__\":\n",
    "    points = [[1,3],[-2,2],[5,8],[0,1]]\n",
    "    k = 2\n",
    "    print(\"Expected: [[-2,2],[0,1]] or similar, Got:\", kClosest_heap(points, k))\n",
    "\n",
    "    points = [[3,3],[5,-1],[-2,4]]\n",
    "    k = 2\n",
    "    print(\"Expected: [[3,3],[-2,4]] or similar, Got:\", kClosest_heap(points, k))"
   ]
  }
 ],
 "metadata": {
  "jupytext": {
   "cell_metadata_filter": "-all",
   "main_language": "python",
   "notebook_metadata_filter": "-all"
  }
 },
 "nbformat": 4,
 "nbformat_minor": 5
}
