{
 "cells": [
  {
   "cell_type": "markdown",
   "id": "5a4f183e",
   "metadata": {
    "cell_marker": "\"\"\""
   },
   "source": [
    "program: Karatsuba Multiplication vs Normal Multiplication\n",
    "\n",
    "topic: Divide & Conquer\n",
    "\n",
    "subtopic: Fast Multiplication\n",
    "\n",
    "source: GeeksForGeeks\n",
    "\n",
    "url: [Karatsuba Algorithm for fast multiplication](https://www.geeksforgeeks.org/dsa/karatsuba-algorithm-for-fast-multiplication-using-divide-and-conquer-algorithm/)\n",
    "\n",
    "difficulty: Hard\n",
    "\n",
    "description: Compare Karatsuba’s algorithm against naive (Python built-in) multiplication."
   ]
  },
  {
   "cell_type": "code",
   "execution_count": null,
   "id": "97dd3d3d",
   "metadata": {
    "lines_to_next_cell": 1
   },
   "outputs": [],
   "source": [
    "import time\n",
    "import tracemalloc\n",
    "import random\n",
    "\n",
    "# Karatsuba implementation\n",
    "def karatsuba(x: int, y: int) -> int:\n",
    "    if x < 10 or y < 10:\n",
    "        return x * y\n",
    "\n",
    "    sx, sy = str(x), str(y)\n",
    "    n = max(len(sx), len(sy))\n",
    "    if n % 2 != 0:\n",
    "        n += 1\n",
    "    sx, sy = sx.zfill(n), sy.zfill(n)\n",
    "    m = n // 2\n",
    "\n",
    "    x1, x0 = int(sx[:-m]), int(sx[-m:])\n",
    "    y1, y0 = int(sy[:-m]), int(sy[-m:])\n",
    "\n",
    "    z2 = karatsuba(x1, y1)\n",
    "    z0 = karatsuba(x0, y0)\n",
    "    z1 = karatsuba(x1 + x0, y1 + y0) - z2 - z0\n",
    "\n",
    "    return (z2 * 10**(2*m)) + (z1 * 10**m) + z0"
   ]
  },
  {
   "cell_type": "code",
   "execution_count": null,
   "id": "edef9ac6",
   "metadata": {
    "lines_to_next_cell": 1
   },
   "outputs": [],
   "source": [
    "def profile(func, *args):\n",
    "    tracemalloc.start()\n",
    "    t0 = time.perf_counter()\n",
    "    result = func(*args)\n",
    "    t1 = time.perf_counter()\n",
    "    current, peak = tracemalloc.get_traced_memory()\n",
    "    tracemalloc.stop()\n",
    "    return result, t1 - t0, peak / 1024"
   ]
  },
  {
   "cell_type": "code",
   "execution_count": null,
   "id": "14b03801",
   "metadata": {},
   "outputs": [],
   "source": [
    "if __name__ == \"__main__\":\n",
    "    # Generate two large random numbers with 5000 digits\n",
    "    a = int(\"\".join(str(random.randint(0, 9)) for _ in range(5000)))\n",
    "    b = int(\"\".join(str(random.randint(0, 9)) for _ in range(5000)))\n",
    "\n",
    "    print(\"Profiling on 5000-digit numbers...\\n\")\n",
    "\n",
    "    res1, t1, mem1 = profile(karatsuba, a, b)\n",
    "    res2, t2, mem2 = profile(lambda x, y: x * y, a, b)\n",
    "\n",
    "    print(f\"{'Karatsuba':<15} | Time: {t1:.6f}s | Peak Mem: {mem1:.1f} KB\")\n",
    "    print(f\"{'Normal (built-in)':<15} | Time: {t2:.6f}s | Peak Mem: {mem2:.1f} KB\")\n",
    "\n",
    "    # sanity check (results must match)\n",
    "    print(\"\\nResults match:\", res1 == res2)"
   ]
  }
 ],
 "metadata": {
  "jupytext": {
   "cell_metadata_filter": "-all",
   "main_language": "python",
   "notebook_metadata_filter": "-all"
  }
 },
 "nbformat": 4,
 "nbformat_minor": 5
}
