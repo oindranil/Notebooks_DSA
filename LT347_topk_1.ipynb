{
 "cells": [
  {
   "cell_type": "markdown",
   "id": "c472fe5d",
   "metadata": {
    "cell_marker": "\"\"\"",
    "lines_to_next_cell": 1
   },
   "source": [
    "Source: LeetCode\n",
    "\n",
    "Problem #: 347\n",
    "\n",
    "Title: Top K Frequent Elements\n",
    "\n",
    "Difficulty: Medium\n",
    "\n",
    "Topic: Hash Table\n",
    "\n",
    "Subtopic: Frequency Count + Sorting\n",
    "\n",
    "Description: Return the k most frequent elements from nums.\n",
    "\n",
    "Logic:\n",
    "1. Count frequencies using a dictionary: O(n)\n",
    "2. Convert dictionary to list of (num, freq)\n",
    "3. Sort by freq descending: O(m log m)\n",
    "4. Return the first k numbers"
   ]
  },
  {
   "cell_type": "code",
   "execution_count": null,
   "id": "90840254",
   "metadata": {
    "lines_to_next_cell": 1
   },
   "outputs": [],
   "source": [
    "def topKFrequent_sort(nums, k):\n",
    "    freq = {}\n",
    "    for num in nums:\n",
    "        freq[num] = freq.get(num, 0) + 1\n",
    "    \n",
    "    # Sort by frequency descending\n",
    "    freq_items = sorted(freq.items(), key=lambda x: x[1], reverse=True)\n",
    "    \n",
    "    return [num for num, _ in freq_items[:k]]"
   ]
  },
  {
   "cell_type": "markdown",
   "id": "197654cf",
   "metadata": {
    "lines_to_next_cell": 0
   },
   "source": [
    "-----------------------------\n",
    "Example Test Cases\n",
    "-----------------------------"
   ]
  },
  {
   "cell_type": "code",
   "execution_count": null,
   "id": "8ce3281c",
   "metadata": {},
   "outputs": [],
   "source": [
    "if __name__ == \"__main__\":\n",
    "    nums = [1,1,1,2,2,3]\n",
    "    k = 2\n",
    "    print(\"Expected: [1,2], Got:\", topKFrequent_sort(nums, k))\n",
    "\n",
    "    nums = [1]\n",
    "    k = 1\n",
    "    print(\"Expected: [1], Got:\", topKFrequent_sort(nums, k))"
   ]
  }
 ],
 "metadata": {
  "jupytext": {
   "cell_metadata_filter": "-all",
   "main_language": "python",
   "notebook_metadata_filter": "-all"
  }
 },
 "nbformat": 4,
 "nbformat_minor": 5
}
