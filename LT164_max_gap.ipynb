{
 "cells": [
  {
   "cell_type": "markdown",
   "id": "5181c92b",
   "metadata": {
    "cell_marker": "\"\"\"",
    "lines_to_next_cell": 0
   },
   "source": [
    "Source: LeetCode\n",
    "\n",
    "Problem #: 164\n",
    "\n",
    "Title: Maximum Gap\n",
    "\n",
    "Difficulty: Hard\n",
    "\n",
    "Topic: Sort / Array\n",
    "\n",
    "Subtopic: Successive Differences\n",
    "\n",
    "Description: Given an unsorted array, find the maximum difference between successive elements in its sorted form.\n",
    "\n",
    "Logic:\n",
    "1. Sort the array in ascending order.\n",
    "2. Compute differences between consecutive elements.\n",
    "3. Return the maximum difference.\n",
    "\n",
    "Time Complexity: O(n log n) due to sorting\n",
    "\n",
    "Space Complexity: O(1) extra"
   ]
  },
  {
   "cell_type": "code",
   "execution_count": null,
   "id": "42abcb2b",
   "metadata": {},
   "outputs": [],
   "source": [
    "def maximumGap(nums):\n",
    "    if len(nums) < 2:\n",
    "        return 0\n",
    "\n",
    "    nums.sort()\n",
    "    max_gap = 0\n",
    "    for i in range(1, len(nums)):\n",
    "        gap = nums[i] - nums[i-1]\n",
    "        max_gap = max(max_gap, gap)\n",
    "\n",
    "    return max_gap"
   ]
  },
  {
   "cell_type": "markdown",
   "id": "cf22da0f",
   "metadata": {
    "lines_to_next_cell": 0
   },
   "source": [
    "-----------------------------\n",
    "Example Test Cases\n",
    "-----------------------------"
   ]
  },
  {
   "cell_type": "code",
   "execution_count": null,
   "id": "74bb72df",
   "metadata": {},
   "outputs": [],
   "source": [
    "if __name__ == \"__main__\":\n",
    "    nums = [3,6,9,1]\n",
    "    print(\"Expected: 3, Got:\", maximumGap(nums))\n",
    "\n",
    "    nums = [10]\n",
    "    print(\"Expected: 0, Got:\", maximumGap(nums))\n",
    "\n",
    "    nums = [1,1,1,1]\n",
    "    print(\"Expected: 0, Got:\", maximumGap(nums))"
   ]
  }
 ],
 "metadata": {
  "jupytext": {
   "cell_metadata_filter": "-all",
   "main_language": "python",
   "notebook_metadata_filter": "-all"
  }
 },
 "nbformat": 4,
 "nbformat_minor": 5
}
