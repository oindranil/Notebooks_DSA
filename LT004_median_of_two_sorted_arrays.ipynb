{
 "cells": [
  {
   "cell_type": "markdown",
   "id": "78663f5e",
   "metadata": {
    "lines_to_next_cell": 0
   },
   "source": [
    "\n",
    "Source: LeetCode \n",
    "\n",
    "Problem #: 4\n",
    "\n",
    "Title: Median of Two Sorted Arrays\n",
    "\n",
    "Difficulty: Medium\n",
    "\n",
    "Topic: Search (Binary Search)\n",
    "\n",
    "Description: Given two sorted arrays nums1 and nums2 of size m and n respectively, return the median of the two sorted arrays. \n"
   ]
  },
  {
   "cell_type": "code",
   "execution_count": null,
   "id": "5c56a904",
   "metadata": {
    "lines_to_next_cell": 1
   },
   "outputs": [],
   "source": [
    "def findMedianSortedArrays(nums1, nums2):\n",
    "    \"\"\"\n",
    "    :type nums1: List[int]\n",
    "    :type nums2: List[int]\n",
    "    :rtype: float\n",
    "    \"\"\"\n",
    "    # merge sort two arrays\n",
    "    n1, n2 = len(nums1),len(nums2)\n",
    "    i1, i2 = 0, 0\n",
    "    nums = []\n",
    "    while i1<n1 and i2<n2:\n",
    "        if nums1[i1]<nums2[i2]:\n",
    "            nums.append(nums1[i1])\n",
    "            i1 += 1\n",
    "        else:\n",
    "            nums.append(nums2[i2])\n",
    "            i2 += 1\n",
    "    nums.extend(nums1[i1:])\n",
    "    nums.extend(nums2[i2:])\n",
    "    \n",
    "    n = n1+n2\n",
    "    if n%2: # odd\n",
    "        median = nums[n//2]\n",
    "    else: \n",
    "        median = (nums[n//2-1] + nums[n//2])/2\n",
    "    \n",
    "    return(median)"
   ]
  },
  {
   "cell_type": "markdown",
   "id": "9136b9ae",
   "metadata": {
    "lines_to_next_cell": 0
   },
   "source": [
    "-----------------------------\n",
    "Example Test Cases\n",
    "-----------------------------"
   ]
  },
  {
   "cell_type": "code",
   "execution_count": null,
   "id": "e4f913ad",
   "metadata": {
    "lines_to_next_cell": 2
   },
   "outputs": [],
   "source": [
    "if __name__ == \"__main__\":\n",
    "    # Test case 1\n",
    "    nums1 = [1,2]\n",
    "    nums2 = [3,4]\n",
    "    print(\"Expected: 2.5, Got:\", findMedianSortedArrays(nums1, nums2))\n",
    "\n",
    "    # Test case 2\n",
    "    nums1 = [1,3]\n",
    "    nums2 = [2]\n",
    "    print(\"Expected: 2, Got:\", findMedianSortedArrays(nums1, nums2))"
   ]
  }
 ],
 "metadata": {
  "jupytext": {
   "cell_metadata_filter": "-all",
   "main_language": "python",
   "notebook_metadata_filter": "-all"
  }
 },
 "nbformat": 4,
 "nbformat_minor": 5
}
