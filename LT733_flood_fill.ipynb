{
 "cells": [
  {
   "cell_type": "markdown",
   "id": "02c87f87",
   "metadata": {
    "cell_marker": "\"\"\"",
    "lines_to_next_cell": 1
   },
   "source": [
    "Source: LeetCode\n",
    "\n",
    "Problem #: 733\n",
    "\n",
    "Title: Flood Fill\n",
    "\n",
    "Difficulty: Easy\n",
    "\n",
    "Topic: Graph / Grid\n",
    "\n",
    "Subtopic: DFS / BFS\n",
    "\n",
    "Description: Given a 2D grid image, a starting cell (sr, sc), and a new color, replace the color of the starting cell and all 4-directionally connected cells with the same original color.\n",
    "\n",
    "Logic (DFS Approach):\n",
    "1. Store the original color at (sr, sc).\n",
    "2. If original color == newColor, do nothing.\n",
    "3. Perform DFS:\n",
    "   - For each cell, if it matches original color, change to newColor.\n",
    "   - Recurse into 4-directionally adjacent cells.\n",
    "4. Return the modified image.\n",
    "\n",
    "Time Complexity: O(m * n), each cell visited at most once\n",
    "\n",
    "Space Complexity: O(m * n) for recursion stack in worst case"
   ]
  },
  {
   "cell_type": "code",
   "execution_count": null,
   "id": "c003e099",
   "metadata": {},
   "outputs": [],
   "source": [
    "def floodFill(image, sr, sc, newColor):\n",
    "    if not image or not image[0]:\n",
    "        return image\n",
    "\n",
    "    originalColor = image[sr][sc]\n",
    "    if originalColor == newColor:\n",
    "        return image\n",
    "\n",
    "    rows, cols = len(image), len(image[0])\n",
    "\n",
    "    def dfs(r, c):\n",
    "        if r < 0 or r >= rows or c < 0 or c >= cols:\n",
    "            return\n",
    "        if image[r][c] != originalColor:\n",
    "            return\n",
    "        image[r][c] = newColor\n",
    "        # explore 4-directionally\n",
    "        dfs(r+1, c)\n",
    "        dfs(r-1, c)\n",
    "        dfs(r, c+1)\n",
    "        dfs(r, c-1)\n",
    "\n",
    "    dfs(sr, sc)\n",
    "    return image"
   ]
  },
  {
   "cell_type": "markdown",
   "id": "ea347cd4",
   "metadata": {
    "lines_to_next_cell": 0
   },
   "source": [
    "-----------------------------\n",
    "Example Test Cases\n",
    "-----------------------------"
   ]
  },
  {
   "cell_type": "code",
   "execution_count": null,
   "id": "8fe524c6",
   "metadata": {},
   "outputs": [],
   "source": [
    "if __name__ == \"__main__\":\n",
    "    image = [\n",
    "        [1,1,1],\n",
    "        [1,1,0],\n",
    "        [1,0,1]\n",
    "    ]\n",
    "    sr, sc, newColor = 1, 1, 2\n",
    "    print(\"Expected: [[2,2,2],[2,2,0],[2,0,1]], Got:\", floodFill(image, sr, sc, newColor))\n",
    "\n",
    "    image = [[0,0,0],[0,1,1]]\n",
    "    sr, sc, newColor = 1, 1, 1\n",
    "    print(\"Expected: [[0,0,0],[0,1,1]], Got:\", floodFill(image, sr, sc, newColor))"
   ]
  }
 ],
 "metadata": {
  "jupytext": {
   "cell_metadata_filter": "-all",
   "main_language": "python",
   "notebook_metadata_filter": "-all"
  }
 },
 "nbformat": 4,
 "nbformat_minor": 5
}
