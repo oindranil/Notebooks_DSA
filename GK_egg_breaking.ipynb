{
 "cells": [
  {
   "cell_type": "code",
   "execution_count": null,
   "id": "7780c359",
   "metadata": {},
   "outputs": [],
   "source": [
    "# ##\n",
    "# program: Egg Dropping Puzzle - Minimum Trials\n",
    "#\n",
    "# topic: Dynamic Programming\n",
    "#\n",
    "# description: \n",
    "# Given k eggs and n floors, determine the minimum number of trials needed in the worst case\n",
    "# to find the critical floor from which eggs start to break.\n",
    "#\n",
    "# URL: https://www.geeksforgeeks.org/dsa/egg-dropping-puzzle-dp-11/\n",
    "#"
   ]
  },
  {
   "cell_type": "code",
   "execution_count": null,
   "id": "34745196",
   "metadata": {},
   "outputs": [],
   "source": [
    "# ## Recursion logic explanation\n",
    "# \n",
    "# Let dp[k][n] = minimum trials with k eggs and n floors\n",
    "# \n",
    "# For any floor x (1 <= x <= n):\n",
    "#   - Egg breaks: dp[k-1][x-1]\n",
    "#   - Egg survives: dp[k][n-x]\n",
    "#   - Worst case: max(dp[k-1][x-1], dp[k][n-x])\n",
    "#   - Add 1 for current drop and choose floor x that minimizes the worst case:\n",
    "#     dp[k][n] = 1 + min_{x=1..n} max(dp[k-1][x-1], dp[k][n-x])\n",
    "# \n",
    "# Base cases:\n",
    "#   - dp[1][n] = n  # 1 egg → linear search\n",
    "#   - dp[k][0] = 0  # 0 floors → 0 trials\n",
    "#   - dp[k][1] = 1  # 1 floor → 1 trial"
   ]
  },
  {
   "cell_type": "code",
   "execution_count": null,
   "id": "3dfc039c",
   "metadata": {
    "lines_to_next_cell": 1
   },
   "outputs": [],
   "source": [
    "def egg_dropping(k, n):\n",
    "    \"\"\"\n",
    "    Compute minimum number of trials needed with k eggs and n floors.\n",
    "    \"\"\"\n",
    "    # dp[i][j] will hold the result for i eggs and j floors\n",
    "    dp = [[0 for _ in range(n+1)] for _ in range(k+1)]\n",
    "    \n",
    "    # Base cases\n",
    "    for i in range(1, k+1):\n",
    "        dp[i][0] = 0  # 0 floors\n",
    "        dp[i][1] = 1  # 1 floor\n",
    "    for j in range(1, n+1):\n",
    "        dp[1][j] = j  # 1 egg\n",
    "    \n",
    "    # Fill rest using bottom-up DP\n",
    "    for i in range(2, k+1):  # eggs\n",
    "        for j in range(2, n+1):  # floors\n",
    "            dp[i][j] = float('inf')\n",
    "            for x in range(1, j+1):\n",
    "                res = 1 + max(dp[i-1][x-1], dp[i][j-x])\n",
    "                if res < dp[i][j]:\n",
    "                    dp[i][j] = res\n",
    "    return dp[k][n]"
   ]
  },
  {
   "cell_type": "code",
   "execution_count": null,
   "id": "355d9833",
   "metadata": {},
   "outputs": [],
   "source": [
    "# ## Example\n",
    "k = 2  # number of eggs\n",
    "n = 10 # number of floors\n",
    "\n",
    "print(f\"Minimum number of trials with {k} eggs and {n} floors: {egg_dropping(k, n)}\")"
   ]
  }
 ],
 "metadata": {
  "jupytext": {
   "cell_metadata_filter": "-all",
   "main_language": "python",
   "notebook_metadata_filter": "-all"
  }
 },
 "nbformat": 4,
 "nbformat_minor": 5
}
