{
 "cells": [
  {
   "cell_type": "markdown",
   "id": "95cbb007",
   "metadata": {
    "cell_marker": "\"\"\""
   },
   "source": [
    "LeetCode Problem 454: 4Sum II\n",
    "\n",
    "Source: LeetCode\n",
    "\n",
    "Difficulty: Medium\n",
    "\n",
    "Problem: Given four integer arrays A, B, C, and D all of length n, return the number of tuples (i, j, k, l) such that:\n",
    "\n",
    "    A[i] + B[j] + C[k] + D[l] == 0\n",
    "\n",
    "with 0 <= i, j, k, l < n.\n",
    "\n",
    "Approaches:\n",
    "1. Brute Force (O(n^4)): Try all possible quadruples.\n",
    "2. Hash Map (O(n^2)): Store pair sums from A and B in a dictionary,\n",
    "   then check for complementary sums from C and D."
   ]
  },
  {
   "cell_type": "code",
   "execution_count": null,
   "id": "7a1e8a64",
   "metadata": {},
   "outputs": [],
   "source": [
    "import time\n",
    "import tracemalloc"
   ]
  },
  {
   "cell_type": "markdown",
   "id": "49a14a0c",
   "metadata": {
    "lines_to_next_cell": 0
   },
   "source": [
    "-------------------------------------------------\n",
    "Approach 1: Brute Force (O(n^4))\n",
    "-------------------------------------------------"
   ]
  },
  {
   "cell_type": "code",
   "execution_count": null,
   "id": "0bfd29a4",
   "metadata": {},
   "outputs": [],
   "source": [
    "def fourSumCount_bruteforce(A, B, C, D):\n",
    "    count = 0\n",
    "    n = len(A)\n",
    "    for i in range(n):\n",
    "        for j in range(n):\n",
    "            for k in range(n):\n",
    "                for l in range(n):\n",
    "                    if A[i] + B[j] + C[k] + D[l] == 0:\n",
    "                        count += 1\n",
    "    return count"
   ]
  },
  {
   "cell_type": "markdown",
   "id": "3badec2c",
   "metadata": {
    "lines_to_next_cell": 0
   },
   "source": [
    "-------------------------------------------------\n",
    "Approach 2: Hash Map (O(n^2))\n",
    "-------------------------------------------------"
   ]
  },
  {
   "cell_type": "code",
   "execution_count": null,
   "id": "051251fb",
   "metadata": {},
   "outputs": [],
   "source": [
    "def fourSumCount_hashmap(A, B, C, D):\n",
    "    ab_sum = {}\n",
    "    for a in A:\n",
    "        for b in B:\n",
    "            ab_sum[a + b] = ab_sum.get(a + b, 0) + 1\n",
    "\n",
    "    count = 0\n",
    "    for c in C:\n",
    "        for d in D:\n",
    "            target = -(c + d)\n",
    "            if target in ab_sum:\n",
    "                count += ab_sum[target]\n",
    "    return count"
   ]
  },
  {
   "cell_type": "markdown",
   "id": "bdccc2df",
   "metadata": {
    "lines_to_next_cell": 0
   },
   "source": [
    "-------------------------------------------------\n",
    "Utility: Profiling Wrapper\n",
    "-------------------------------------------------"
   ]
  },
  {
   "cell_type": "code",
   "execution_count": null,
   "id": "8414c6df",
   "metadata": {},
   "outputs": [],
   "source": [
    "def run_with_profiling(func, *args):\n",
    "    tracemalloc.start()\n",
    "    start_time = time.perf_counter()\n",
    "    result = func(*args)\n",
    "    end_time = time.perf_counter()\n",
    "    current, peak = tracemalloc.get_traced_memory()\n",
    "    tracemalloc.stop()\n",
    "    return result, end_time - start_time, peak / 1024  # KB"
   ]
  },
  {
   "cell_type": "markdown",
   "id": "8e0fab8a",
   "metadata": {
    "lines_to_next_cell": 0
   },
   "source": [
    "-----------------------------\n",
    "Example Test Cases\n",
    "-----------------------------"
   ]
  },
  {
   "cell_type": "code",
   "execution_count": null,
   "id": "3a584a9e",
   "metadata": {},
   "outputs": [],
   "source": [
    "if __name__ == \"__main__\":\n",
    "    # Small Example\n",
    "    A = [1, 2]\n",
    "    B = [-2, -1]\n",
    "    C = [-1, 2]\n",
    "    D = [0, 2]\n",
    "    print(\"Expected: 2\")\n",
    "\n",
    "    for func in [fourSumCount_bruteforce, fourSumCount_hashmap]:\n",
    "        res, t, mem = run_with_profiling(func, A, B, C, D)\n",
    "        print(f\"{func.__name__:>25}: Result={res}, Time={t:.6f}s, PeakMem={mem:.1f}KB\")\n",
    "\n",
    "    print(\"\\n--- Performance Comparison ---\")\n",
    "    # Larger Example (n=50)\n",
    "    import random\n",
    "    random.seed(0)\n",
    "    A = [random.randint(-50, 50) for _ in range(50)]\n",
    "    B = [random.randint(-50, 50) for _ in range(50)]\n",
    "    C = [random.randint(-50, 50) for _ in range(50)]\n",
    "    D = [random.randint(-50, 50) for _ in range(50)]\n",
    "\n",
    "    for func in [fourSumCount_bruteforce, fourSumCount_hashmap]:\n",
    "        res, t, mem = run_with_profiling(func, A, B, C, D)\n",
    "        print(f\"{func.__name__:>25}: Result={res}, Time={t:.6f}s, PeakMem={mem:.1f}KB\")"
   ]
  }
 ],
 "metadata": {
  "jupytext": {
   "cell_metadata_filter": "-all",
   "main_language": "python",
   "notebook_metadata_filter": "-all"
  }
 },
 "nbformat": 4,
 "nbformat_minor": 5
}
