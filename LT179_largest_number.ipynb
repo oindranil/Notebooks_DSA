{
 "cells": [
  {
   "cell_type": "markdown",
   "id": "a94b81b2",
   "metadata": {
    "cell_marker": "\"\"\"",
    "lines_to_next_cell": 1
   },
   "source": [
    "Source: LeetCode\n",
    "\n",
    "Problem #: 179\n",
    "\n",
    "Title: Largest Number\n",
    "\n",
    "Difficulty: Medium\n",
    "\n",
    "Topic: Sort / Greedy\n",
    "\n",
    "Subtopic: Custom Comparator\n",
    "\n",
    "Logic:\n",
    "1. Convert all numbers to strings.\n",
    "2. Sort all pairs using custom comparison: for x and y, x+y > y+x → x before y.\n",
    "3. Join strings to form the largest number.\n",
    "4. Handle edge case: all zeros → \"0\"."
   ]
  },
  {
   "cell_type": "code",
   "execution_count": null,
   "id": "2556d55f",
   "metadata": {},
   "outputs": [],
   "source": [
    "def largestNumber(nums):\n",
    "    nums_str = [str(num) for num in nums]\n",
    "\n",
    "    # Insertion sort with custom comparator\n",
    "    for i in range(1, len(nums_str)):\n",
    "        key = nums_str[i]\n",
    "        j = i - 1\n",
    "        while j >= 0 and key + nums_str[j] > nums_str[j] + key:\n",
    "            nums_str[j+1] = nums_str[j]\n",
    "            j -= 1\n",
    "        nums_str[j+1] = key\n",
    "\n",
    "    result = ''.join(nums_str)\n",
    "    if result[0] == '0':\n",
    "        return '0'\n",
    "    return result"
   ]
  },
  {
   "cell_type": "markdown",
   "id": "bceb6d91",
   "metadata": {
    "lines_to_next_cell": 0
   },
   "source": [
    "-----------------------------\n",
    "Example Test Cases\n",
    "-----------------------------"
   ]
  },
  {
   "cell_type": "code",
   "execution_count": null,
   "id": "b3a9e04c",
   "metadata": {
    "lines_to_next_cell": 2
   },
   "outputs": [],
   "source": [
    "if __name__ == \"__main__\":\n",
    "    nums = [3,30,34,5,9]\n",
    "    print(\"Expected: 9534330, Got:\", largestNumber(nums))\n",
    "\n",
    "    nums = [10,2]\n",
    "    print(\"Expected: 210, Got:\", largestNumber(nums))\n",
    "\n",
    "    nums = [1]\n",
    "    print(\"Expected: 1, Got:\", largestNumber(nums))\n",
    "\n",
    "    nums = [0,0]\n",
    "    print(\"Expected: 0, Got:\", largestNumber(nums))"
   ]
  }
 ],
 "metadata": {
  "jupytext": {
   "cell_metadata_filter": "-all",
   "main_language": "python",
   "notebook_metadata_filter": "-all"
  }
 },
 "nbformat": 4,
 "nbformat_minor": 5
}
