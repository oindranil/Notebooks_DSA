{
 "cells": [
  {
   "cell_type": "markdown",
   "id": "7b48a661",
   "metadata": {
    "cell_marker": "\"\"\"",
    "lines_to_next_cell": 1
   },
   "source": [
    "Source: LeetCode\n",
    "\n",
    "Problem #: 875\n",
    "\n",
    "Title: Koko Eating Bananas\n",
    "\n",
    "Difficulty: Medium\n",
    "\n",
    "Topic: Search (Binary Search on k)\n",
    "\n",
    "Description:\n",
    "\n",
    "Koko loves to eat bananas. There are n piles of bananas, the i-th pile has piles[i] bananas.\n",
    "\n",
    "The guards have gone and will come back in H hours. Koko can decide her eating speed k bananas/hour.\n",
    "\n",
    "Each hour she chooses some pile and eats up to k bananas. If the pile has fewer than k bananas, she eats all of them instead and does not continue in the same hour. \n",
    "\n",
    "Return the minimum integer k such that she can eat all the bananas within H hours.\n",
    "\n",
    "Logic:\n",
    "1. The possible eating speeds range from 1 to max(piles).\n",
    "2. For a given speed k, compute hours = sum(ceil(pile/k)).\n",
    "3. Use binary search on k:\n",
    "   - If hours <= H → feasible → try smaller speed.\n",
    "   - Else → increase speed.\n",
    "4. Answer is the smallest feasible k.\n",
    "\n",
    "Time Complexity: O(n log(max(piles)))\n",
    "\n",
    "Space Complexity: O(1)"
   ]
  },
  {
   "cell_type": "code",
   "execution_count": null,
   "id": "06663177",
   "metadata": {
    "lines_to_next_cell": 1
   },
   "outputs": [],
   "source": [
    "def minEatingSpeed(piles, h):\n",
    "    left, right = 1, max(piles)\n",
    "    \n",
    "    while left < right:\n",
    "        mid = left + (right - left) // 2\n",
    "        hours = 0\n",
    "        for pile in piles:\n",
    "            hours += (pile + mid - 1) // mid\n",
    "            if hours > h:\n",
    "                break\n",
    "        \n",
    "        if hours <= h:\n",
    "            right = mid\n",
    "        else:\n",
    "            left = mid + 1\n",
    "    return left"
   ]
  },
  {
   "cell_type": "code",
   "execution_count": null,
   "id": "8d0b0e14",
   "metadata": {},
   "outputs": [],
   "source": [
    "if __name__ == \"__main__\":\n",
    "    piles, H = [3,6,7,11], 8\n",
    "    print(\"Expected: 4, Got:\", minEatingSpeed(piles, H))\n",
    "\n",
    "    piles, H = [30,11,23,4,20], 5\n",
    "    print(\"Expected: 30, Got:\", minEatingSpeed(piles, H))\n",
    "\n",
    "    piles, H = [30,11,23,4,20], 6\n",
    "    print(\"Expected: 23, Got:\", minEatingSpeed(piles, H))\n",
    "\n",
    "    piles, H = [312884470], 312884469\n",
    "    print(\"Expected: 2, Got:\", minEatingSpeed(piles, H))"
   ]
  }
 ],
 "metadata": {
  "jupytext": {
   "cell_metadata_filter": "-all",
   "main_language": "python",
   "notebook_metadata_filter": "-all"
  }
 },
 "nbformat": 4,
 "nbformat_minor": 5
}
