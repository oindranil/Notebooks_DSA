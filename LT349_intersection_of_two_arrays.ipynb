{
 "cells": [
  {
   "cell_type": "markdown",
   "id": "ed65e9d8",
   "metadata": {
    "cell_marker": "\"\"\""
   },
   "source": [
    "LeetCode 349: Intersection of Two Arrays\n",
    "\n",
    "Three Approaches:\n",
    "1. Brute Force (O(n * m), O(min(n, m)) space)\n",
    "2. Hash Set (O(n + m), O(n + m) space)\n",
    "3. Sorting + Two Pointers (O(n log n + m log m), O(1) space excluding output)\n",
    "\n",
    "We profile execution time and memory usage for both small and large test cases."
   ]
  },
  {
   "cell_type": "code",
   "execution_count": null,
   "id": "5cfc3ba3",
   "metadata": {
    "lines_to_next_cell": 1
   },
   "outputs": [],
   "source": [
    "import time\n",
    "import tracemalloc\n",
    "import random"
   ]
  },
  {
   "cell_type": "markdown",
   "id": "d0b33cc2",
   "metadata": {
    "lines_to_next_cell": 0
   },
   "source": [
    "-----------------------------------------------------\n",
    "Approach 1: Brute Force\n",
    "-----------------------------------------------------"
   ]
  },
  {
   "cell_type": "code",
   "execution_count": null,
   "id": "e28f3d0b",
   "metadata": {
    "lines_to_next_cell": 1
   },
   "outputs": [],
   "source": [
    "def intersection_1(nums1, nums2):\n",
    "    res = set()\n",
    "    for x in nums1:\n",
    "        for y in nums2:\n",
    "            if x == y:\n",
    "                res.add(x)\n",
    "    return list(res)"
   ]
  },
  {
   "cell_type": "markdown",
   "id": "244eb0e7",
   "metadata": {
    "lines_to_next_cell": 0
   },
   "source": [
    "-----------------------------------------------------\n",
    "Approach 2: Hash Set\n",
    "-----------------------------------------------------"
   ]
  },
  {
   "cell_type": "code",
   "execution_count": null,
   "id": "316533ea",
   "metadata": {
    "lines_to_next_cell": 1
   },
   "outputs": [],
   "source": [
    "def intersection_2(nums1, nums2):\n",
    "    return list(set(nums1) & set(nums2))"
   ]
  },
  {
   "cell_type": "markdown",
   "id": "f26efa53",
   "metadata": {
    "lines_to_next_cell": 0
   },
   "source": [
    "-----------------------------------------------------\n",
    "Approach 3: Sorting + Two Pointers\n",
    "-----------------------------------------------------"
   ]
  },
  {
   "cell_type": "code",
   "execution_count": null,
   "id": "ddb2b723",
   "metadata": {
    "lines_to_next_cell": 1
   },
   "outputs": [],
   "source": [
    "def intersection_3(nums1, nums2):\n",
    "    nums1.sort()\n",
    "    nums2.sort()\n",
    "    i = j = 0\n",
    "    res = set()\n",
    "    while i < len(nums1) and j < len(nums2):\n",
    "        if nums1[i] == nums2[j]:\n",
    "            res.add(nums1[i])\n",
    "            i += 1\n",
    "            j += 1\n",
    "        elif nums1[i] < nums2[j]:\n",
    "            i += 1\n",
    "        else:\n",
    "            j += 1\n",
    "    return list(res)"
   ]
  },
  {
   "cell_type": "markdown",
   "id": "f3821b7e",
   "metadata": {
    "lines_to_next_cell": 0
   },
   "source": [
    "-----------------------------------------------------\n",
    "Utility: profiling function\n",
    "-----------------------------------------------------"
   ]
  },
  {
   "cell_type": "code",
   "execution_count": null,
   "id": "ccd6dc06",
   "metadata": {
    "lines_to_next_cell": 1
   },
   "outputs": [],
   "source": [
    "def profile(func, nums1, nums2):\n",
    "    tracemalloc.start()\n",
    "    start_time = time.time()\n",
    "    result = func(nums1[:], nums2[:])  # pass copies to avoid mutation\n",
    "    end_time = time.time()\n",
    "    current, peak = tracemalloc.get_traced_memory()\n",
    "    tracemalloc.stop()\n",
    "    return result, (end_time - start_time), peak / 10**6  # MB"
   ]
  },
  {
   "cell_type": "markdown",
   "id": "64b87053",
   "metadata": {
    "lines_to_next_cell": 0
   },
   "source": [
    "-----------------------------------------------------\n",
    "Example Test Cases\n",
    "-----------------------------------------------------"
   ]
  },
  {
   "cell_type": "code",
   "execution_count": null,
   "id": "d71fb771",
   "metadata": {},
   "outputs": [],
   "source": [
    "if __name__ == \"__main__\":\n",
    "    print(\"# -----------------------------\")\n",
    "    print(\"# Small Test Case\")\n",
    "    print(\"# -----------------------------\")\n",
    "    nums1 = [1, 2, 2, 1]\n",
    "    nums2 = [2, 2]\n",
    "    expected = [2]\n",
    "\n",
    "    print(\"Input nums1:\", nums1)\n",
    "    print(\"Input nums2:\", nums2)\n",
    "    print(\"Expected:\", expected)\n",
    "    print()\n",
    "\n",
    "    funcs = [intersection_1, intersection_2, intersection_3]\n",
    "    for i, f in enumerate(funcs, 1):\n",
    "        result, t, m = profile(f, nums1, nums2)\n",
    "        print(f\"Approach {i}: Result={result}, Time={t:.6f}s, Memory={m:.6f} MB\")\n",
    "\n",
    "    print(\"\\n# -----------------------------\")\n",
    "    print(\"# Large Test Case (performance)\")\n",
    "    print(\"# -----------------------------\")\n",
    "\n",
    "    # Large arrays with overlap\n",
    "    nums1 = random.sample(range(1, 100000), 1000)  # 50k unique numbers\n",
    "    nums2 = random.sample(range(1, 100000), 1000)  # another 50k\n",
    "\n",
    "    for i, f in enumerate(funcs, 1):\n",
    "        result, t, m = profile(f, nums1, nums2)\n",
    "        print(f\"Approach {i}: Size={len(result)}, Time={t:.6f}s, Memory={m:.6f} MB\")"
   ]
  }
 ],
 "metadata": {
  "jupytext": {
   "cell_metadata_filter": "-all",
   "main_language": "python",
   "notebook_metadata_filter": "-all"
  }
 },
 "nbformat": 4,
 "nbformat_minor": 5
}
