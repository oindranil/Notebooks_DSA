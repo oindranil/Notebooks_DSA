{
 "cells": [
  {
   "cell_type": "code",
   "execution_count": null,
   "id": "c45a76b6",
   "metadata": {
    "lines_to_next_cell": 1
   },
   "outputs": [],
   "source": [
    "# program: coin change with reconstruction\n",
    "#\n",
    "# topic: dynamic programming\n",
    "#\n",
    "# problem id: leetcode 322\n",
    "#\n",
    "# url: https://leetcode.com/problems/coin-change/\n",
    "#\n",
    "# description:\n",
    "# Given coins of different denominations and a total amount,\n",
    "# find the minimum number of coins needed to make up that amount.\n",
    "# Return -1 if it's not possible.\n",
    "# Also print the actual set of coins used.\n",
    "#\n",
    "# algorithm:\n",
    "# Dynamic Programming (Bottom-Up, Tabulation).\n",
    "# dp[x] = minimum coins needed to make amount x.\n",
    "# parent[x] = last coin chosen to reach x.\n",
    "# Transition: dp[x] = min(dp[x], dp[x - coin] + 1) for each coin.\n",
    "# After filling dp[], backtrack from amount to reconstruct coins.\n",
    "# Time complexity: O(amount * len(coins))\n",
    "# Space complexity: O(amount)\n",
    "\n",
    "from typing import List\n",
    "\n",
    "def coinChange(coins: List[int], amount: int) -> int:\n",
    "    dp = [amount + 1] * (amount + 1)\n",
    "    parent = [-1] * (amount + 1)  # to track chosen coins\n",
    "    dp[0] = 0\n",
    "    \n",
    "    for x in range(1, amount + 1):\n",
    "        for coin in coins:\n",
    "            if coin <= x and dp[x - coin] + 1 < dp[x]:\n",
    "                dp[x] = dp[x - coin] + 1\n",
    "                parent[x] = coin  # record the coin used\n",
    "    \n",
    "    if dp[amount] == amount + 1:\n",
    "        return -1, []\n",
    "    \n",
    "    # reconstruct coins from parent[]\n",
    "    res_coins = []\n",
    "    curr = amount\n",
    "    while curr > 0 and parent[curr] != -1:\n",
    "        res_coins.append(parent[curr])\n",
    "        curr -= parent[curr]\n",
    "    \n",
    "    return dp[amount], res_coins"
   ]
  },
  {
   "cell_type": "code",
   "execution_count": null,
   "id": "1e30767f",
   "metadata": {},
   "outputs": [],
   "source": [
    "# example run\n",
    "coins = [1, 2, 5]\n",
    "amount = 11\n",
    "min_coins, chosen = coinChange(coins, amount)\n",
    "print(\"Coins:\", coins)\n",
    "print(\"Amount:\", amount)\n",
    "print(\"Minimum coins required:\", min_coins)   # Expected: 3\n",
    "print(\"Coins chosen:\", chosen)                # Expected: [5, 5, 1]"
   ]
  }
 ],
 "metadata": {
  "jupytext": {
   "cell_metadata_filter": "-all",
   "main_language": "python",
   "notebook_metadata_filter": "-all"
  }
 },
 "nbformat": 4,
 "nbformat_minor": 5
}
