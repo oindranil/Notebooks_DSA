{
 "cells": [
  {
   "cell_type": "code",
   "execution_count": null,
   "id": "d70346bf",
   "metadata": {
    "lines_to_next_cell": 0
   },
   "outputs": [],
   "source": [
    "# program: Dice Throw Problem\n",
    "#\n",
    "# topic: Dynamic Programming\n",
    "#\n",
    "# subtopic: Dice Sum / Multi-dimensional DP\n",
    "#\n",
    "# source: GeeksForGeeks\n",
    "#\n",
    "# url: https://www.geeksforgeeks.org/dice-throw-dp-30/\n",
    "#\n",
    "# description:\n",
    "#\n",
    "# Given N dice, each with F faces (numbered 1…F), count the number of ways\n",
    "#\n",
    "# to get a total sum = X when all dice are thrown.\n",
    "#\n",
    "#\n",
    "# logic (DP):\n",
    "#\n",
    "# Let dp[i][j] = number of ways to get sum j using i dice.\n",
    "#\n",
    "# Base: dp[0][0] = 1 (0 dice → sum 0 in exactly 1 way)\n",
    "#\n",
    "# Transition:\n",
    "#\n",
    "#   For each face value f from 1 to F:\n",
    "#\n",
    "#     if j - f ≥ 0:\n",
    "#\n",
    "#       dp[i][j] += dp[i - 1][j - f]\n",
    "#\n",
    "#\n",
    "# Time complexity: O(N * X * F)\n",
    "#\n",
    "# Space complexity: O(N * X) → can be optimized to O(X)\n",
    "#"
   ]
  },
  {
   "cell_type": "code",
   "execution_count": null,
   "id": "164f1d3b",
   "metadata": {
    "lines_to_next_cell": 1
   },
   "outputs": [],
   "source": [
    "def dice_throw(n: int, f: int, x: int) -> int:\n",
    "    # dp[i][j] = ways to get sum j using i dice\n",
    "    dp = [[0] * (x + 1) for _ in range(n + 1)]\n",
    "    dp[0][0] = 1  # 0 dice, sum 0 has 1 way\n",
    "\n",
    "    for i in range(1, n + 1):\n",
    "        for target_sum in range(1, x + 1):\n",
    "            ways = 0\n",
    "            for face in range(1, f + 1):\n",
    "                if target_sum - face >= 0:\n",
    "                    ways += dp[i - 1][target_sum - face]\n",
    "            dp[i][target_sum] = ways\n",
    "\n",
    "    return dp[n][x]"
   ]
  },
  {
   "cell_type": "code",
   "execution_count": null,
   "id": "30ef2e10",
   "metadata": {},
   "outputs": [],
   "source": [
    "if __name__ == \"__main__\":\n",
    "    N = 3  # number of dice\n",
    "    F = 4  # faces per die\n",
    "    X = 5  # target sum\n",
    "    print(f\"N = {N}, F = {F}, target sum = {X}\")\n",
    "    print(\"Number of ways:\", dice_throw(N, F, X))"
   ]
  }
 ],
 "metadata": {
  "jupytext": {
   "cell_metadata_filter": "-all",
   "main_language": "python",
   "notebook_metadata_filter": "-all"
  }
 },
 "nbformat": 4,
 "nbformat_minor": 5
}
