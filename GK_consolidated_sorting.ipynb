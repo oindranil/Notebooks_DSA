{
 "cells": [
  {
   "cell_type": "markdown",
   "id": "ff291d96",
   "metadata": {
    "cell_marker": "\"\"\""
   },
   "source": [
    "program: consolidated sorting\n",
    "\n",
    "topic: sorting\n",
    "\n",
    "subtopic: sorting algorithms\n",
    "\n",
    "source: GeeksForGeeks\n",
    "\n",
    "problem #: N/A (consolidated)\n",
    "\n",
    "description: Collection of five classic sorting algorithms with profiling (Bubble, Insertion, Selection, Merge, Quick Sort).\n",
    "\n",
    "difficulty: Easy/Medium\n",
    "\n",
    "URL: [GfG Sorting Algorithms](https://www.geeksforgeeks.org/sorting-algorithms/)"
   ]
  },
  {
   "cell_type": "code",
   "execution_count": null,
   "id": "54f8123a",
   "metadata": {},
   "outputs": [],
   "source": [
    "# Import required modules\n",
    "import random\n",
    "import time\n",
    "import tracemalloc\n",
    "import pandas as pd"
   ]
  },
  {
   "cell_type": "code",
   "execution_count": null,
   "id": "4bb4413e",
   "metadata": {
    "lines_to_next_cell": 1
   },
   "outputs": [],
   "source": [
    "# Generate a reasonably large random array for testing\n",
    "random.seed(42)\n",
    "nums_original = [random.randint(1, 1000) for _ in range(500)]"
   ]
  },
  {
   "cell_type": "code",
   "execution_count": null,
   "id": "504d6933",
   "metadata": {
    "lines_to_next_cell": 1
   },
   "outputs": [],
   "source": [
    "# -----------------------------\n",
    "# Bubble Sort\n",
    "# -----------------------------\n",
    "def bubble_sort(arr):\n",
    "    arr = arr.copy()\n",
    "    n = len(arr)\n",
    "    for i in range(n):\n",
    "        for j in range(0, n-i-1):\n",
    "            if arr[j] > arr[j+1]:\n",
    "                arr[j], arr[j+1] = arr[j+1], arr[j]\n",
    "    return arr"
   ]
  },
  {
   "cell_type": "code",
   "execution_count": null,
   "id": "d5527128",
   "metadata": {
    "lines_to_next_cell": 1
   },
   "outputs": [],
   "source": [
    "# -----------------------------\n",
    "# Insertion Sort\n",
    "# -----------------------------\n",
    "def insertion_sort(arr):\n",
    "    arr = arr.copy()\n",
    "    for i in range(1, len(arr)):\n",
    "        key = arr[i]\n",
    "        j = i-1\n",
    "        while j >=0 and arr[j] > key:\n",
    "            arr[j+1] = arr[j]\n",
    "            j -= 1\n",
    "        arr[j+1] = key\n",
    "    return arr"
   ]
  },
  {
   "cell_type": "code",
   "execution_count": null,
   "id": "62654447",
   "metadata": {
    "lines_to_next_cell": 1
   },
   "outputs": [],
   "source": [
    "# -----------------------------\n",
    "# Selection Sort\n",
    "# -----------------------------\n",
    "def selection_sort(arr):\n",
    "    arr = arr.copy()\n",
    "    n = len(arr)\n",
    "    for i in range(n):\n",
    "        min_idx = i\n",
    "        for j in range(i+1, n):\n",
    "            if arr[j] < arr[min_idx]:\n",
    "                min_idx = j\n",
    "        arr[i], arr[min_idx] = arr[min_idx], arr[i]\n",
    "    return arr"
   ]
  },
  {
   "cell_type": "code",
   "execution_count": null,
   "id": "ecaa70cb",
   "metadata": {
    "lines_to_next_cell": 1
   },
   "outputs": [],
   "source": [
    "# -----------------------------\n",
    "# Merge Sort\n",
    "# -----------------------------\n",
    "def merge_sort(arr):\n",
    "    arr = arr.copy()\n",
    "    if len(arr) <= 1:\n",
    "        return arr\n",
    "    mid = len(arr)//2\n",
    "    left = merge_sort(arr[:mid])\n",
    "    right = merge_sort(arr[mid:])\n",
    "    return merge(left, right)\n",
    "\n",
    "def merge(left, right):\n",
    "    result = []\n",
    "    i = j = 0\n",
    "    while i<len(left) and j<len(right):\n",
    "        if left[i] < right[j]:\n",
    "            result.append(left[i])\n",
    "            i += 1\n",
    "        else:\n",
    "            result.append(right[j])\n",
    "            j += 1\n",
    "    result.extend(left[i:])\n",
    "    result.extend(right[j:])\n",
    "    return result"
   ]
  },
  {
   "cell_type": "code",
   "execution_count": null,
   "id": "6e177b6c",
   "metadata": {
    "lines_to_next_cell": 1
   },
   "outputs": [],
   "source": [
    "# -----------------------------\n",
    "# Quick Sort\n",
    "# -----------------------------\n",
    "def quick_sort(arr):\n",
    "    arr = arr.copy()\n",
    "    if len(arr) <= 1:\n",
    "        return arr\n",
    "    pivot = arr[len(arr)//2]\n",
    "    left = [x for x in arr if x < pivot]\n",
    "    middle = [x for x in arr if x == pivot]\n",
    "    right = [x for x in arr if x > pivot]\n",
    "    return quick_sort(left) + middle + quick_sort(right)"
   ]
  },
  {
   "cell_type": "code",
   "execution_count": null,
   "id": "1e4512b8",
   "metadata": {
    "lines_to_next_cell": 1
   },
   "outputs": [],
   "source": [
    "# -----------------------------\n",
    "# Profiling function for all sorts\n",
    "# -----------------------------\n",
    "def profile_sorting(func, arr):\n",
    "    tracemalloc.start()\n",
    "    start_time = time.time()\n",
    "    result = func(arr)\n",
    "    end_time = time.time()\n",
    "    current, peak = tracemalloc.get_traced_memory()\n",
    "    tracemalloc.stop()\n",
    "    return result, end_time-start_time, peak/1024  # time in seconds, memory in KB"
   ]
  },
  {
   "cell_type": "code",
   "execution_count": null,
   "id": "fba4d5d7",
   "metadata": {},
   "outputs": [],
   "source": [
    "# Run profiling for all five sorts\n",
    "sort_funcs = [bubble_sort, insertion_sort, selection_sort, merge_sort, quick_sort]\n",
    "results = []\n",
    "\n",
    "for func in sort_funcs:\n",
    "    res, t, mem = profile_sorting(func, nums_original)\n",
    "    print(f\"{func.__name__:15} | Time: {t:.6f}s | Peak Memory: {mem:.2f} KB | Correct: {res == sorted(nums_original)}\")\n",
    "    results.append({\n",
    "        \"Algorithm\": func.__name__,\n",
    "        \"Time(s)\": round(t, 6),\n",
    "        \"Peak Memory(KB)\": round(mem, 2),\n",
    "        \"Is Sorted Correctly\": res == sorted(nums_original)\n",
    "    })"
   ]
  }
 ],
 "metadata": {
  "jupytext": {
   "cell_metadata_filter": "-all",
   "main_language": "python",
   "notebook_metadata_filter": "-all"
  }
 },
 "nbformat": 4,
 "nbformat_minor": 5
}
