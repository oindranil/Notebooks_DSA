{
 "cells": [
  {
   "cell_type": "markdown",
   "id": "fbc7efbe",
   "metadata": {
    "cell_marker": "\"\"\"",
    "lines_to_next_cell": 0
   },
   "source": [
    " Problem 1: Two Sum\n",
    "\n",
    " Source: LeetCode\n",
    "\n",
    " Difficulty: Easy\n",
    "\n",
    " Three Approaches:\n",
    " 1. Brute Force\n",
    "    - Time Complexity: O(n^2)  (check all pairs)\n",
    "    - Space Complexity: O(1)   (no extra data structures)\n",
    "\n",
    " 2. Sorting + Two Pointers\n",
    "    - Time Complexity: O(n log n)  (sort the array)\n",
    "    - Space Complexity: O(n)       (store original indices)\n",
    "\n",
    " 3. Hash Map\n",
    "    - Time Complexity: O(n)  (traverse once, hash lookups in O(1) avg)\n",
    "    - Space Complexity: O(n)  (store elements in hash map)\n",
    "\n",
    " This script runs all three, compares results, time, memory."
   ]
  },
  {
   "cell_type": "code",
   "execution_count": null,
   "id": "230402a3",
   "metadata": {
    "lines_to_next_cell": 1
   },
   "outputs": [],
   "source": [
    "import random\n",
    "import time\n",
    "import tracemalloc"
   ]
  },
  {
   "cell_type": "markdown",
   "id": "4e94413f",
   "metadata": {},
   "source": [
    "-----------------------------------------------------------\n",
    "1. Brute Force\n",
    "-----------------------------------------------------------"
   ]
  },
  {
   "cell_type": "code",
   "execution_count": null,
   "id": "c2c21f70",
   "metadata": {
    "lines_to_next_cell": 1
   },
   "outputs": [],
   "source": [
    "def twoSum_bruteforce(nums, target):\n",
    "    n = len(nums)\n",
    "    for i in range(n):\n",
    "        for j in range(i+1, n):\n",
    "            if nums[i] + nums[j] == target:\n",
    "                return [i, j]\n",
    "    return []"
   ]
  },
  {
   "cell_type": "markdown",
   "id": "8e671e0e",
   "metadata": {
    "lines_to_next_cell": 0
   },
   "source": [
    "-----------------------------------------------------------\n",
    "2. Sorting + Two Pointers\n",
    "-----------------------------------------------------------"
   ]
  },
  {
   "cell_type": "code",
   "execution_count": null,
   "id": "198a6a49",
   "metadata": {
    "lines_to_next_cell": 1
   },
   "outputs": [],
   "source": [
    "def twoSum_sort_twopointers(nums, target):\n",
    "    # Store nums with original indices\n",
    "    nums_with_index = list(enumerate(nums))\n",
    "    nums_with_index.sort(key=lambda x: x[1])  # sort by value\n",
    "\n",
    "    left, right = 0, len(nums) - 1\n",
    "    while left < right:\n",
    "        curr_sum = nums_with_index[left][1] + nums_with_index[right][1]\n",
    "        if curr_sum == target:\n",
    "            return [nums_with_index[left][0], nums_with_index[right][0]]\n",
    "        elif curr_sum < target:\n",
    "            left += 1\n",
    "        else:\n",
    "            right -= 1\n",
    "    return []"
   ]
  },
  {
   "cell_type": "markdown",
   "id": "729c2240",
   "metadata": {
    "lines_to_next_cell": 0
   },
   "source": [
    "-----------------------------------------------------------\n",
    "3. Hash Map\n",
    "-----------------------------------------------------------"
   ]
  },
  {
   "cell_type": "code",
   "execution_count": null,
   "id": "ce6d0da9",
   "metadata": {},
   "outputs": [],
   "source": [
    "def twoSum_hashmap(nums, target):\n",
    "    lookup = {}\n",
    "    for i, num in enumerate(nums):\n",
    "        complement = target - num\n",
    "        if complement in lookup:\n",
    "            return [lookup[complement], i]\n",
    "        lookup[num] = i\n",
    "    return []"
   ]
  },
  {
   "cell_type": "markdown",
   "id": "258fa421",
   "metadata": {
    "lines_to_next_cell": 0
   },
   "source": [
    "-----------------------------------------------------------\n",
    "Utility to measure time and memory\n",
    "-----------------------------------------------------------"
   ]
  },
  {
   "cell_type": "code",
   "execution_count": null,
   "id": "bedfda42",
   "metadata": {},
   "outputs": [],
   "source": [
    "def run_with_profiling(func, nums, target):\n",
    "    tracemalloc.start()\n",
    "    start = time.perf_counter()\n",
    "    result = func(nums, target)\n",
    "    end = time.perf_counter()\n",
    "    current, peak = tracemalloc.get_traced_memory()\n",
    "    tracemalloc.stop()\n",
    "    return result, end - start, peak / 1024  # memory in KB"
   ]
  },
  {
   "cell_type": "markdown",
   "id": "ff8a8414",
   "metadata": {
    "lines_to_next_cell": 0
   },
   "source": [
    "-----------------------------------------------------------\n",
    "Main Driver\n",
    "-----------------------------------------------------------"
   ]
  },
  {
   "cell_type": "code",
   "execution_count": null,
   "id": "29877801",
   "metadata": {},
   "outputs": [],
   "source": [
    "if __name__ == \"__main__\":\n",
    "    \n",
    "    # Seed for reproducibility\n",
    "    random.seed(42)\n",
    "\n",
    "    n = 100\n",
    "    nums = [random.randint(1, 10000) for _ in range(n)]\n",
    "    \n",
    "    # Pick two random indices and compute target\n",
    "    i, j = random.sample(range(n), 2)\n",
    "    target = nums[i] + nums[j]\n",
    "    expected = [i, j]\n",
    "    \n",
    "    print(f\"Array size: {n}, target = nums[{i}] + nums[{j}] = {target}\")\n",
    "\n",
    "    print(\"Expected:\", expected)\n",
    "    print(\"-\" * 60)\n",
    "\n",
    "    algorithms = [\n",
    "        (\"Brute Force\", twoSum_bruteforce),\n",
    "        (\"Sort + Two Pointers\", twoSum_sort_twopointers),\n",
    "        (\"Hash Map\", twoSum_hashmap)\n",
    "    ]\n",
    "\n",
    "    print(f\"{'Algorithm':<20} {'Result':<15} {'Time (s)':<12} {'Memory (KB)':<12}\")\n",
    "    print(\"-\" * 60)\n",
    "\n",
    "    for name, func in algorithms:\n",
    "        result, elapsed, mem = run_with_profiling(func, nums, target)\n",
    "        print(f\"{name:<20} {str(result):<15} {elapsed:<12.6f} {mem:<12.2f}\")"
   ]
  }
 ],
 "metadata": {
  "jupytext": {
   "cell_metadata_filter": "-all",
   "main_language": "python",
   "notebook_metadata_filter": "-all"
  }
 },
 "nbformat": 4,
 "nbformat_minor": 5
}
