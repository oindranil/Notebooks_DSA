{
 "cells": [
  {
   "cell_type": "markdown",
   "id": "9fb3fca6",
   "metadata": {
    "cell_marker": "\"\"\"",
    "lines_to_next_cell": 0
   },
   "source": [
    "Source: LeetCode\n",
    "\n",
    "Problem #: 56\n",
    "\n",
    "Title: Merge Intervals\n",
    "\n",
    "Difficulty: Medium\n",
    "\n",
    "Topic: Sort / Interval\n",
    "\n",
    "Subtopic: Merging Intervals\n",
    "\n",
    "Description: Given a collection of intervals, merge all overlapping intervals.\n",
    "\n",
    "Logic:\n",
    "1. Sort intervals by start time.\n",
    "2. Initialize an empty merged list.\n",
    "3. Iterate through intervals:\n",
    "   - If merged is empty or current interval does not overlap last → append.\n",
    "   - Else, merge by updating last interval's end to max(last_end, current_end).\n",
    "4. Return merged list.\n",
    "\n",
    "Time Complexity: O(n log n) due to sorting\n",
    "\n",
    "Space Complexity: O(n) for the output list"
   ]
  },
  {
   "cell_type": "code",
   "execution_count": null,
   "id": "30975ab8",
   "metadata": {
    "lines_to_next_cell": 1
   },
   "outputs": [],
   "source": [
    "def merge(intervals):\n",
    "    if not intervals:\n",
    "        return []\n",
    "\n",
    "    # Sort by start times\n",
    "    intervals.sort(key=lambda x: x[0])\n",
    "    merged = []\n",
    "\n",
    "    for interval in intervals:\n",
    "        if not merged or interval[0] > merged[-1][1]:\n",
    "            merged.append(interval)\n",
    "        else:\n",
    "            merged[-1][1] = max(merged[-1][1], interval[1])\n",
    "\n",
    "    return merged"
   ]
  },
  {
   "cell_type": "code",
   "execution_count": null,
   "id": "75c9c6db",
   "metadata": {
    "lines_to_next_cell": 0,
    "title": "[Markdown]"
   },
   "outputs": [],
   "source": [
    "# -----------------------------\n",
    "# Example Test Cases\n",
    "# -----------------------------"
   ]
  },
  {
   "cell_type": "code",
   "execution_count": null,
   "id": "c78b582d",
   "metadata": {},
   "outputs": [],
   "source": [
    "if __name__ == \"__main__\":\n",
    "    # Test case 1\n",
    "    intervals = [[1,3],[2,6],[8,10],[15,18]]\n",
    "    print(\"Expected: [[1,6],[8,10],[15,18]], Got:\", merge(intervals))\n",
    "\n",
    "    # Test case 2\n",
    "    intervals = [[1,4],[4,5]]\n",
    "    print(\"Expected: [[1,5]], Got:\", merge(intervals))\n",
    "\n",
    "    # Test case 3\n",
    "    intervals = [[1,4],[0,2],[3,5]]\n",
    "    print(\"Expected: [[0,5]], Got:\", merge(intervals))\n",
    "\n",
    "    # Test case 4 (no intervals)\n",
    "    intervals = []\n",
    "    print(\"Expected: [], Got:\", merge(intervals))\n",
    "\n",
    "    # Test case 5 (single interval)\n",
    "    intervals = [[1,4]]\n",
    "    print(\"Expected: [[1,4]], Got:\", merge(intervals))"
   ]
  }
 ],
 "metadata": {
  "jupytext": {
   "cell_metadata_filter": "title,-all",
   "main_language": "python",
   "notebook_metadata_filter": "-all"
  }
 },
 "nbformat": 4,
 "nbformat_minor": 5
}
