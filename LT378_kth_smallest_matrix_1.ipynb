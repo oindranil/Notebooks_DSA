{
 "cells": [
  {
   "cell_type": "markdown",
   "id": "893a286f",
   "metadata": {
    "cell_marker": "\"\"\""
   },
   "source": [
    "Source: LeetCode\n",
    "\n",
    "Problem #: 378\n",
    "\n",
    "Title: Kth Smallest Element in a Sorted Matrix\n",
    "\n",
    "Difficulty: Hard\n",
    "\n",
    "Topic: Heap / Binary Search\n",
    "\n",
    "Subtopic: Matrix Search\n",
    "\n",
    "Description: Given an n x n matrix where each of the rows and columns are sorted in ascending order, return the kth smallest element in the matrix.\n",
    "\n",
    "Note: It is the kth smallest element in the sorted order, not the kth distinct element.\n",
    "\n",
    "Logic (Min-Heap Approach):\n",
    "1. Initialize a min-heap with the first element of each row (value, row, col).\n",
    "2. Pop from heap k times:\n",
    "   - Each time, if the popped element has a right neighbor, push it into the heap.\n",
    "3. The kth popped element is the answer.\n",
    "\n",
    "Time Complexity: O(k log n)\n",
    "\n",
    "Space Complexity: O(n)"
   ]
  },
  {
   "cell_type": "code",
   "execution_count": null,
   "id": "7d6990c6",
   "metadata": {},
   "outputs": [],
   "source": [
    "import heapq\n",
    "\n",
    "def kthSmallest(matrix, k):\n",
    "    n = len(matrix)\n",
    "    min_heap = []\n",
    "\n",
    "    # Step 1: Push first element of each row\n",
    "    for r in range(n):\n",
    "        heapq.heappush(min_heap, (matrix[r][0], r, 0))\n",
    "\n",
    "    # Step 2: Extract min k times\n",
    "    count = 0\n",
    "    while min_heap:\n",
    "        val, r, c = heapq.heappop(min_heap)\n",
    "        count += 1\n",
    "        if count == k:\n",
    "            return val\n",
    "        if c + 1 < n:\n",
    "            heapq.heappush(min_heap, (matrix[r][c+1], r, c+1))"
   ]
  },
  {
   "cell_type": "markdown",
   "id": "fe16807a",
   "metadata": {
    "lines_to_next_cell": 0
   },
   "source": [
    "-----------------------------\n",
    "Example Test Cases\n",
    "-----------------------------"
   ]
  },
  {
   "cell_type": "code",
   "execution_count": null,
   "id": "a1e273d6",
   "metadata": {},
   "outputs": [],
   "source": [
    "if __name__ == \"__main__\":\n",
    "    matrix = [\n",
    "        [1,5,9],\n",
    "        [10,11,13],\n",
    "        [12,13,15]\n",
    "    ]\n",
    "    k = 8\n",
    "    print(\"Expected: 13, Got:\", kthSmallest(matrix, k))\n",
    "\n",
    "    matrix = [[-5]]\n",
    "    k = 1\n",
    "    print(\"Expected: -5, Got:\", kthSmallest(matrix, k))"
   ]
  }
 ],
 "metadata": {
  "jupytext": {
   "cell_metadata_filter": "-all",
   "main_language": "python",
   "notebook_metadata_filter": "-all"
  }
 },
 "nbformat": 4,
 "nbformat_minor": 5
}
