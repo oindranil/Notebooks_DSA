{
 "cells": [
  {
   "cell_type": "code",
   "execution_count": null,
   "id": "a131cf14",
   "metadata": {},
   "outputs": [],
   "source": [
    "## [markdown]\n",
    "# program: Maximal Square\n",
    "#\n",
    "# topic: Dynamic Programming\n",
    "#\n",
    "# problem number: LeetCode 221\n",
    "#\n",
    "# difficulty: Medium\n",
    "#\n",
    "# URL: https://leetcode.com/problems/maximal-square/\n",
    "#\n",
    "# algorithm logic:\n",
    "# - Use DP where dp[i][j] represents the side length of the largest square\n",
    "#   whose bottom-right corner is at (i, j).\n",
    "# - Transition:\n",
    "#   If matrix[i][j] == '1':\n",
    "#       dp[i][j] = 1 + min(dp[i-1][j], dp[i][j-1], dp[i-1][j-1])\n",
    "#   Else:\n",
    "#       dp[i][j] = 0\n",
    "# - Keep track of the maximum dp[i][j] encountered → maximal square side.\n",
    "# - Result = (max_side)^2, since we need the area.\n",
    "#\n",
    "# time complexity: O(m * n)\n",
    "# space complexity: O(m * n) → can be optimized to O(n)"
   ]
  },
  {
   "cell_type": "code",
   "execution_count": null,
   "id": "690e235c",
   "metadata": {
    "lines_to_next_cell": 1
   },
   "outputs": [],
   "source": [
    "from typing import List\n",
    "\n",
    "def maximalSquare(matrix: List[List[str]]) -> int:\n",
    "    if not matrix or not matrix[0]:\n",
    "        return 0\n",
    "\n",
    "    rows, cols = len(matrix), len(matrix[0])\n",
    "    dp = [[0] * (cols + 1) for _ in range(rows + 1)]\n",
    "    max_side = 0\n",
    "\n",
    "    for i in range(1, rows + 1):\n",
    "        for j in range(1, cols + 1):\n",
    "            if matrix[i - 1][j - 1] == \"1\":\n",
    "                dp[i][j] = 1 + min(\n",
    "                    dp[i - 1][j],       # top\n",
    "                    dp[i][j - 1],       # left\n",
    "                    dp[i - 1][j - 1]    # top-left diagonal\n",
    "                )\n",
    "                max_side = max(max_side, dp[i][j])\n",
    "\n",
    "    return max_side * max_side"
   ]
  },
  {
   "cell_type": "code",
   "execution_count": null,
   "id": "10dd89de",
   "metadata": {},
   "outputs": [],
   "source": [
    "# Example usage\n",
    "matrix = [\n",
    "    [\"1\",\"0\",\"1\",\"0\",\"0\"],\n",
    "    [\"1\",\"0\",\"1\",\"1\",\"1\"],\n",
    "    [\"1\",\"1\",\"1\",\"1\",\"1\"],\n",
    "    [\"1\",\"0\",\"0\",\"1\",\"0\"]\n",
    "]\n",
    "\n",
    "print(\"Maximal square area:\", maximalSquare(matrix))"
   ]
  }
 ],
 "metadata": {
  "jupytext": {
   "cell_metadata_filter": "-all",
   "main_language": "python",
   "notebook_metadata_filter": "-all"
  }
 },
 "nbformat": 4,
 "nbformat_minor": 5
}
