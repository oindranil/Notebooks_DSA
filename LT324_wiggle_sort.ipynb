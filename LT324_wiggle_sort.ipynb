{
 "cells": [
  {
   "cell_type": "markdown",
   "id": "1a09a94d",
   "metadata": {
    "cell_marker": "\"\"\"",
    "lines_to_next_cell": 1
   },
   "source": [
    "Source: LeetCode\n",
    "\n",
    "Problem #: 324\n",
    "\n",
    "Title: Wiggle Sort II\n",
    "\n",
    "Difficulty: Medium\n",
    "\n",
    "Topic: Sorting\n",
    "\n",
    "Description: Rearrange numbers so that they follow the pattern: nums[0] < nums[1] > nums[2] < nums[3] ...\n",
    "\n",
    "Strict inequalities are required.\n",
    "\n",
    "Simple Approach:\n",
    "1. Sort nums.\n",
    "2. Split into two halves:\n",
    "   - smaller half goes to even indices (from right to left).\n",
    "   - larger half goes to odd indices (from right to left).\n",
    "3. This avoids equal neighbors appearing consecutively.\n",
    "\n",
    "Time Complexity: O(n log n)"
   ]
  },
  {
   "cell_type": "code",
   "execution_count": null,
   "id": "e4ce987e",
   "metadata": {},
   "outputs": [],
   "source": [
    "def wiggleSort(nums):\n",
    "    nums.sort()\n",
    "    n = len(nums)\n",
    "    mid = (n + 1) // 2\n",
    "    left = nums[:mid][::-1]   # smaller half, reversed\n",
    "    right = nums[mid:][::-1]  # larger half, reversed\n",
    "\n",
    "    nums[::2] = left\n",
    "    nums[1::2] = right"
   ]
  },
  {
   "cell_type": "markdown",
   "id": "510d2631",
   "metadata": {
    "lines_to_next_cell": 0
   },
   "source": [
    "-----------------------------\n",
    "Example Test Cases\n",
    "-----------------------------"
   ]
  },
  {
   "cell_type": "code",
   "execution_count": null,
   "id": "49983bda",
   "metadata": {},
   "outputs": [],
   "source": [
    "if __name__ == \"__main__\":\n",
    "    # Test case 1\n",
    "    nums = [1, 5, 1, 1, 6, 4]\n",
    "    wiggleSort(nums)\n",
    "    print(\"Got:\", nums)\n",
    "\n",
    "    # Test case 2\n",
    "    nums = [1, 3, 2, 2, 3, 1]\n",
    "    wiggleSort(nums)\n",
    "    print(\"Got:\", nums)\n",
    "\n",
    "    # Test case 3\n",
    "    nums = [4, 5, 5, 6]\n",
    "    wiggleSort(nums)\n",
    "    print(\"Got:\", nums)"
   ]
  }
 ],
 "metadata": {
  "jupytext": {
   "cell_metadata_filter": "-all",
   "main_language": "python",
   "notebook_metadata_filter": "-all"
  }
 },
 "nbformat": 4,
 "nbformat_minor": 5
}
