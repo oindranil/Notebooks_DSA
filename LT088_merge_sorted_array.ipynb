{
 "cells": [
  {
   "cell_type": "markdown",
   "id": "99dd52ea",
   "metadata": {
    "cell_marker": "\"\"\"",
    "lines_to_next_cell": 0
   },
   "source": [
    "Source: LeetCode\n",
    "\n",
    "Problem #: 88\n",
    "\n",
    "Title: Merge sorted arrays\n",
    "\n",
    "Difficulty: Easy\n",
    "\n",
    "Topic: Sorting\n",
    "\n",
    "Description: You are given two integer arrays nums1 and nums2, sorted in non-decreasing order, and two integers m and n, representing the number of elements in nums1 and nums2 respectively. nums1 is of size m+n and you have to in-place merge the two arrays in sorted order in nums1 "
   ]
  },
  {
   "cell_type": "code",
   "execution_count": null,
   "id": "6701a62d",
   "metadata": {
    "lines_to_next_cell": 1
   },
   "outputs": [],
   "source": [
    "def merge(nums1, m, nums2, n):\n",
    "    \"\"\"\n",
    "    Merge nums2 into nums1 in-place.\n",
    "    \"\"\"\n",
    "    i = m - 1        # last valid element in nums1\n",
    "    j = n - 1        # last element in nums2\n",
    "    k = m + n - 1    # last position in nums1\n",
    "\n",
    "    while i >= 0 and j >= 0:\n",
    "        if nums1[i] > nums2[j]:\n",
    "            nums1[k] = nums1[i]\n",
    "            i -= 1\n",
    "        else:\n",
    "            nums1[k] = nums2[j]\n",
    "            j -= 1\n",
    "        k -= 1\n",
    "\n",
    "    while j >= 0:\n",
    "        nums1[k] = nums2[j]\n",
    "        j -= 1\n",
    "        k -= 1"
   ]
  },
  {
   "cell_type": "code",
   "execution_count": null,
   "id": "1c07ebc8",
   "metadata": {
    "lines_to_next_cell": 0,
    "title": "[Markdown]"
   },
   "outputs": [],
   "source": [
    "# -----------------------------\n",
    "# Example Test Cases\n",
    "# -----------------------------"
   ]
  },
  {
   "cell_type": "code",
   "execution_count": null,
   "id": "d48a0bf6",
   "metadata": {},
   "outputs": [],
   "source": [
    "if __name__ == \"__main__\":\n",
    "    # Test case 1\n",
    "    nums1 = [1,2,3,0,0,0]\n",
    "    m = 3\n",
    "    nums2 = [2,5,6]\n",
    "    n = 3\n",
    "    merge(nums1, m, nums2, n)\n",
    "    print(\"Expected: [1, 2, 2, 3, 5, 6], Got:\", nums1)\n",
    "\n",
    "    # Test case 2\n",
    "    nums1 = [0]\n",
    "    m = 0\n",
    "    nums2 = [1]\n",
    "    n = 1\n",
    "    merge(nums1, m, nums2, n)\n",
    "    print(\"Expected: [1], Got:\", nums1)\n",
    "\n",
    "    # Test case 3\n",
    "    nums1 = [1]\n",
    "    m = 1\n",
    "    nums2 = []\n",
    "    n = 0\n",
    "    merge(nums1, m, nums2, n)\n",
    "    print(\"Expected: [1], Got:\", nums1)\n",
    "\n",
    "    # Test case 4\n",
    "    nums1 = [4,5,6,0,0,0]\n",
    "    m = 3\n",
    "    nums2 = [1,2,3]\n",
    "    n = 3\n",
    "    merge(nums1, m, nums2, n)\n",
    "    print(\"Expected: [1,2,3,4,5,6], Got:\", nums1)\n",
    "\n",
    "    # Test case 5\n",
    "    nums1 = [1,2,4,5,0,0]\n",
    "    m = 4\n",
    "    nums2 = [2,3]\n",
    "    n = 2\n",
    "    merge(nums1, m, nums2, n)\n",
    "    print(\"Expected: [1,2,2,3,4,5], Got:\", nums1)"
   ]
  }
 ],
 "metadata": {
  "jupytext": {
   "cell_metadata_filter": "title,-all",
   "main_language": "python",
   "notebook_metadata_filter": "-all"
  }
 },
 "nbformat": 4,
 "nbformat_minor": 5
}
