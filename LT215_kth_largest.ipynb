{
 "cells": [
  {
   "cell_type": "markdown",
   "id": "37343e8e",
   "metadata": {
    "cell_marker": "\"\"\"",
    "lines_to_next_cell": 0
   },
   "source": [
    "Source: LeetCode\n",
    "\n",
    "Problem #: 215\n",
    "\n",
    "Title: Kth Largest Element in an Array\n",
    "\n",
    "Difficulty: Medium\n",
    "\n",
    "Topic: Heap\n",
    "\n",
    "Subtopic: Min-Heap using heapq\n",
    "\n",
    "Description: Find the kth largest element in an unsorted array.\n",
    "\n",
    "Logic:\n",
    "1. Use a min-heap of size k.\n",
    "2. Iterate through all numbers:\n",
    "   - Push number into heap.\n",
    "   - If heap size > k, pop the smallest element.\n",
    "3. At the end, the heap root is the kth largest element.\n",
    "\n",
    "Time Complexity: O(n log k)\n",
    "\n",
    "Space Complexity: O(k)"
   ]
  },
  {
   "cell_type": "code",
   "execution_count": null,
   "id": "6e6763d4",
   "metadata": {
    "lines_to_next_cell": 1
   },
   "outputs": [],
   "source": [
    "import heapq\n",
    "from typing import List\n",
    "\n",
    "def findKthLargest(nums: List[int], k: int) -> int:\n",
    "    min_heap = []\n",
    "    for num in nums:\n",
    "        heapq.heappush(min_heap, num)\n",
    "        if len(min_heap) > k:\n",
    "            heapq.heappop(min_heap)\n",
    "    return min_heap[0]"
   ]
  },
  {
   "cell_type": "markdown",
   "id": "4ad837bd",
   "metadata": {
    "lines_to_next_cell": 0
   },
   "source": [
    "-----------------------------\n",
    "Example Test Cases\n",
    "-----------------------------"
   ]
  },
  {
   "cell_type": "code",
   "execution_count": null,
   "id": "3d2dabd3",
   "metadata": {},
   "outputs": [],
   "source": [
    "if __name__ == \"__main__\":\n",
    "    nums = [3,2,1,5,6,4]\n",
    "    k = 2\n",
    "    print(\"Expected: 5, Got:\", findKthLargest(nums, k))\n",
    "\n",
    "    nums = [3,2,3,1,2,4,5,5,6]\n",
    "    k = 4\n",
    "    print(\"Expected: 4, Got:\", findKthLargest(nums, k))\n",
    "\n",
    "    nums = [1]\n",
    "    k = 1\n",
    "    print(\"Expected: 1, Got:\", findKthLargest(nums, k))"
   ]
  }
 ],
 "metadata": {
  "jupytext": {
   "cell_metadata_filter": "-all",
   "main_language": "python",
   "notebook_metadata_filter": "-all"
  }
 },
 "nbformat": 4,
 "nbformat_minor": 5
}
