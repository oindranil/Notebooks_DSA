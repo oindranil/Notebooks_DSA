{
 "cells": [
  {
   "cell_type": "code",
   "execution_count": null,
   "id": "158acf51",
   "metadata": {},
   "outputs": [],
   "source": [
    "# program: climbing stairs\n",
    "#\n",
    "# topic: dynamic programming\n",
    "#\n",
    "# source: LeetCode\n",
    "# problem #: 70\n",
    "# name: Climbing Stairs\n",
    "# difficulty: Easy\n",
    "#\n",
    "# URL: https://leetcode.com/problems/climbing-stairs/\n",
    "#\n",
    "# algorithm logic:\n",
    "# To reach step i, you can either come from step (i-1) with a single step,\n",
    "# or from step (i-2) with a double step. So the recurrence is:\n",
    "#   ways(i) = ways(i-1) + ways(i-2)\n",
    "#\n",
    "# This is the Fibonacci sequence in disguise.\n",
    "# Instead of keeping a full dp array, we can optimize space\n",
    "# and only track the last two values."
   ]
  },
  {
   "cell_type": "code",
   "execution_count": null,
   "id": "dcf28127",
   "metadata": {
    "lines_to_next_cell": 1
   },
   "outputs": [],
   "source": [
    "\n",
    "def climbStairs(n: int) -> int:\n",
    "    if n <= 2:\n",
    "        return n\n",
    "    \n",
    "    prev1, prev2 = 2, 1  # dp[2], dp[1]\n",
    "    \n",
    "    for i in range(3, n + 1):\n",
    "        curr = prev1 + prev2\n",
    "        prev2 = prev1\n",
    "        prev1 = curr\n",
    "    \n",
    "    return prev1"
   ]
  },
  {
   "cell_type": "code",
   "execution_count": null,
   "id": "b485d765",
   "metadata": {},
   "outputs": [],
   "source": [
    "\n",
    "# Example runs\n",
    "print(climbStairs(2))  # Output: 2\n",
    "print(climbStairs(3))  # Output: 3\n",
    "print(climbStairs(4))  # Output: 5\n",
    "print(climbStairs(5))  # Output: 8"
   ]
  }
 ],
 "metadata": {
  "jupytext": {
   "cell_metadata_filter": "-all",
   "main_language": "python",
   "notebook_metadata_filter": "-all"
  }
 },
 "nbformat": 4,
 "nbformat_minor": 5
}
