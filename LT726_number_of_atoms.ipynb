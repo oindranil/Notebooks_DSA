{
 "cells": [
  {
   "cell_type": "markdown",
   "id": "94bfb7a1",
   "metadata": {
    "lines_to_next_cell": 2
   },
   "source": [
    "Source: LeetCode  \n",
    "\n",
    "Problem #: 726  \n",
    "\n",
    "Title: Number of Atoms  \n",
    "\n",
    "Difficulty: Hard  \n",
    "\n",
    "Topic: String Parsing / Stack / Recursion  \n",
    "\n",
    "Description: Given a chemical formula string (e.g., \"K4(ON(SO3)2)2\"), return the count  of each atom in the molecule in lexicographically sorted order as a string.  \n",
    "\n",
    "Example: \"H2O\" → \"H2O\", \"Mg(OH)2\" → \"H2MgO2\".  \n",
    "\n",
    "Approaches:  \n",
    "1. **Stack-Based Parsing**  \n",
    "   - Use a stack to track atom groups and their counts.  \n",
    "   - Push a new map when encountering '(', pop and merge on ')'.  \n",
    "   - Time Complexity: O(n) for parsing.  \n",
    "   - Space Complexity: O(n) for stack of maps.  \n",
    "\n",
    "2. **Recursive Parsing**  \n",
    "   - Recursively parse each group or nested formula.  \n",
    "   - On encountering '(', recurse until matching ')'.  \n",
    "   - Multiply results by the trailing number and merge.  \n",
    "   - Time Complexity: O(n).  \n",
    "   - Space Complexity: O(n) recursion depth.  \n",
    "\n",
    "Output:  \n",
    "\n",
    "Concatenate atoms in sorted order with their counts (omit '1').  "
   ]
  },
  {
   "cell_type": "markdown",
   "id": "8302de7a",
   "metadata": {
    "lines_to_next_cell": 0
   },
   "source": [
    "============================================================\n",
    "Stack-based apporach\n",
    "============================================================"
   ]
  },
  {
   "cell_type": "code",
   "execution_count": null,
   "id": "9b051d54",
   "metadata": {},
   "outputs": [],
   "source": [
    "class SolutionStackDict:\n",
    "    def countOfAtoms(self, formula: str) -> dict:\n",
    "        \"\"\"\n",
    "        Stack-based parsing that returns atom counts as a dictionary\n",
    "        \"\"\"\n",
    "        stack = [{}]\n",
    "        i, n = 0, len(formula)\n",
    "\n",
    "        while i < n:\n",
    "            if formula[i] == \"(\":\n",
    "                stack.append({})\n",
    "                i += 1\n",
    "            elif formula[i] == \")\":\n",
    "                i += 1\n",
    "                start = i\n",
    "                while i < n and formula[i].isdigit():\n",
    "                    i += 1\n",
    "                multiplier = int(formula[start:i] or \"1\")\n",
    "                top = stack.pop()\n",
    "                for atom, cnt in top.items():\n",
    "                    stack[-1][atom] = stack[-1].get(atom, 0) + cnt * multiplier\n",
    "            else:\n",
    "                start = i\n",
    "                i += 1\n",
    "                while i < n and formula[i].islower():\n",
    "                    i += 1\n",
    "                atom = formula[start:i]\n",
    "\n",
    "                start = i\n",
    "                while i < n and formula[i].isdigit():\n",
    "                    i += 1\n",
    "                count = int(formula[start:i] or \"1\")\n",
    "\n",
    "                stack[-1][atom] = stack[-1].get(atom, 0) + count\n",
    "\n",
    "        final_counts = stack.pop()\n",
    "        return final_counts"
   ]
  },
  {
   "cell_type": "markdown",
   "id": "5b4a1d05",
   "metadata": {
    "lines_to_next_cell": 0
   },
   "source": [
    "============================================================\n",
    "Recursive parsing apporach\n",
    "============================================================"
   ]
  },
  {
   "cell_type": "code",
   "execution_count": null,
   "id": "cc5b26d5",
   "metadata": {},
   "outputs": [],
   "source": [
    "\n",
    "class SolutionRecursiveDict:\n",
    "    def countOfAtoms(self, formula: str) -> dict:\n",
    "        self.i = 0\n",
    "        self.n = len(formula)\n",
    "\n",
    "        def parse() -> dict:\n",
    "            counts = {}\n",
    "            while self.i < self.n and formula[self.i] != \")\":\n",
    "                if formula[self.i] == \"(\":\n",
    "                    self.i += 1\n",
    "                    inner_counts = parse()\n",
    "                    self.i += 1  # skip ')'\n",
    "                    start = self.i\n",
    "                    while self.i < self.n and formula[self.i].isdigit():\n",
    "                        self.i += 1\n",
    "                    multiplier = int(formula[start:self.i] or \"1\")\n",
    "                    for atom, cnt in inner_counts.items():\n",
    "                        counts[atom] = counts.get(atom, 0) + cnt * multiplier\n",
    "                else:\n",
    "                    start = self.i\n",
    "                    self.i += 1\n",
    "                    while self.i < self.n and formula[self.i].islower():\n",
    "                        self.i += 1\n",
    "                    atom = formula[start:self.i]\n",
    "\n",
    "                    start = self.i\n",
    "                    while self.i < self.n and formula[self.i].isdigit():\n",
    "                        self.i += 1\n",
    "                    count = int(formula[start:self.i] or \"1\")\n",
    "                    counts[atom] = counts.get(atom, 0) + count\n",
    "            return counts\n",
    "\n",
    "        return parse()"
   ]
  },
  {
   "cell_type": "markdown",
   "id": "c6695f71",
   "metadata": {
    "lines_to_next_cell": 0
   },
   "source": [
    "-----------------------------\n",
    "Example Test Cases for both\n",
    "-----------------------------"
   ]
  },
  {
   "cell_type": "code",
   "execution_count": null,
   "id": "c3f52e2b",
   "metadata": {},
   "outputs": [],
   "source": [
    "if __name__ == \"__main__\":\n",
    "    formulas = [\n",
    "        \"K4(ON(SO3)2)2\",\n",
    "        \"H2O\",\n",
    "        \"Mg(OH)2\",\n",
    "        \"NaCl\"\n",
    "    ]\n",
    "\n",
    "    print(\"=== Stack Implementation (Dict) ===\")\n",
    "    sol_stack = SolutionStackDict()\n",
    "    for f in formulas:\n",
    "        print(f\"Input: {f}, Output: {sol_stack.countOfAtoms(f)}\")\n",
    "\n",
    "    print(\"\\n=== Recursive Implementation (Dict) ===\")\n",
    "    sol_rec = SolutionRecursiveDict()\n",
    "    for f in formulas:\n",
    "        print(f\"Input: {f}, Output: {sol_rec.countOfAtoms(f)}\")"
   ]
  }
 ],
 "metadata": {
  "jupytext": {
   "cell_metadata_filter": "-all",
   "main_language": "python",
   "notebook_metadata_filter": "-all"
  }
 },
 "nbformat": 4,
 "nbformat_minor": 5
}
