{
 "cells": [
  {
   "cell_type": "code",
   "execution_count": null,
   "id": "7f223313",
   "metadata": {
    "lines_to_next_cell": 2
   },
   "outputs": [],
   "source": [
    "## [markdown]\n",
    "# program: detect cycle in a directed graph\n",
    "#\n",
    "# topic: graphs\n",
    "#\n",
    "# subtopic: cycle detection\n",
    "#\n",
    "# source: GeeksForGeeks\n",
    "#\n",
    "# url: [Detect Cycle in a Directed Graph](https://www.geeksforgeeks.org/detect-cycle-in-a-directed-graph-using-colors/)\n",
    "#\n",
    "# difficulty: Medium\n",
    "#\n",
    "# description: Check if a directed graph contains a cycle using DFS (recursion stack), and highlight the cycle edges in red.\n",
    "##"
   ]
  },
  {
   "cell_type": "code",
   "execution_count": null,
   "id": "643047c3",
   "metadata": {},
   "outputs": [],
   "source": [
    "import networkx as nx\n",
    "import matplotlib.pyplot as plt"
   ]
  },
  {
   "cell_type": "code",
   "execution_count": null,
   "id": "fa5508c5",
   "metadata": {},
   "outputs": [],
   "source": [
    "class DirectedGraph:\n",
    "    def __init__(self, vertices):\n",
    "        self.V = vertices\n",
    "        self.graph = [[] for _ in range(vertices)]\n",
    "\n",
    "    def add_edge(self, u, v):\n",
    "        self.graph[u].append(v)\n",
    "\n",
    "    def is_cyclic_util(self, v, visited, rec_stack, cycle_edges):\n",
    "        visited[v] = True\n",
    "        rec_stack[v] = True\n",
    "\n",
    "        for neighbor in self.graph[v]:\n",
    "            if not visited[neighbor]:\n",
    "                if self.is_cyclic_util(neighbor, visited, rec_stack, cycle_edges):\n",
    "                    cycle_edges.add((v, neighbor))\n",
    "                    return True\n",
    "            elif rec_stack[neighbor]:\n",
    "                cycle_edges.add((v, neighbor))\n",
    "                return True\n",
    "\n",
    "        rec_stack[v] = False\n",
    "        return False\n",
    "\n",
    "    def is_cyclic(self):\n",
    "        visited = [False] * self.V\n",
    "        rec_stack = [False] * self.V\n",
    "        cycle_edges = set()\n",
    "\n",
    "        for node in range(self.V):\n",
    "            if not visited[node]:\n",
    "                if self.is_cyclic_util(node, visited, rec_stack, cycle_edges):\n",
    "                    return True, cycle_edges\n",
    "        return False, cycle_edges"
   ]
  },
  {
   "cell_type": "code",
   "execution_count": null,
   "id": "9a726f01",
   "metadata": {},
   "outputs": [],
   "source": [
    "def plot_directed_graph(g, cycle_edges=None, title=\"Directed Graph\"):\n",
    "    G = nx.DiGraph()\n",
    "    for u in range(g.V):\n",
    "        for v in g.graph[u]:\n",
    "            G.add_edge(u, v)\n",
    "\n",
    "    pos = nx.spring_layout(G, seed=42)\n",
    "\n",
    "    # edge colors\n",
    "    edge_colors = []\n",
    "    for edge in G.edges():\n",
    "        if cycle_edges and edge in cycle_edges:\n",
    "            edge_colors.append(\"red\")\n",
    "        else:\n",
    "            edge_colors.append(\"gray\")\n",
    "\n",
    "    nx.draw(\n",
    "        G, pos, with_labels=True, node_color=\"lightblue\",\n",
    "        node_size=800, edge_color=edge_colors, width=2, font_size=12,\n",
    "        arrows=True, arrowsize=20\n",
    "    )\n",
    "    plt.title(title)\n",
    "    plt.show()"
   ]
  },
  {
   "cell_type": "code",
   "execution_count": null,
   "id": "3bd822ca",
   "metadata": {
    "lines_to_next_cell": 2
   },
   "outputs": [],
   "source": [
    "# Example 1: Directed graph with a cycle\n",
    "g1 = DirectedGraph(4)\n",
    "g1.add_edge(0, 1)\n",
    "g1.add_edge(1, 2)\n",
    "g1.add_edge(2, 0)  # introduces a cycle (0 -> 1 -> 2 -> 0)\n",
    "g1.add_edge(2, 3)\n",
    "\n",
    "has_cycle, cycle_edges = g1.is_cyclic()\n",
    "print(\"Graph 1 contains cycle:\", has_cycle)\n",
    "plot_directed_graph(g1, cycle_edges, \"Directed Graph with Cycle\")"
   ]
  },
  {
   "cell_type": "code",
   "execution_count": null,
   "id": "f3101dca",
   "metadata": {},
   "outputs": [],
   "source": [
    "# Example 2: Directed graph without a cycle\n",
    "g2 = DirectedGraph(4)\n",
    "g2.add_edge(0, 1)\n",
    "g2.add_edge(1, 2)\n",
    "g2.add_edge(2, 3)\n",
    "\n",
    "has_cycle, cycle_edges = g2.is_cyclic()\n",
    "print(\"Graph 2 contains cycle:\", has_cycle)\n",
    "plot_directed_graph(g2, cycle_edges, \"Directed Graph without Cycle\")"
   ]
  }
 ],
 "metadata": {
  "jupytext": {
   "cell_metadata_filter": "-all",
   "main_language": "python",
   "notebook_metadata_filter": "-all"
  }
 },
 "nbformat": 4,
 "nbformat_minor": 5
}
