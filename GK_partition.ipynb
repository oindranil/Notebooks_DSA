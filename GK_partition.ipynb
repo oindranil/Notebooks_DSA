{
 "cells": [
  {
   "cell_type": "code",
   "execution_count": null,
   "id": "5812b85c",
   "metadata": {
    "lines_to_next_cell": 0
   },
   "outputs": [],
   "source": [
    "# program: Partition problem (equal subset sum)\n",
    "#\n",
    "# topic: Dynamic Programming\n",
    "# subtopic: Partition problem\n",
    "# source: GeeksforGeeks\n",
    "# url: https://www.geeksforgeeks.org/partition-problem-dp-18/\n",
    "#\n",
    "# description:\n",
    "# Determine if a given set can be partitioned into two subsets of equal sum.\n",
    "# The problem reduces to subset sum: check if there exists a subset with sum = total/2.\n",
    "# Approach: Dynamic Programming with reconstruction of one valid subset.\n",
    "#"
   ]
  },
  {
   "cell_type": "code",
   "execution_count": null,
   "id": "0f1a18a7",
   "metadata": {},
   "outputs": [],
   "source": [
    "\n",
    "def can_partition(arr):\n",
    "    total = sum(arr)\n",
    "    n = len(arr)\n",
    "\n",
    "    # If sum is odd, cannot partition\n",
    "    if total % 2 != 0:\n",
    "        print(f\"Array: {arr}\")\n",
    "        print(\"Total sum is odd → Cannot partition into equal subsets.\")\n",
    "        return False, [], []\n",
    "\n",
    "    target = total // 2\n",
    "    print(f\"Array: {arr}\")\n",
    "    print(f\"Total sum = {total}, Target subset sum = {target}\\n\")\n",
    "\n",
    "    # dp[i][j] = True if subset sum j is possible with first i elements\n",
    "    dp = [[False] * (target + 1) for _ in range(n + 1)]\n",
    "    for i in range(n + 1):\n",
    "        dp[i][0] = True  # sum 0 always possible (empty subset)\n",
    "\n",
    "    # Fill DP table\n",
    "    for i in range(1, n + 1):\n",
    "        for j in range(1, target + 1):\n",
    "            if arr[i - 1] <= j:\n",
    "                dp[i][j] = dp[i - 1][j] or dp[i - 1][j - arr[i - 1]]\n",
    "            else:\n",
    "                dp[i][j] = dp[i - 1][j]\n",
    "\n",
    "    # If not possible, return\n",
    "    if not dp[n][target]:\n",
    "        print(\"No valid partition found.\")\n",
    "        return False, [], []\n",
    "\n",
    "    # Reconstruct one subset\n",
    "    subset = []\n",
    "    i, j = n, target\n",
    "    while i > 0 and j > 0:\n",
    "        if not dp[i - 1][j] and dp[i][j]:\n",
    "            subset.append(arr[i - 1])\n",
    "            j -= arr[i - 1]\n",
    "        i -= 1\n",
    "\n",
    "    subset2 = arr.copy()\n",
    "    for num in subset:\n",
    "        subset2.remove(num)\n",
    "\n",
    "    print(\"Subset 1:\", subset)\n",
    "    print(\"Subset 2:\", subset2)\n",
    "    return True, subset, subset2\n",
    "\n",
    "\n",
    "# Example test\n",
    "arr = [1, 5, 11, 5]\n",
    "can_partition(arr)"
   ]
  }
 ],
 "metadata": {
  "jupytext": {
   "cell_metadata_filter": "-all",
   "main_language": "python",
   "notebook_metadata_filter": "-all"
  }
 },
 "nbformat": 4,
 "nbformat_minor": 5
}
