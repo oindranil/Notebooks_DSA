{
 "cells": [
  {
   "cell_type": "markdown",
   "id": "406a1146",
   "metadata": {
    "lines_to_next_cell": 0
   },
   "source": [
    "LeetCode Problem 249: Group Shifted Strings\n",
    "\n",
    "Problem Statement:\n",
    "\n",
    "Given a list of strings, group all strings that belong to the\n",
    "\n",
    "same shifting sequence. A shifting sequence is defined such\n",
    "\n",
    "that each string can be shifted by the same number of positions\n",
    "\n",
    "in the alphabet to form another string in the group.\n",
    "\n",
    "Example:\n",
    "\n",
    "Input: [\"abc\",\"bcd\",\"acef\",\"xyz\",\"az\",\"ba\",\"a\",\"z\"]\n",
    "\n",
    "Output: [[\"abc\",\"bcd\",\"xyz\"],[\"acef\"],[\"az\",\"ba\"],[\"a\",\"z\"]]\n",
    "\n",
    "Approach:\n",
    "1. For each string, compute its \"pattern key\":\n",
    "   - Calculate differences of each character from the first char,\n",
    "     modulo 26 (to handle wraparound).\n",
    "   - This normalized pattern is unique for all strings in the same group.\n",
    "2. Use a dictionary with key = pattern and value = list of strings.\n",
    "3. Return grouped lists.\n",
    "\n",
    "Complexity:\n",
    "  - Time: O(N * L), where N = number of strings, L = max string length\n",
    "  - Space: O(N * L), for storing groups in dictionary\n",
    "============================================================"
   ]
  },
  {
   "cell_type": "code",
   "execution_count": null,
   "id": "7143e45e",
   "metadata": {},
   "outputs": [],
   "source": [
    "from collections import defaultdict\n",
    "\n",
    "def groupShiftedStrings(strings):\n",
    "    \"\"\"\n",
    "    :type strings: List[str]\n",
    "    :rtype: List[List[str]]\n",
    "    \"\"\"\n",
    "    groups = defaultdict(list)\n",
    "\n",
    "    for s in strings:\n",
    "        # compute normalized key\n",
    "        shift = [(ord(c) - ord(s[0])) % 26 for c in s]\n",
    "        key = tuple(shift)\n",
    "        groups[key].append(s)\n",
    "\n",
    "    return list(groups.values())"
   ]
  },
  {
   "cell_type": "markdown",
   "id": "f5d5962a",
   "metadata": {
    "lines_to_next_cell": 0
   },
   "source": [
    "-----------------------------\n",
    "Example Test Cases\n",
    "-----------------------------"
   ]
  },
  {
   "cell_type": "code",
   "execution_count": null,
   "id": "10bb4224",
   "metadata": {},
   "outputs": [],
   "source": [
    "if __name__ == \"__main__\":\n",
    "    # Test case 1\n",
    "    strings = [\"abc\",\"bcd\",\"acef\",\"xyz\",\"az\",\"ba\",\"a\",\"z\"]\n",
    "    print(\"Input:\", strings)\n",
    "    print(\"Output:\", groupShiftedStrings(strings))\n",
    "    # Expected: [[\"abc\",\"bcd\",\"xyz\"],[\"acef\"],[\"az\",\"ba\"],[\"a\",\"z\"]]\n",
    "\n",
    "    # Test case 2\n",
    "    strings = [\"a\"]\n",
    "    print(\"\\nInput:\", strings)\n",
    "    print(\"Output:\", groupShiftedStrings(strings))\n",
    "    # Expected: [[\"a\"]]\n",
    "\n",
    "    # Test case 3\n",
    "    strings = [\"az\", \"ba\", \"yx\", \"zw\"]\n",
    "    print(\"\\nInput:\", strings)\n",
    "    print(\"Output:\", groupShiftedStrings(strings))\n",
    "    # Expected: [[\"az\",\"ba\"], [\"yx\",\"zw\"]]"
   ]
  }
 ],
 "metadata": {
  "jupytext": {
   "cell_metadata_filter": "-all",
   "main_language": "python",
   "notebook_metadata_filter": "-all"
  }
 },
 "nbformat": 4,
 "nbformat_minor": 5
}
