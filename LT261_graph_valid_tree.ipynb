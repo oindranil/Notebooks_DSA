{
 "cells": [
  {
   "cell_type": "markdown",
   "id": "e21d808a",
   "metadata": {
    "lines_to_next_cell": 0
   },
   "source": [
    "Problem 261: Graph Valid Tree\n",
    "\n",
    "Source: LeetCode\n",
    "\n",
    "Difficulty: Medium\n",
    "\n",
    "Logic:\n",
    "1. A graph is a valid tree if:\n",
    "   - It has exactly n-1 edges\n",
    "   - It is connected (all nodes reachable from 0)\n",
    "   - It has no cycles\n",
    "2. Approach:\n",
    "   - First check if edges == n-1 (quick elimination).\n",
    "   - Then run DFS to check connectivity and detect cycles.\n",
    "\n",
    "Time Complexity: O(V + E)\n",
    "\n",
    "Space Complexity: O(V + E) for adjacency list and recursion stack\n",
    "-----------------------------------------------------------"
   ]
  },
  {
   "cell_type": "code",
   "execution_count": null,
   "id": "7bd3f97d",
   "metadata": {},
   "outputs": [],
   "source": [
    "def validTree(n, edges):\n",
    "    \"\"\"\n",
    "    :type n: int\n",
    "    :type edges: List[List[int]]\n",
    "    :rtype: bool\n",
    "    \"\"\"\n",
    "\n",
    "    if len(edges) != n - 1:  # Quick check\n",
    "        return False\n",
    "\n",
    "    # Build adjacency list\n",
    "    graph = {i: [] for i in range(n)}\n",
    "    for u, v in edges:\n",
    "        graph[u].append(v)\n",
    "        graph[v].append(u)\n",
    "\n",
    "    visited = set()\n",
    "\n",
    "    def dfs(node, parent):\n",
    "        visited.add(node)\n",
    "        for neighbor in graph[node]:\n",
    "            if neighbor == parent:  # Skip the edge we came from\n",
    "                continue\n",
    "            if neighbor in visited:\n",
    "                return False  # Found a cycle\n",
    "            if not dfs(neighbor, node):\n",
    "                return False\n",
    "        return True\n",
    "\n",
    "    # Start DFS from node 0\n",
    "    if not dfs(0, -1):\n",
    "        return False\n",
    "\n",
    "    # Ensure graph is fully connected\n",
    "    return len(visited) == n"
   ]
  },
  {
   "cell_type": "markdown",
   "id": "faf5b3ee",
   "metadata": {
    "lines_to_next_cell": 0
   },
   "source": [
    "-----------------------------\n",
    "Example Test Cases\n",
    "-----------------------------"
   ]
  },
  {
   "cell_type": "code",
   "execution_count": null,
   "id": "0a9ffa1f",
   "metadata": {},
   "outputs": [],
   "source": [
    "if __name__ == \"__main__\":\n",
    "    # Test case 1: Valid tree\n",
    "    n = 5\n",
    "    edges = [[0,1],[0,2],[0,3],[1,4]]\n",
    "    print(\"Expected: True, Got:\", validTree(n, edges))\n",
    "\n",
    "    # Test case 2: Contains a cycle\n",
    "    n = 5\n",
    "    edges = [[0,1],[1,2],[2,3],[1,3],[1,4]]\n",
    "    print(\"Expected: False, Got:\", validTree(n, edges))\n",
    "\n",
    "    # Test case 3: Not connected\n",
    "    n = 4\n",
    "    edges = [[0,1],[2,3]]\n",
    "    print(\"Expected: False, Got:\", validTree(n, edges))"
   ]
  }
 ],
 "metadata": {
  "jupytext": {
   "cell_metadata_filter": "-all",
   "main_language": "python",
   "notebook_metadata_filter": "-all"
  }
 },
 "nbformat": 4,
 "nbformat_minor": 5
}
