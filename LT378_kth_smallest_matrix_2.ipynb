{
 "cells": [
  {
   "cell_type": "markdown",
   "id": "49b4ac88",
   "metadata": {
    "cell_marker": "\"\"\"",
    "lines_to_next_cell": 1
   },
   "source": [
    "Source: LeetCode\n",
    "\n",
    "Problem #: 378\n",
    "\n",
    "Title: Kth Smallest Element in a Sorted Matrix\n",
    "\n",
    "Difficulty: Hard\n",
    "\n",
    "Topic: Binary Search / Matrix\n",
    "\n",
    "Subtopic: Value Search\n",
    "\n",
    "Description: Given an n x n matrix where each of the rows and columns are sorted in ascending order, return the kth smallest element in the matrix.\n",
    "\n",
    "Logic (Binary Search on Value Range):\n",
    "1. The smallest element is matrix[0][0], the largest is matrix[-1][-1].\n",
    "2. Binary search between these values:\n",
    "   - For each mid, count how many elements ≤ mid using a row-wise scan (O(n)).\n",
    "   - If count < k → search higher half.\n",
    "   - Otherwise → search lower half.\n",
    "3. When left == right, that's the kth smallest element.\n",
    "\n",
    "Time Complexity: O(n log(max-min))\n",
    "\n",
    "Space Complexity: O(1)"
   ]
  },
  {
   "cell_type": "code",
   "execution_count": null,
   "id": "becd1e2e",
   "metadata": {},
   "outputs": [],
   "source": [
    "def kthSmallest(matrix, k):\n",
    "    n = len(matrix)\n",
    "\n",
    "    def countLessEqual(mid):\n",
    "        \"\"\"Count how many elements are <= mid.\"\"\"\n",
    "        count = 0\n",
    "        row, col = n - 1, 0  # start from bottom-left\n",
    "        while row >= 0 and col < n:\n",
    "            if matrix[row][col] <= mid:\n",
    "                count += row + 1\n",
    "                col += 1\n",
    "            else:\n",
    "                row -= 1\n",
    "        return count\n",
    "\n",
    "    left, right = matrix[0][0], matrix[-1][-1]\n",
    "    while left < right:\n",
    "        mid = (left + right) // 2\n",
    "        if countLessEqual(mid) < k:\n",
    "            left = mid + 1\n",
    "        else:\n",
    "            right = mid\n",
    "    return left"
   ]
  },
  {
   "cell_type": "markdown",
   "id": "068aaeb0",
   "metadata": {
    "lines_to_next_cell": 0
   },
   "source": [
    "-----------------------------\n",
    "Example Test Cases\n",
    "-----------------------------"
   ]
  },
  {
   "cell_type": "code",
   "execution_count": null,
   "id": "4affba91",
   "metadata": {},
   "outputs": [],
   "source": [
    "if __name__ == \"__main__\":\n",
    "    matrix = [\n",
    "        [1,5,9],\n",
    "        [10,11,13],\n",
    "        [12,13,15]\n",
    "    ]\n",
    "    k = 8\n",
    "    print(\"Expected: 13, Got:\", kthSmallest(matrix, k))\n",
    "\n",
    "    matrix = [[-5]]\n",
    "    k = 1\n",
    "    print(\"Expected: -5, Got:\", kthSmallest(matrix, k))"
   ]
  }
 ],
 "metadata": {
  "jupytext": {
   "cell_metadata_filter": "-all",
   "main_language": "python",
   "notebook_metadata_filter": "-all"
  }
 },
 "nbformat": 4,
 "nbformat_minor": 5
}
