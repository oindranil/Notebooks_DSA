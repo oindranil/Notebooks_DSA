{
 "cells": [
  {
   "cell_type": "markdown",
   "id": "b382dcee",
   "metadata": {
    "cell_marker": "\"\"\"",
    "lines_to_next_cell": 1
   },
   "source": [
    "Source: LeetCode\n",
    "\n",
    "Problem #: 463\n",
    "\n",
    "Title: Island Perimeter\n",
    "\n",
    "Difficulty: Easy\n",
    "\n",
    "Topic: Graph / Grid\n",
    "\n",
    "Subtopic: Counting Edges\n",
    "\n",
    "Description: You are given a map in the form of a 2D grid where 1 represents land and 0 represents water. Return the perimeter of the island.\n",
    "\n",
    "Logic:\n",
    "1. Treat each land cell as a node.\n",
    "2. Each node contributes 4 sides.\n",
    "3. Every adjacency (edge) between two land cells removes 2 sides.\n",
    "4. Perimeter = 4 * (#land cells) - 2 * (#edges).\n",
    "\n",
    "Time Complexity: O(m*n)\n",
    "\n",
    "Space Complexity: O(1)"
   ]
  },
  {
   "cell_type": "code",
   "execution_count": null,
   "id": "cf4dbaed",
   "metadata": {},
   "outputs": [],
   "source": [
    "def islandPerimeter(grid):\n",
    "    \"\"\"\n",
    "    :type grid: List[List[int]]\n",
    "    :rtype: int\n",
    "    \"\"\"\n",
    "    rows, cols = len(grid), len(grid[0])\n",
    "    nodes = 0\n",
    "    edges = 0\n",
    "\n",
    "    for r in range(rows):\n",
    "        for c in range(cols):\n",
    "            if grid[r][c] == 1:\n",
    "                nodes += 1\n",
    "                # check only right and down to avoid double-counting edges\n",
    "                if c + 1 < cols and grid[r][c+1] == 1:\n",
    "                    edges += 1\n",
    "                if r + 1 < rows and grid[r+1][c] == 1:\n",
    "                    edges += 1\n",
    "\n",
    "    return 4 * nodes - 2 * edges"
   ]
  },
  {
   "cell_type": "markdown",
   "id": "b917dbbe",
   "metadata": {
    "lines_to_next_cell": 0
   },
   "source": [
    "-----------------------------\n",
    "Example Test Cases\n",
    "-----------------------------"
   ]
  },
  {
   "cell_type": "code",
   "execution_count": null,
   "id": "7f8a073b",
   "metadata": {},
   "outputs": [],
   "source": [
    "if __name__ == \"__main__\":\n",
    "    grid1 = [\n",
    "        [0,1,0,0],\n",
    "        [1,1,1,0],\n",
    "        [0,1,0,0],\n",
    "        [1,1,0,0]\n",
    "    ]\n",
    "    print(\"Expected: 16, Got:\", islandPerimeter(grid1))\n",
    "\n",
    "    grid2 = [[1]]\n",
    "    print(\"Expected: 4, Got:\", islandPerimeter(grid2))\n",
    "\n",
    "    grid3 = [[1,0]]\n",
    "    print(\"Expected: 4, Got:\", islandPerimeter(grid3))"
   ]
  }
 ],
 "metadata": {
  "jupytext": {
   "cell_metadata_filter": "-all",
   "main_language": "python",
   "notebook_metadata_filter": "-all"
  }
 },
 "nbformat": 4,
 "nbformat_minor": 5
}
