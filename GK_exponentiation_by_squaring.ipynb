{
 "cells": [
  {
   "cell_type": "markdown",
   "id": "07aa121d",
   "metadata": {
    "cell_marker": "\"\"\"",
    "lines_to_next_cell": 0
   },
   "source": [
    "program: Exponentiation by Squaring (x^n)\n",
    "\n",
    "topic: Divide & Conquer\n",
    "\n",
    "subtopic: Exponentiation\n",
    "\n",
    "source: GeeksForGeeks\n",
    "\n",
    "url: [Write a program to calculate pow(x, n)](https://www.geeksforgeeks.org/dsa/write-a-c-program-to-calculate-powxn/)\n",
    "\n",
    "difficulty: Easy\n",
    "\n",
    "description: Compute x^n using exponentiation by squaring in O(log n) time complexity.\n",
    "Two approaches are implemented — recursive and iterative."
   ]
  },
  {
   "cell_type": "code",
   "execution_count": null,
   "id": "447f9036",
   "metadata": {
    "lines_to_next_cell": 1
   },
   "outputs": [],
   "source": [
    "def power_recursive(x, n):\n",
    "    \"\"\"\n",
    "    Recursive exponentiation by squaring.\n",
    "    Returns x^n in O(log n).\n",
    "    \"\"\"\n",
    "    if n == 0:\n",
    "        return 1\n",
    "    half = power_recursive(x, n // 2)\n",
    "    if n % 2 == 0:\n",
    "        return half * half\n",
    "    else:\n",
    "        return x * half * half"
   ]
  },
  {
   "cell_type": "code",
   "execution_count": null,
   "id": "a5ecb9c5",
   "metadata": {
    "lines_to_next_cell": 1
   },
   "outputs": [],
   "source": [
    "def power_iterative(x, n):\n",
    "    \"\"\"\n",
    "    Iterative exponentiation by squaring.\n",
    "    Returns x^n in O(log n).\n",
    "    \"\"\"\n",
    "    result = 1\n",
    "    base = x\n",
    "    exp = n\n",
    "    while exp > 0:\n",
    "        if exp % 2 == 1:  # if exponent is odd\n",
    "            result *= base\n",
    "        base *= base\n",
    "        exp //= 2\n",
    "    return result"
   ]
  },
  {
   "cell_type": "code",
   "execution_count": null,
   "id": "cfee1658",
   "metadata": {},
   "outputs": [],
   "source": [
    "if __name__ == \"__main__\":\n",
    "    x, n = 2, 10\n",
    "    print(f\"x = {x}, n = {n}\")\n",
    "    print(\"Recursive Result:\", power_recursive(x, n))\n",
    "    print(\"Iterative Result:\", power_iterative(x, n))"
   ]
  }
 ],
 "metadata": {
  "jupytext": {
   "cell_metadata_filter": "-all",
   "main_language": "python",
   "notebook_metadata_filter": "-all"
  }
 },
 "nbformat": 4,
 "nbformat_minor": 5
}
