{
 "cells": [
  {
   "cell_type": "markdown",
   "id": "4e135031",
   "metadata": {
    "lines_to_next_cell": 0
   },
   "source": [
    "Problem 169: Majority Element\n",
    "\n",
    "Source: LeetCode\n",
    "\n",
    "Difficulty: Easy\n",
    "\n",
    "Three Approaches:\n",
    "1. Hash Map / Frequency Count\n",
    "   - Time: O(n)\n",
    "   - Space: O(n)\n",
    "2. Sorting\n",
    "   - Time: O(n log n)\n",
    "   - Space: O(1) if in-place\n",
    "3. Boyer-Moore Voting Algorithm (with verification)\n",
    "   - Time: O(n)\n",
    "   - Space: O(1)\n",
    "\n",
    "This script runs all three, compares results, time, memory."
   ]
  },
  {
   "cell_type": "code",
   "execution_count": null,
   "id": "dc9d7269",
   "metadata": {
    "lines_to_next_cell": 1
   },
   "outputs": [],
   "source": [
    "\n",
    "\n",
    "import time\n",
    "import tracemalloc"
   ]
  },
  {
   "cell_type": "markdown",
   "id": "85bf7a65",
   "metadata": {
    "lines_to_next_cell": 0
   },
   "source": [
    "-----------------------------------------------------------\n",
    "1. Hash Map\n",
    "-----------------------------------------------------------"
   ]
  },
  {
   "cell_type": "code",
   "execution_count": null,
   "id": "d8c147cb",
   "metadata": {
    "lines_to_next_cell": 1
   },
   "outputs": [],
   "source": [
    "def majorityElement_hashmap(nums):\n",
    "    freq = {}\n",
    "    n = len(nums)\n",
    "    for num in nums:\n",
    "        freq[num] = freq.get(num, 0) + 1\n",
    "        if freq[num] > n // 2:\n",
    "            return num\n",
    "    return None"
   ]
  },
  {
   "cell_type": "markdown",
   "id": "f22e1bf0",
   "metadata": {
    "lines_to_next_cell": 0
   },
   "source": [
    "-----------------------------------------------------------\n",
    "2. Sorting\n",
    "-----------------------------------------------------------"
   ]
  },
  {
   "cell_type": "code",
   "execution_count": null,
   "id": "0970692c",
   "metadata": {
    "lines_to_next_cell": 1
   },
   "outputs": [],
   "source": [
    "def majorityElement_sort(nums):\n",
    "    nums_sorted = sorted(nums)\n",
    "    return nums_sorted[len(nums)//2]"
   ]
  },
  {
   "cell_type": "markdown",
   "id": "75f1fd6b",
   "metadata": {
    "lines_to_next_cell": 0
   },
   "source": [
    "-----------------------------------------------------------\n",
    "3. Boyer-Moore Voting Algorithm with verification\n",
    "-----------------------------------------------------------"
   ]
  },
  {
   "cell_type": "code",
   "execution_count": null,
   "id": "4ebc73af",
   "metadata": {
    "lines_to_next_cell": 1
   },
   "outputs": [],
   "source": [
    "def majorityElement_boyer_moore(nums):\n",
    "    candidate = None\n",
    "    count = 0\n",
    "    for num in nums:\n",
    "        if count == 0:\n",
    "            candidate = num\n",
    "            count = 1\n",
    "        elif num == candidate:\n",
    "            count += 1\n",
    "        else:\n",
    "            count -= 1\n",
    "\n",
    "    # Verification step\n",
    "    if nums.count(candidate) > len(nums) // 2:\n",
    "        return candidate\n",
    "    else:\n",
    "        return None"
   ]
  },
  {
   "cell_type": "markdown",
   "id": "0c2e2666",
   "metadata": {
    "lines_to_next_cell": 0
   },
   "source": [
    "-----------------------------------------------------------\n",
    "Utility to measure time and memory\n",
    "-----------------------------------------------------------"
   ]
  },
  {
   "cell_type": "code",
   "execution_count": null,
   "id": "f80bcd4b",
   "metadata": {
    "lines_to_next_cell": 1
   },
   "outputs": [],
   "source": [
    "def run_with_profiling(func, nums):\n",
    "    tracemalloc.start()\n",
    "    start = time.perf_counter()\n",
    "    result = func(nums)\n",
    "    end = time.perf_counter()\n",
    "    current, peak = tracemalloc.get_traced_memory()\n",
    "    tracemalloc.stop()\n",
    "    return result, end - start, peak / 1024  # memory in KB"
   ]
  },
  {
   "cell_type": "markdown",
   "id": "6a29467e",
   "metadata": {
    "lines_to_next_cell": 0
   },
   "source": [
    "-----------------------------------------------------------\n",
    "Main Driver\n",
    "-----------------------------------------------------------"
   ]
  },
  {
   "cell_type": "code",
   "execution_count": null,
   "id": "4ef9ad87",
   "metadata": {},
   "outputs": [],
   "source": [
    "if __name__ == \"__main__\":\n",
    "    nums = [2, 2, 1, 1, 1, 2, 2]\n",
    "    expected = 2\n",
    "\n",
    "    print(\"Expected:\", expected)\n",
    "    print(\"-\" * 60)\n",
    "\n",
    "    algorithms = [\n",
    "        (\"Hash Map\", majorityElement_hashmap),\n",
    "        (\"Sorting\", majorityElement_sort),\n",
    "        (\"Boyer-Moore\", majorityElement_boyer_moore)\n",
    "    ]\n",
    "\n",
    "    print(f\"{'Algorithm':<20} {'Result':<10} {'Time (s)':<12} {'Memory (KB)':<12}\")\n",
    "    print(\"-\" * 60)\n",
    "\n",
    "    for name, func in algorithms:\n",
    "        result, elapsed, mem = run_with_profiling(func, nums)\n",
    "        print(f\"{name:<20} {str(result):<10} {elapsed:<12.6f} {mem:<12.2f}\")"
   ]
  }
 ],
 "metadata": {
  "jupytext": {
   "cell_metadata_filter": "-all",
   "main_language": "python",
   "notebook_metadata_filter": "-all"
  }
 },
 "nbformat": 4,
 "nbformat_minor": 5
}
