{
 "cells": [
  {
   "cell_type": "markdown",
   "id": "f0c32755",
   "metadata": {
    "cell_marker": "\"\"\"",
    "lines_to_next_cell": 0
   },
   "source": [
    "Source: LeetCode\n",
    "\n",
    "Problem #: 207\n",
    "\n",
    "Title: Course Schedule\n",
    "\n",
    "Difficulty: Medium\n",
    "\n",
    "Topic: Graph\n",
    "\n",
    "Subtopic: BFS / Kahn's Algorithm\n",
    "\n",
    "Description: Given numCourses and a list of prerequisites, determine if all courses can be finished. This is equivalent to checking if the directed graph has a cycle.\n",
    "\n",
    "Logic (Kahn's BFS):\n",
    "1. Build adjacency list and compute in-degree for each node.\n",
    "2. Initialize a queue with nodes of in-degree 0.\n",
    "3. While queue is not empty:\n",
    "   - Pop a node.\n",
    "   - Decrease in-degree of all neighbors.\n",
    "   - If neighbor's in-degree becomes 0, add to queue.\n",
    "4. If all nodes are processed, return True; otherwise, cycle exists → return False.\n",
    "\n",
    "Time Complexity: O(V + E)\n",
    "\n",
    "Space Complexity: O(V + E)"
   ]
  },
  {
   "cell_type": "code",
   "execution_count": null,
   "id": "884ea599",
   "metadata": {},
   "outputs": [],
   "source": [
    "\n",
    "from collections import deque\n",
    "\n",
    "def canFinish(numCourses, prerequisites):\n",
    "    # Build adjacency list\n",
    "    graph = [[] for _ in range(numCourses)]\n",
    "    in_degree = [0] * numCourses\n",
    "\n",
    "    for dest, src in prerequisites:\n",
    "        graph[src].append(dest)\n",
    "        in_degree[dest] += 1\n",
    "\n",
    "    # Initialize queue with nodes having in-degree 0\n",
    "    queue = deque([i for i in range(numCourses) if in_degree[i] == 0])\n",
    "    visited_count = 0\n",
    "\n",
    "    while queue:\n",
    "        node = queue.popleft()\n",
    "        visited_count += 1\n",
    "        for neighbor in graph[node]:\n",
    "            in_degree[neighbor] -= 1\n",
    "            if in_degree[neighbor] == 0:\n",
    "                queue.append(neighbor)\n",
    "\n",
    "    return visited_count == numCourses"
   ]
  },
  {
   "cell_type": "markdown",
   "id": "80de6d04",
   "metadata": {
    "lines_to_next_cell": 0
   },
   "source": [
    "-----------------------------\n",
    "Example Test Cases\n",
    "-----------------------------"
   ]
  },
  {
   "cell_type": "code",
   "execution_count": null,
   "id": "61ee4b73",
   "metadata": {},
   "outputs": [],
   "source": [
    "if __name__ == \"__main__\":\n",
    "    numCourses = 2\n",
    "    prerequisites = [[1,0]]\n",
    "    print(\"Expected: True, Got:\", canFinish(numCourses, prerequisites))\n",
    "\n",
    "    numCourses = 2\n",
    "    prerequisites = [[1,0],[0,1]]\n",
    "    print(\"Expected: False, Got:\", canFinish(numCourses, prerequisites))"
   ]
  }
 ],
 "metadata": {
  "jupytext": {
   "cell_metadata_filter": "-all",
   "main_language": "python",
   "notebook_metadata_filter": "-all"
  }
 },
 "nbformat": 4,
 "nbformat_minor": 5
}
