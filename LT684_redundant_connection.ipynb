{
 "cells": [
  {
   "cell_type": "markdown",
   "id": "18f3dcdf",
   "metadata": {
    "cell_marker": "\"\"\"",
    "lines_to_next_cell": 1
   },
   "source": [
    "Source: LeetCode\n",
    "\n",
    "Problem #: 684\n",
    "\n",
    "Title: Redundant Connection\n",
    "\n",
    "Difficulty: Medium\n",
    "\n",
    "Topic: Graph\n",
    "\n",
    "Subtopic: DFS / Cycle Detection\n",
    "\n",
    "Description: Given edges of a graph that is a tree plus one extra edge, find the edge that forms a cycle. Return the last such edge in input order.\n",
    "\n",
    "Logic (DFS):\n",
    "1. Maintain an adjacency list for the graph.\n",
    "2. For each edge (u,v) in input order:\n",
    "   - Temporarily add edge (u,v).\n",
    "   - Use DFS to check if there is a cycle from u to v.\n",
    "   - If a cycle is detected → return edge (u,v).\n",
    "   - Else → keep the edge in the adjacency list."
   ]
  },
  {
   "cell_type": "code",
   "execution_count": null,
   "id": "77e135f4",
   "metadata": {
    "lines_to_next_cell": 1
   },
   "outputs": [],
   "source": [
    "def has_path(graph, src, dst, visited):\n",
    "    if src == dst:\n",
    "        return True\n",
    "    visited.add(src)\n",
    "    for neighbor in graph[src]:\n",
    "        if neighbor not in visited:\n",
    "            if has_path(graph, neighbor, dst, visited):\n",
    "                return True\n",
    "    return False"
   ]
  },
  {
   "cell_type": "code",
   "execution_count": null,
   "id": "247f416c",
   "metadata": {
    "lines_to_next_cell": 1
   },
   "outputs": [],
   "source": [
    "def findRedundantConnection(edges):\n",
    "    from collections import defaultdict\n",
    "    graph = defaultdict(list)\n",
    "\n",
    "    for u, v in edges:\n",
    "        visited = set()\n",
    "        if u in graph and v in graph and has_path(graph, u, v, visited):\n",
    "            return [u, v]\n",
    "        graph[u].append(v)\n",
    "        graph[v].append(u)\n",
    "\n",
    "    return []"
   ]
  },
  {
   "cell_type": "markdown",
   "id": "127ba950",
   "metadata": {
    "lines_to_next_cell": 0
   },
   "source": [
    "-----------------------------\n",
    "Example Test Cases\n",
    "-----------------------------"
   ]
  },
  {
   "cell_type": "code",
   "execution_count": null,
   "id": "08b17637",
   "metadata": {},
   "outputs": [],
   "source": [
    "if __name__ == \"__main__\":\n",
    "    edges = [[1,2],[1,3],[2,3]]\n",
    "    print(\"Expected: [2,3], Got:\", findRedundantConnection(edges))\n",
    "\n",
    "    edges = [[1,2],[2,3],[3,4],[1,4],[1,5]]\n",
    "    print(\"Expected: [1,4], Got:\", findRedundantConnection(edges))"
   ]
  }
 ],
 "metadata": {
  "jupytext": {
   "cell_metadata_filter": "-all",
   "main_language": "python",
   "notebook_metadata_filter": "-all"
  }
 },
 "nbformat": 4,
 "nbformat_minor": 5
}
