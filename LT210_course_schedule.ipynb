{
 "cells": [
  {
   "cell_type": "markdown",
   "id": "356e1b56",
   "metadata": {},
   "source": [
    "\"\"\"\n",
    "Source: LeetCode\n",
    "\n",
    "Problem #: 210\n",
    "\n",
    "Title: Course Schedule II\n",
    "\n",
    "Difficulty: Medium\n",
    "\n",
    "Topic: Graph\n",
    "\n",
    "Subtopic: DFS / Topological Sort\n",
    "\n",
    "Description: Given numCourses and a list of prerequisites, return a valid order to finish all courses. If no valid order exists (cycle in graph), return an empty list.\n",
    "\n",
    "Logic (DFS Topological Sort):\n",
    "1. Build adjacency list for the graph.\n",
    "2. Perform DFS for each unvisited node:\n",
    "   - Mark nodes in recursion path to detect cycles.\n",
    "   - After visiting all neighbors, append node to result list.\n",
    "3. Reverse result list to get topological order.\n",
    "4. If a cycle is detected, return an empty list.\n",
    "\n",
    "Time Complexity: O(V + E)\n",
    "\n",
    "Space Complexity: O(V + E) for recursion stack in worst case\n",
    "\"\"\"\n",
    "\n",
    "def findOrder(numCourses, prerequisites):\n",
    "    # Build adjacency list\n",
    "    graph = [[] for _ in range(numCourses)]\n",
    "    for dest, src in prerequisites:\n",
    "        graph[src].append(dest)\n",
    "\n",
    "    visited = [0] * numCourses  # 0=unvisited, 1=visiting, 2=visited\n",
    "    result = []\n",
    "\n",
    "    def dfs(node):\n",
    "        if visited[node] == 1:  # cycle detected\n",
    "            return False\n",
    "        if visited[node] == 2:  # already processed\n",
    "            return True\n",
    "\n",
    "        visited[node] = 1\n",
    "        for neighbor in graph[node]:\n",
    "            if not dfs(neighbor):\n",
    "                return False\n",
    "        visited[node] = 2\n",
    "        result.append(node)\n",
    "        return True\n",
    "\n",
    "    for course in range(numCourses):\n",
    "        if visited[course] == 0:\n",
    "            if not dfs(course):\n",
    "                return []  # cycle detected\n",
    "\n",
    "    result.reverse()  # reverse to get topological order\n",
    "    return result"
   ]
  },
  {
   "cell_type": "markdown",
   "id": "4ebbe7d0",
   "metadata": {
    "lines_to_next_cell": 0
   },
   "source": [
    "-----------------------------\n",
    "Example Test Cases\n",
    "-----------------------------"
   ]
  },
  {
   "cell_type": "code",
   "execution_count": null,
   "id": "b7bfe243",
   "metadata": {},
   "outputs": [],
   "source": [
    "if __name__ == \"__main__\":\n",
    "    numCourses = 4\n",
    "    prerequisites = [[1,0],[2,0],[3,1],[3,2]]\n",
    "    print(\"Expected: [0,1,2,3] or [0,2,1,3], Got:\", findOrder(numCourses, prerequisites))\n",
    "\n",
    "    numCourses = 2\n",
    "    prerequisites = [[1,0],[0,1]]\n",
    "    print(\"Expected: [], Got:\", findOrder(numCourses, prerequisites))"
   ]
  }
 ],
 "metadata": {
  "jupytext": {
   "cell_metadata_filter": "-all",
   "main_language": "python",
   "notebook_metadata_filter": "-all"
  }
 },
 "nbformat": 4,
 "nbformat_minor": 5
}
