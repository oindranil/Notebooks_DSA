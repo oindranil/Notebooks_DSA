{
 "cells": [
  {
   "cell_type": "markdown",
   "id": "500e173c",
   "metadata": {
    "cell_marker": "\"\"\"",
    "lines_to_next_cell": 1
   },
   "source": [
    "Source: LeetCode\n",
    "\n",
    "Problem #: 973\n",
    "\n",
    "Title: K Closest Points to Origin\n",
    "\n",
    "Difficulty: Medium (feels easy)\n",
    "\n",
    "Topic: Sorting / Heap\n",
    "\n",
    "Subtopic: Distance from origin\n",
    "\n",
    "Description: Given a list of points [x,y] and an integer k, return the k points closest to the origin. Distance metric = Euclidean distance (squared) = x^2 + y^2\n",
    "\n",
    "Logic:\n",
    "1. Compute squared distance for each point.\n",
    "2. Sort points by distance.\n",
    "3. Return the first k points.\n",
    "\n",
    "Time Complexity: O(n log n)\n",
    "\n",
    "Space Complexity: O(n)"
   ]
  },
  {
   "cell_type": "code",
   "execution_count": null,
   "id": "96e11584",
   "metadata": {},
   "outputs": [],
   "source": [
    "def kClosest_sort(points, k):\n",
    "    points.sort(key=lambda p: p[0]**2 + p[1]**2)\n",
    "    return points[:k]"
   ]
  },
  {
   "cell_type": "markdown",
   "id": "9b12f098",
   "metadata": {
    "lines_to_next_cell": 0
   },
   "source": [
    "-----------------------------\n",
    "Example Test Cases\n",
    "-----------------------------"
   ]
  },
  {
   "cell_type": "code",
   "execution_count": null,
   "id": "a6a284f3",
   "metadata": {},
   "outputs": [],
   "source": [
    "if __name__ == \"__main__\":\n",
    "    points = [[1,3],[-2,2],[5,8],[0,1]]\n",
    "    k = 2\n",
    "    print(\"Expected: [[-2,2],[0,1]] or similar, Got:\", kClosest_sort(points, k))\n",
    "\n",
    "    points = [[3,3],[5,-1],[-2,4]]\n",
    "    k = 2\n",
    "    print(\"Expected: [[3,3],[-2,4]] or similar, Got:\", kClosest_sort(points, k))"
   ]
  }
 ],
 "metadata": {
  "jupytext": {
   "cell_metadata_filter": "-all",
   "main_language": "python",
   "notebook_metadata_filter": "-all"
  }
 },
 "nbformat": 4,
 "nbformat_minor": 5
}
