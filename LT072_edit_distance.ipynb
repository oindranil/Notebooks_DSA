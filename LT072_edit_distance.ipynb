{
 "cells": [
  {
   "cell_type": "markdown",
   "id": "715c5920",
   "metadata": {
    "cell_marker": "\"\"\"",
    "lines_to_next_cell": 1
   },
   "source": [
    "program: Edit Distance\n",
    "\n",
    "topic: Dynamic Programming\n",
    "\n",
    "subtopic: DP on Strings\n",
    "\n",
    "source: LeetCode\n",
    "\n",
    "problem #: 72\n",
    "\n",
    "url: https://leetcode.com/problems/edit-distance/\n",
    "\n",
    "difficulty: Hard\n",
    "\n",
    "description: Given two strings word1 and word2, return the minimum number of operations required to convert word1 to word2. You can insert, delete, or replace a character.\n",
    "\n",
    "algorithm logic:\n",
    "- Use a 2D DP table `dp[i][j]` representing the minimum operations to convert first i characters of word1 to first j characters of word2.\n",
    "- Recurrence:\n",
    "    - If word1[i-1] == word2[j-1]: dp[i][j] = dp[i-1][j-1]\n",
    "    - Else: dp[i][j] = 1 + min(\n",
    "        dp[i-1][j],    # delete\n",
    "        dp[i][j-1],    # insert\n",
    "        dp[i-1][j-1]   # replace\n",
    "      )\n",
    "- Base cases:\n",
    "    - dp[0][j] = j (convert empty string to first j chars)\n",
    "    - dp[i][0] = i (convert first i chars to empty string)"
   ]
  },
  {
   "cell_type": "code",
   "execution_count": null,
   "id": "9a703e29",
   "metadata": {
    "lines_to_next_cell": 1
   },
   "outputs": [],
   "source": [
    "def minDistance(word1: str, word2: str) -> int:\n",
    "    m, n = len(word1), len(word2)\n",
    "    dp = [[0] * (n + 1) for _ in range(m + 1)]\n",
    "\n",
    "    # Initialize base cases\n",
    "    for i in range(m + 1):\n",
    "        dp[i][0] = i\n",
    "    for j in range(n + 1):\n",
    "        dp[0][j] = j\n",
    "\n",
    "    # Fill DP table\n",
    "    for i in range(1, m + 1):\n",
    "        for j in range(1, n + 1):\n",
    "            if word1[i - 1] == word2[j - 1]:\n",
    "                dp[i][j] = dp[i - 1][j - 1]\n",
    "            else:\n",
    "                dp[i][j] = 1 + min(\n",
    "                    dp[i - 1][j],    # delete\n",
    "                    dp[i][j - 1],    # insert\n",
    "                    dp[i - 1][j - 1] # replace\n",
    "                )\n",
    "    return dp[m][n]"
   ]
  },
  {
   "cell_type": "code",
   "execution_count": null,
   "id": "823d3644",
   "metadata": {},
   "outputs": [],
   "source": [
    "if __name__ == \"__main__\":\n",
    "    word1 = \"horse\"\n",
    "    word2 = \"ros\"\n",
    "    print(f\"Minimum edit distance between '{word1}' and '{word2}': {minDistance(word1, word2)}\")\n",
    "\n",
    "    word1 = \"intention\"\n",
    "    word2 = \"execution\"\n",
    "    print(f\"Minimum edit distance between '{word1}' and '{word2}': {minDistance(word1, word2)}\")"
   ]
  }
 ],
 "metadata": {
  "jupytext": {
   "cell_metadata_filter": "-all",
   "main_language": "python",
   "notebook_metadata_filter": "-all"
  }
 },
 "nbformat": 4,
 "nbformat_minor": 5
}
