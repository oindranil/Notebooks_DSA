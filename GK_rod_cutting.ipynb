{
 "cells": [
  {
   "cell_type": "code",
   "execution_count": null,
   "id": "564db209",
   "metadata": {
    "lines_to_next_cell": 1
   },
   "outputs": [],
   "source": [
    "# program: rod cutting\n",
    "#\n",
    "# topic: dynamic programming\n",
    "#\n",
    "# url: https://www.geeksforgeeks.org/problems/cutted-segments1642/1\n",
    "#\n",
    "# description:\n",
    "# Given a rod of length n and an array price[], where price[i] is the price of a rod piece of length i+1,\n",
    "# determine the maximum profit obtainable by cutting the rod into smaller lengths.\n",
    "#\n",
    "# algorithm:\n",
    "# This is an instance of Unbounded Knapsack.\n",
    "# dp[i] = maximum profit for rod length i.\n",
    "# Transition: dp[i] = max(price[j] + dp[i - (j+1)]) for all valid j.\n",
    "# Time complexity: O(n^2)\n",
    "# Space complexity: O(n)\n",
    "\n",
    "def rodCutting(prices, n):\n",
    "    dp = [0] * (n + 1)\n",
    "\n",
    "    # build table dp[] in bottom-up manner\n",
    "    for i in range(1, n + 1):  # rod length\n",
    "        max_val = float('-inf')\n",
    "        for j in range(i):  # cut at length j+1\n",
    "            max_val = max(max_val, prices[j] + dp[i - j - 1])\n",
    "        dp[i] = max_val\n",
    "\n",
    "    return dp[n]"
   ]
  },
  {
   "cell_type": "code",
   "execution_count": null,
   "id": "c98d5720",
   "metadata": {},
   "outputs": [],
   "source": [
    "# example run\n",
    "prices = [1, 5, 8, 9, 10, 17, 17, 20]  # prices for lengths 1..8\n",
    "n = len(prices)\n",
    "print(\"Rod length:\", n)\n",
    "print(\"Prices:\", prices)\n",
    "print(\"Maximum obtainable value:\", rodCutting(prices, n))  # Expected: 22"
   ]
  }
 ],
 "metadata": {
  "jupytext": {
   "cell_metadata_filter": "-all",
   "main_language": "python",
   "notebook_metadata_filter": "-all"
  }
 },
 "nbformat": 4,
 "nbformat_minor": 5
}
