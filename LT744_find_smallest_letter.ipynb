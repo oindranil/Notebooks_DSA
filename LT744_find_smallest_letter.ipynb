{
 "cells": [
  {
   "cell_type": "markdown",
   "id": "50c54855",
   "metadata": {
    "cell_marker": "\"\"\"",
    "lines_to_next_cell": 1
   },
   "source": [
    "Source: LeetCode\n",
    "\n",
    "Problem #: 744\n",
    "\n",
    "Title: Find Smallest Letter Greater Than Target\n",
    "\n",
    "Difficulty: Easy\n",
    "\n",
    "Topic: Search (Binary Search)\n",
    "\n",
    "Description: Given a list of sorted characters letters containing only lowercase letters,  and a target letter target, return the smallest character in the list that  is strictly greater than target. Letters wrap around, so if target is greater than or equal to the last character in letters, return the first character.\n",
    "\n",
    "Logic:\n",
    "Use binary search:\n",
    "1. Initialize left = 0, right = len(letters) - 1.\n",
    "2. While left <= right:\n",
    "   a. mid = left + (right - left)//2\n",
    "   b. If letters[mid] <= target → move right (left = mid + 1).\n",
    "   c. Else → move left (right = mid - 1).\n",
    "3. After loop ends:\n",
    "   - If left < len(letters) → letters[left] is the answer.\n",
    "   - Else → wrap-around → letters[0].\n",
    "\n",
    "Time Complexity: O(log n)\n",
    "\n",
    "Space Complexity: O(1)"
   ]
  },
  {
   "cell_type": "code",
   "execution_count": null,
   "id": "88e6bb04",
   "metadata": {},
   "outputs": [],
   "source": [
    "def nextGreatestLetter(letters, target):\n",
    "    left, right = 0, len(letters) - 1\n",
    "\n",
    "    while left <= right:\n",
    "        mid = left + (right - left) // 2\n",
    "        if letters[mid] <= target:\n",
    "            left = mid + 1\n",
    "        else:\n",
    "            right = mid - 1\n",
    "\n",
    "    return letters[left] if left < len(letters) else letters[0]"
   ]
  },
  {
   "cell_type": "markdown",
   "id": "4ef45574",
   "metadata": {
    "lines_to_next_cell": 0
   },
   "source": [
    "-----------------------------\n",
    "Example Test Cases\n",
    "-----------------------------"
   ]
  },
  {
   "cell_type": "code",
   "execution_count": null,
   "id": "bfb10aff",
   "metadata": {
    "lines_to_next_cell": 2
   },
   "outputs": [],
   "source": [
    "if __name__ == \"__main__\":\n",
    "    # Test case 1\n",
    "    letters = [\"c\",\"f\",\"j\"]\n",
    "    target = \"a\"\n",
    "    print(\"Expected: c, Got:\", nextGreatestLetter(letters, target))\n",
    "\n",
    "    # Test case 2\n",
    "    letters = [\"c\",\"f\",\"j\"]\n",
    "    target = \"c\"\n",
    "    print(\"Expected: f, Got:\", nextGreatestLetter(letters, target))\n",
    "\n",
    "    # Test case 3\n",
    "    letters = [\"x\",\"x\",\"y\", \"y\"]\n",
    "    target = \"z\"\n",
    "    print(\"Expected: x, Got:\", nextGreatestLetter(letters, target))"
   ]
  }
 ],
 "metadata": {
  "jupytext": {
   "cell_metadata_filter": "-all",
   "main_language": "python",
   "notebook_metadata_filter": "-all"
  }
 },
 "nbformat": 4,
 "nbformat_minor": 5
}
