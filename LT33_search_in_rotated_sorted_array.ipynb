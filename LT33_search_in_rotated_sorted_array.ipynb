{
 "cells": [
  {
   "cell_type": "markdown",
   "id": "bbd8179c",
   "metadata": {
    "cell_marker": "\"\"\"",
    "lines_to_next_cell": 0
   },
   "source": [
    "\n",
    "Source: LeetCode \n",
    "\n",
    "Problem #: 4\n",
    "\n",
    "Title: Median of Two Sorted Arrays\n",
    "\n",
    "Difficulty: Medium\n",
    "\n",
    "Topic: Search (Binary Search)\n",
    "\n",
    "Description: Given two sorted arrays nums1 and nums2 of size m and n respectively, return the median of the two sorted arrays. \n",
    "\n",
    "Algorithm:\n",
    "\n",
    "Use modified binary search:\n",
    "1. Initialize left and right pointers.\n",
    "2. Compute mid index.\n",
    "3. Check if nums[mid] == target → return mid.\n",
    "4. Determine which half is sorted:\n",
    "   - If left half is sorted and target lies within it → search left half.\n",
    "   - Else → search right half.\n",
    "   - If right half is sorted and target lies within it → search right half.\n",
    "   - Else → search left half.\n",
    "5. Repeat until target is found or search space is exhausted.\n",
    "\n",
    "Time Complexity: O(log n), Space Complexity: O(1)"
   ]
  },
  {
   "cell_type": "code",
   "execution_count": null,
   "id": "b7e9bc0c",
   "metadata": {
    "lines_to_next_cell": 1
   },
   "outputs": [],
   "source": [
    "def search(nums, target):\n",
    "    \"\"\"\n",
    "    :type nums: List[int]\n",
    "    :type target: int\n",
    "    :rtype: int\n",
    "    \"\"\"\n",
    "    left, right = 0, len(nums) - 1\n",
    "    \n",
    "    while left <= right:\n",
    "        mid = left + (right - left) // 2\n",
    "        \n",
    "        if nums[mid] == target:\n",
    "            return mid\n",
    "        \n",
    "        # Left half is sorted\n",
    "        if nums[left] <= nums[mid]:\n",
    "            if nums[left] <= target < nums[mid]:\n",
    "                right = mid - 1  # Target in left half\n",
    "            else:\n",
    "                left = mid + 1   # Target in right half\n",
    "                \n",
    "        # Right half is sorted\n",
    "        else:\n",
    "            if nums[mid] < target <= nums[right]:\n",
    "                left = mid + 1   # Target in right half\n",
    "            else:\n",
    "                right = mid - 1  # Target in left half\n",
    "                \n",
    "    return -1  # Target not found"
   ]
  },
  {
   "cell_type": "code",
   "execution_count": null,
   "id": "4124906b",
   "metadata": {
    "lines_to_next_cell": 0,
    "title": "[Markdown]"
   },
   "outputs": [],
   "source": [
    "# -----------------------------\n",
    "# Example Test Cases\n",
    "# -----------------------------"
   ]
  },
  {
   "cell_type": "code",
   "execution_count": null,
   "id": "e8e1abf0",
   "metadata": {},
   "outputs": [],
   "source": [
    "if __name__ == \"__main__\":\n",
    "    # Test case 1\n",
    "    nums = [4,5,6,7,0,1,2]\n",
    "    target = 0\n",
    "    print(\"Expected: 4, Got:\", search(nums, target))\n",
    "\n",
    "    # Test case 2\n",
    "    nums = [4,5,6,7,0,1,2]\n",
    "    target = 3\n",
    "    print(\"Expected: -1, Got:\", search(nums, target))\n",
    "\n",
    "    # Test case 3\n",
    "    nums = [1]\n",
    "    target = 0\n",
    "    print(\"Expected: -1, Got:\", search(nums, target))"
   ]
  }
 ],
 "metadata": {
  "jupytext": {
   "cell_metadata_filter": "title,-all",
   "main_language": "python",
   "notebook_metadata_filter": "-all"
  }
 },
 "nbformat": 4,
 "nbformat_minor": 5
}
