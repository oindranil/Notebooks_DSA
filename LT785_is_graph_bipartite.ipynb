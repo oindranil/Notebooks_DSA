{
 "cells": [
  {
   "cell_type": "markdown",
   "id": "5589536b",
   "metadata": {},
   "source": [
    "Problem 785: Is Graph Bipartite?\n",
    "\n",
    "Source: LeetCode\n",
    "\n",
    "Difficulty: Medium\n",
    "\n",
    "Logic:\n",
    "1. A graph is bipartite if we can color it using two colors\n",
    "   such that no two adjacent nodes have the same color.\n",
    "2. Use DFS to try coloring each connected component.\n",
    "3. If any conflict occurs (neighbor has the same color),\n",
    "   then the graph is not bipartite.\n",
    "\n",
    "Time Complexity: O(V + E) — visit all nodes and edges once\n",
    "\n",
    "Space Complexity: O(V) — color array + recursion stack"
   ]
  },
  {
   "cell_type": "code",
   "execution_count": null,
   "id": "ae113263",
   "metadata": {},
   "outputs": [],
   "source": [
    "def isBipartite(graph):\n",
    "    \"\"\"\n",
    "    :type graph: List[List[int]]\n",
    "    :rtype: bool\n",
    "    \"\"\"\n",
    "    n = len(graph)\n",
    "    color = [-1] * n  # -1 means uncolored, 0 and 1 are the two colors\n",
    "\n",
    "    def dfs(node, c):\n",
    "        color[node] = c\n",
    "        for neighbor in graph[node]:\n",
    "            if color[neighbor] == -1:  # not colored yet\n",
    "                if not dfs(neighbor, 1 - c):\n",
    "                    return False\n",
    "            elif color[neighbor] == c:  # conflict\n",
    "                return False\n",
    "        return True\n",
    "\n",
    "    # Need to check all components\n",
    "    for i in range(n):\n",
    "        if color[i] == -1:  # unvisited node\n",
    "            if not dfs(i, 0):\n",
    "                return False\n",
    "    return True"
   ]
  },
  {
   "cell_type": "markdown",
   "id": "85acce7b",
   "metadata": {
    "lines_to_next_cell": 0
   },
   "source": [
    "-----------------------------\n",
    "Example Test Cases\n",
    "-----------------------------"
   ]
  },
  {
   "cell_type": "code",
   "execution_count": null,
   "id": "17fab54d",
   "metadata": {},
   "outputs": [],
   "source": [
    "if __name__ == \"__main__\":\n",
    "    # Test case 1: Bipartite\n",
    "    graph = [[1,3],[0,2],[1,3],[0,2]]\n",
    "    print(\"Expected: True, Got:\", isBipartite(graph))\n",
    "\n",
    "    # Test case 2: Not Bipartite\n",
    "    graph = [[1,2,3],[0,2],[0,1,3],[0,2]]\n",
    "    print(\"Expected: False, Got:\", isBipartite(graph))"
   ]
  }
 ],
 "metadata": {
  "jupytext": {
   "cell_metadata_filter": "-all",
   "main_language": "python",
   "notebook_metadata_filter": "-all"
  }
 },
 "nbformat": 4,
 "nbformat_minor": 5
}
