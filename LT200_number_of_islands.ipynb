{
 "cells": [
  {
   "cell_type": "markdown",
   "id": "48fe5a39",
   "metadata": {
    "cell_marker": "\"\"\"",
    "lines_to_next_cell": 0
   },
   "source": [
    "Source: LeetCode\n",
    "\n",
    "Problem #: 200\n",
    "\n",
    "Title: Number of Islands\n",
    "\n",
    "Difficulty: Medium\n",
    "\n",
    "Topic: Graph / Grid\n",
    "\n",
    "Subtopic: DFS / BFS\n",
    "\n",
    "Description: Given a 2D grid map of '1's (land) and '0's (water), count the number of islands. An island is surrounded by water and is formed by connecting adjacent lands horizontally or vertically.\n",
    "\n",
    "Logic (DFS):\n",
    "1. Iterate through each cell in the grid.\n",
    "2. When a land cell is found, increment count.\n",
    "3. Perform DFS to mark all connected land cells as visited (change '1' → '0').\n",
    "4. Return the island count.\n",
    "\n",
    "Time Complexity: O(m * n)\n",
    "\n",
    "Space Complexity: O(m * n) for recursion stack in worst case"
   ]
  },
  {
   "cell_type": "code",
   "execution_count": null,
   "id": "85d95c96",
   "metadata": {},
   "outputs": [],
   "source": [
    "def numIslands(grid):\n",
    "    if not grid or not grid[0]:\n",
    "        return 0\n",
    "\n",
    "    rows, cols = len(grid), len(grid[0])\n",
    "    count = 0\n",
    "\n",
    "    def dfs(r, c):\n",
    "        if r < 0 or r >= rows or c < 0 or c >= cols or grid[r][c] != '1':\n",
    "            return\n",
    "        grid[r][c] = '0'  # mark as visited\n",
    "        dfs(r+1, c)\n",
    "        dfs(r-1, c)\n",
    "        dfs(r, c+1)\n",
    "        dfs(r, c-1)\n",
    "\n",
    "    for r in range(rows):\n",
    "        for c in range(cols):\n",
    "            if grid[r][c] == '1':\n",
    "                count += 1\n",
    "                dfs(r, c)\n",
    "\n",
    "    return count"
   ]
  },
  {
   "cell_type": "markdown",
   "id": "eae8b4a1",
   "metadata": {
    "lines_to_next_cell": 0
   },
   "source": [
    "-----------------------------\n",
    "Example Test Cases\n",
    "-----------------------------"
   ]
  },
  {
   "cell_type": "code",
   "execution_count": null,
   "id": "cfa0c412",
   "metadata": {},
   "outputs": [],
   "source": [
    "if __name__ == \"__main__\":\n",
    "    grid1 = [\n",
    "        [\"1\",\"1\",\"1\",\"1\",\"0\"],\n",
    "        [\"1\",\"1\",\"0\",\"1\",\"0\"],\n",
    "        [\"1\",\"1\",\"0\",\"0\",\"0\"],\n",
    "        [\"0\",\"0\",\"0\",\"0\",\"0\"]\n",
    "    ]\n",
    "    print(\"Expected: 1, Got:\", numIslands(grid1))\n",
    "\n",
    "    grid2 = [\n",
    "        [\"1\",\"1\",\"0\",\"0\",\"0\"],\n",
    "        [\"1\",\"1\",\"0\",\"0\",\"0\"],\n",
    "        [\"0\",\"0\",\"1\",\"0\",\"0\"],\n",
    "        [\"0\",\"0\",\"0\",\"1\",\"1\"]\n",
    "    ]\n",
    "    print(\"Expected: 3, Got:\", numIslands(grid2))"
   ]
  }
 ],
 "metadata": {
  "jupytext": {
   "cell_metadata_filter": "-all",
   "main_language": "python",
   "notebook_metadata_filter": "-all"
  }
 },
 "nbformat": 4,
 "nbformat_minor": 5
}
