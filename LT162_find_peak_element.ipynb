{
 "cells": [
  {
   "cell_type": "markdown",
   "id": "3b4fa6e1",
   "metadata": {
    "cell_marker": "\"\"\"",
    "lines_to_next_cell": 0
   },
   "source": [
    "Source: LeetCode\n",
    "\n",
    "Problem #: 162\n",
    "\n",
    "Title: Find Peak Element\n",
    "\n",
    "Difficulty: Medium\n",
    "\n",
    "Topic: Search (Binary Search)\n",
    "\n",
    "Description: Given an integer array nums where nums[i] != nums[i+1], find a peak element and return its index. A peak element is one that is greater than its neighbors.\n",
    "\n",
    "Logic:\n",
    "\n",
    "Use binary search on the array:\n",
    "1. Initialize left = 0, right = len(nums) - 1.\n",
    "2. While left < right:\n",
    "   a. mid = left + (right - left)//2\n",
    "   b. If nums[mid] < nums[mid+1] → ascending slope → move right (left = mid + 1)\n",
    "   c. Else → descending slope → move left (right = mid)\n",
    "3. When left == right, nums[left] is a peak.\n",
    "\n",
    "Time Complexity: O(log n)\n",
    "\n",
    "Space Complexity: O(1)"
   ]
  },
  {
   "cell_type": "code",
   "execution_count": null,
   "id": "d53e5f18",
   "metadata": {
    "lines_to_next_cell": 1
   },
   "outputs": [],
   "source": [
    "def findPeakElement(nums):\n",
    "    left, right = 0, len(nums) - 1\n",
    "    \n",
    "    while left < right:\n",
    "        mid = left + (right - left) // 2\n",
    "        if nums[mid] < nums[mid + 1]:\n",
    "            # Peak is to the right\n",
    "            left = mid + 1\n",
    "        else:\n",
    "            # Peak is at mid or to the left\n",
    "            right = mid\n",
    "            \n",
    "    return left"
   ]
  },
  {
   "cell_type": "markdown",
   "id": "78d227ba",
   "metadata": {
    "lines_to_next_cell": 0
   },
   "source": [
    "-----------------------------\n",
    "Example Test Cases\n",
    "-----------------------------"
   ]
  },
  {
   "cell_type": "code",
   "execution_count": null,
   "id": "fd2ac84d",
   "metadata": {
    "lines_to_next_cell": 2
   },
   "outputs": [],
   "source": [
    "if __name__ == \"__main__\":\n",
    "    # Test case 1\n",
    "    nums = [1,2,3,1]\n",
    "    print(\"Expected: 2, Got:\", findPeakElement(nums))\n",
    "\n",
    "    # Test case 2\n",
    "    nums = [1,2,1,3,5,6,4]\n",
    "    print(\"Expected: 5, Got:\", findPeakElement(nums))"
   ]
  }
 ],
 "metadata": {
  "jupytext": {
   "cell_metadata_filter": "-all",
   "main_language": "python",
   "notebook_metadata_filter": "-all"
  }
 },
 "nbformat": 4,
 "nbformat_minor": 5
}
