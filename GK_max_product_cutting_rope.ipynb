{
 "cells": [
  {
   "cell_type": "markdown",
   "id": "35d1e031",
   "metadata": {},
   "source": [
    "program: Maximum Product Cutting\n",
    "\n",
    "topic: Dynamic Programming (Divide & Conquer intuition)\n",
    "\n",
    "source: GeeksForGeeks\n",
    "\n",
    "url: https://www.geeksforgeeks.org/dsa/maximum-product-cutting-dp-36/\n",
    "\n",
    "description:\n",
    "\n",
    "Given a rope of integer length n (> 1), cut the rope into integer-length pieces\n",
    "\n",
    "(must make at least one cut) to maximize the product of the piece lengths.\n",
    "\n",
    "logic (DP):\n",
    "\n",
    "dp[i] = maximum product obtainable for rope length i.\n",
    "\n",
    "For each cut position j in 1..i-1:\n",
    "\n",
    "  - option1: cut into two pieces j and i-j without further cutting right piece -> j*(i-j)\n",
    "\n",
    "  - option2: cut into j and then optimally cut the remainder (i-j) -> j * dp[i-j]\n",
    "\n",
    "dp[i] = max over j of max(option1, option2)\n",
    "\n",
    "Time complexity: O(n^2)\n",
    "\n",
    "Space complexity: O(n) for dp; O(n^2) worst-case if you store piece lists for reconstruction."
   ]
  },
  {
   "cell_type": "code",
   "execution_count": null,
   "id": "0a84ed5b",
   "metadata": {
    "lines_to_next_cell": 1
   },
   "outputs": [],
   "source": [
    "def max_product_with_cuts(n: int):\n",
    "    if n < 2:\n",
    "        return 0, []\n",
    "\n",
    "    # dp[i] = best product for length i\n",
    "    dp = [0] * (n + 1)\n",
    "    # parts[i] = list of piece lengths that yield dp[i]\n",
    "    parts = [[] for _ in range(n + 1)]\n",
    "\n",
    "    # base cases\n",
    "    dp[0] = 0\n",
    "    dp[1] = 0\n",
    "    parts[0] = []\n",
    "    parts[1] = [1]\n",
    "\n",
    "    for i in range(2, n + 1):\n",
    "        max_val = 0\n",
    "        best_split = None\n",
    "        # try all first cut positions j (1..i-1)\n",
    "        for j in range(1, i):\n",
    "            # option1: don't further cut (i-j)\n",
    "            opt1 = j * (i - j)\n",
    "            if opt1 > max_val:\n",
    "                max_val = opt1\n",
    "                best_split = [j, i - j]\n",
    "\n",
    "            # option2: cut j and optimally cut (i-j)\n",
    "            opt2 = j * dp[i - j]\n",
    "            if opt2 > max_val:\n",
    "                max_val = opt2\n",
    "                # combine j with the best partition for i-j\n",
    "                best_split = [j] + parts[i - j]\n",
    "\n",
    "        dp[i] = max_val\n",
    "        parts[i] = best_split\n",
    "\n",
    "    return dp[n], parts[n]"
   ]
  },
  {
   "cell_type": "code",
   "execution_count": null,
   "id": "f942dcb0",
   "metadata": {},
   "outputs": [],
   "source": [
    "if __name__ == \"__main__\":\n",
    "    for n in [2, 3, 4, 5, 6, 7, 8, 9, 10]:\n",
    "        val, cuts = max_product_with_cuts(n)\n",
    "        print(f\"n = {n:2d} -> max product = {val:3d}, cuts = {cuts}\")\n",
    "\n",
    "    # explicit check for n = 10\n",
    "    val10, cuts10 = max_product_with_cuts(10)\n",
    "    print()\n",
    "    print(\"Check n=10:\")\n",
    "    print(\"Max product:\", val10)        # Expected: 36\n",
    "    print(\"One optimal partition:\", cuts10)  # e.g. [2,2,3,3] or equivalent"
   ]
  }
 ],
 "metadata": {
  "jupytext": {
   "cell_metadata_filter": "-all",
   "main_language": "python",
   "notebook_metadata_filter": "-all"
  }
 },
 "nbformat": 4,
 "nbformat_minor": 5
}
