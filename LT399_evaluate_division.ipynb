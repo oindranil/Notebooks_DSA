{
 "cells": [
  {
   "cell_type": "markdown",
   "id": "f470e3ac",
   "metadata": {
    "cell_marker": "\"\"\"",
    "lines_to_next_cell": 1
   },
   "source": [
    "Source: LeetCode\n",
    "\n",
    "Problem #: 399\n",
    "\n",
    "Title: Evaluate Division\n",
    "\n",
    "Difficulty: Medium\n",
    "\n",
    "Topic: Graph\n",
    "\n",
    "Subtopic: DFS\n",
    "\n",
    "Description: Given a list of equations like a / b = 2.0, evaluate division queries such as a / c. Return -1.0 if no path exists.\n",
    "\n",
    "Logic (Graph + DFS):\n",
    "1. Build a graph where each variable is a node.\n",
    "2. For each equation a / b = k, add edges:\n",
    "   - a → b with weight k\n",
    "   - b → a with weight 1/k\n",
    "3. For each query, perform DFS:\n",
    "   - Multiply weights along the path from source to destination\n",
    "   - Return -1.0 if no path exists\n",
    "4. Return a list of results for all queries.\n",
    "\n",
    "Time Complexity: O(Q * E) in worst case (Q = #queries, E = #edges)\n",
    "\n",
    "Space Complexity: O(V + E) for graph"
   ]
  },
  {
   "cell_type": "code",
   "execution_count": null,
   "id": "1c89a90e",
   "metadata": {},
   "outputs": [],
   "source": [
    "def calcEquation(equations, values, queries):\n",
    "    from collections import defaultdict\n",
    "\n",
    "    # Build graph\n",
    "    graph = defaultdict(dict)\n",
    "    for (a, b), val in zip(equations, values):\n",
    "        graph[a][b] = val\n",
    "        graph[b][a] = 1 / val\n",
    "\n",
    "    def dfs(src, dst, visited, acc):\n",
    "        if src not in graph or dst not in graph:\n",
    "            return -1.0\n",
    "        if src == dst:\n",
    "            return acc\n",
    "        visited.add(src)\n",
    "        for neighbor, weight in graph[src].items():\n",
    "            if neighbor not in visited:\n",
    "                result = dfs(neighbor, dst, visited, acc * weight)\n",
    "                if result != -1.0:\n",
    "                    return result\n",
    "        return -1.0\n",
    "\n",
    "    results = []\n",
    "    for src, dst in queries:\n",
    "        results.append(dfs(src, dst, set(), 1.0))\n",
    "    return results"
   ]
  },
  {
   "cell_type": "markdown",
   "id": "71f433b1",
   "metadata": {
    "lines_to_next_cell": 0
   },
   "source": [
    "-----------------------------\n",
    "Example Test Cases\n",
    "-----------------------------"
   ]
  },
  {
   "cell_type": "code",
   "execution_count": null,
   "id": "d62704f6",
   "metadata": {
    "lines_to_next_cell": 2
   },
   "outputs": [],
   "source": [
    "if __name__ == \"__main__\":\n",
    "    equations = [[\"a\",\"b\"],[\"b\",\"c\"]]\n",
    "    values = [2.0,3.0]\n",
    "    queries = [[\"a\",\"c\"],[\"b\",\"a\"],[\"a\",\"e\"],[\"a\",\"a\"],[\"x\",\"x\"]]\n",
    "    print(\"Expected: [6.0, 0.5, -1.0, 1.0, -1.0], Got:\", calcEquation(equations, values, queries))"
   ]
  }
 ],
 "metadata": {
  "jupytext": {
   "cell_metadata_filter": "-all",
   "main_language": "python",
   "notebook_metadata_filter": "-all"
  }
 },
 "nbformat": 4,
 "nbformat_minor": 5
}
