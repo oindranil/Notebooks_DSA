{
 "cells": [
  {
   "cell_type": "markdown",
   "id": "264aab84",
   "metadata": {
    "lines_to_next_cell": 0
   },
   "source": [
    "Source: LeetCode\n",
    "\n",
    "Problem #: 23\n",
    "\n",
    "Title: Merge k Sorted Lists\n",
    "\n",
    "Difficulty: Hard\n",
    "\n",
    "Topic: Heap / Priority Queue\n",
    "\n",
    "Subtopic: Linked List Merging\n",
    "\n",
    "Description:\n",
    "\n",
    "Given k sorted linked lists, merge them into one sorted linked list.\n",
    "\n",
    "Logic (Min-Heap Approach):\n",
    "1. Initialize a min-heap with the head of each non-empty linked list.\n",
    "2. Pop the smallest node from the heap and append it to the merged list.\n",
    "3. If the popped node has a next node, push it into the heap.\n",
    "4. Repeat until the heap is empty.\n",
    "Time Complexity: O(N log k), N = total nodes, k = number of lists\n",
    "Space Complexity: O(k) for the heap"
   ]
  },
  {
   "cell_type": "code",
   "execution_count": null,
   "id": "6f38c049",
   "metadata": {
    "lines_to_next_cell": 1
   },
   "outputs": [],
   "source": [
    "import heapq"
   ]
  },
  {
   "cell_type": "code",
   "execution_count": null,
   "id": "149ba2bc",
   "metadata": {
    "lines_to_next_cell": 1
   },
   "outputs": [],
   "source": [
    "# Definition for singly-linked list.\n",
    "class ListNode:\n",
    "    def __init__(self, val=0, next=None):\n",
    "        self.val = val\n",
    "        self.next = next\n",
    "\n",
    "    # Helper function to convert list to ListNode\n",
    "    @staticmethod\n",
    "    def from_list(lst):\n",
    "        dummy = ListNode()\n",
    "        current = dummy\n",
    "        for val in lst:\n",
    "            current.next = ListNode(val)\n",
    "            current = current.next\n",
    "        return dummy.next\n",
    "\n",
    "    # Helper function to convert ListNode to list\n",
    "    def to_list(self):\n",
    "        res = []\n",
    "        current = self\n",
    "        while current:\n",
    "            res.append(current.val)\n",
    "            current = current.next\n",
    "        return res"
   ]
  },
  {
   "cell_type": "code",
   "execution_count": null,
   "id": "c9fd353b",
   "metadata": {},
   "outputs": [],
   "source": [
    "def mergeKLists(lists):\n",
    "    min_heap = []\n",
    "    # Push initial heads with (value, list_index, node)\n",
    "    for idx, node in enumerate(lists):\n",
    "        if node:\n",
    "            heapq.heappush(min_heap, (node.val, idx, node))\n",
    "\n",
    "    dummy = ListNode()\n",
    "    current = dummy\n",
    "\n",
    "    while min_heap:\n",
    "        val, idx, node = heapq.heappop(min_heap)\n",
    "        current.next = node\n",
    "        current = current.next\n",
    "        if node.next:\n",
    "            heapq.heappush(min_heap, (node.next.val, idx, node.next))\n",
    "\n",
    "    return dummy.next"
   ]
  },
  {
   "cell_type": "markdown",
   "id": "a77b2b85",
   "metadata": {
    "lines_to_next_cell": 0
   },
   "source": [
    "-----------------------------\n",
    "Example Test Cases\n",
    "-----------------------------"
   ]
  },
  {
   "cell_type": "code",
   "execution_count": null,
   "id": "cfa9539d",
   "metadata": {},
   "outputs": [],
   "source": [
    "if __name__ == \"__main__\":\n",
    "    lists = [\n",
    "        ListNode.from_list([1,4,5]),\n",
    "        ListNode.from_list([1,3,4]),\n",
    "        ListNode.from_list([2,6])\n",
    "    ]\n",
    "    merged = mergeKLists(lists)\n",
    "    print(\"Expected: [1,1,2,3,4,4,5,6], Got:\", merged.to_list())\n",
    "\n",
    "    lists = [\n",
    "        ListNode.from_list([]),\n",
    "        ListNode.from_list([1])\n",
    "    ]\n",
    "    merged = mergeKLists(lists)\n",
    "    print(\"Expected: [1], Got:\", merged.to_list())"
   ]
  }
 ],
 "metadata": {
  "jupytext": {
   "cell_metadata_filter": "-all",
   "main_language": "python",
   "notebook_metadata_filter": "-all"
  }
 },
 "nbformat": 4,
 "nbformat_minor": 5
}
