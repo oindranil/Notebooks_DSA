{
 "cells": [
  {
   "cell_type": "markdown",
   "id": "46668d80",
   "metadata": {
    "cell_marker": "\"\"\""
   },
   "source": [
    "Source: LeetCode\n",
    "\n",
    "Problem #: 347\n",
    "\n",
    "Title: Top K Frequent Elements\n",
    "\n",
    "Difficulty: Medium\n",
    "\n",
    "Topic: Hash Table + Heap\n",
    "\n",
    "Subtopic: Min-Heap of size k\n",
    "\n",
    "Description: Return the k most frequent elements from nums.\n",
    "\n",
    "Logic (Min-Heap Approach, Detailed):\n",
    "1. Count frequencies\n",
    "   - Scan the input array nums once.\n",
    "   - Use a dictionary freq[num] = count to track occurrences.\n",
    "   - Complexity: O(n), where n is total number of elements.\n",
    "\n",
    "2. Build a min-heap of size k\n",
    "   - Initialize an empty min-heap.\n",
    "   - For each (num, count) pair from the dictionary:\n",
    "       a. Push (count, num) into the heap.\n",
    "       b. If heap size exceeds k, pop the smallest frequency element.\n",
    "   - This ensures the heap always contains the k elements with highest frequencies.\n",
    "   - Complexity: O(m log k), where m = number of unique elements.\n",
    "\n",
    "3. Why a min-heap works\n",
    "   - A min-heap keeps the smallest element at the root.\n",
    "   - By popping the smallest when heap size > k, we discard the less frequent numbers.\n",
    "   - At the end, the heap contains exactly the top k frequent elements.\n",
    "\n",
    "4. Extract the result\n",
    "   - Iterate over the heap and collect the numbers (ignoring the frequency).\n",
    "   - Order of elements in the output can be arbitrary.\n",
    "\n",
    "5. Summary\n",
    "   - Avoids sorting all elements (O(m log m)), efficient when k is small.\n",
    "   - Uses O(k) extra space for the heap.\n",
    "   - Naturally handles duplicates."
   ]
  },
  {
   "cell_type": "code",
   "execution_count": null,
   "id": "a4358fa9",
   "metadata": {},
   "outputs": [],
   "source": [
    "import heapq\n",
    "\n",
    "def topKFrequent_heap(nums, k):\n",
    "    freq = {}\n",
    "    for num in nums:\n",
    "        freq[num] = freq.get(num, 0) + 1\n",
    "\n",
    "    min_heap = []\n",
    "    for num, f in freq.items():\n",
    "        heapq.heappush(min_heap, (f, num))\n",
    "        if len(min_heap) > k:\n",
    "            heapq.heappop(min_heap)\n",
    "\n",
    "    return [num for _, num in min_heap]"
   ]
  },
  {
   "cell_type": "markdown",
   "id": "f52c69b2",
   "metadata": {
    "lines_to_next_cell": 0
   },
   "source": [
    "-----------------------------\n",
    "Example Test Cases\n",
    "-----------------------------"
   ]
  },
  {
   "cell_type": "code",
   "execution_count": null,
   "id": "43ae29bd",
   "metadata": {},
   "outputs": [],
   "source": [
    "if __name__ == \"__main__\":\n",
    "    nums = [1,1,1,2,2,3]\n",
    "    k = 2\n",
    "    print(\"Expected: [1,2], Got:\", topKFrequent_heap(nums, k))\n",
    "\n",
    "    nums = [1]\n",
    "    k = 1\n",
    "    print(\"Expected: [1], Got:\", topKFrequent_heap(nums, k))\n",
    "\n",
    "    nums = [4,1,-1,2,-1,2,3]\n",
    "    k = 2\n",
    "    print(\"Expected: [-1,2], Got:\", topKFrequent_heap(nums, k))"
   ]
  }
 ],
 "metadata": {
  "jupytext": {
   "cell_metadata_filter": "-all",
   "main_language": "python",
   "notebook_metadata_filter": "-all"
  }
 },
 "nbformat": 4,
 "nbformat_minor": 5
}
