{
 "cells": [
  {
   "cell_type": "markdown",
   "id": "589f2113",
   "metadata": {
    "cell_marker": "\"\"\"",
    "lines_to_next_cell": 0
   },
   "source": [
    "Source: LeetCode \n",
    "\n",
    "Problem #: 69\n",
    "\n",
    "Title: sqrt(x)\n",
    "\n",
    "Difficulty: Easy\n",
    "\n",
    "Topic: Search (Binary Search)\n",
    "\n",
    "Description: Given a non-negative integer x, return the square root of x rounded down to the nearest integer. "
   ]
  },
  {
   "cell_type": "code",
   "execution_count": null,
   "id": "29982b63",
   "metadata": {
    "lines_to_next_cell": 1
   },
   "outputs": [],
   "source": [
    "def mySqrt(x):\n",
    "    \"\"\"\n",
    "    :type x: int\n",
    "    :rtype: int\n",
    "    \"\"\"\n",
    "    root = 1\n",
    "    while root*root<=x:\n",
    "        root += 1\n",
    "    return root-1"
   ]
  },
  {
   "cell_type": "code",
   "execution_count": null,
   "id": "27aa1133",
   "metadata": {
    "lines_to_next_cell": 0,
    "title": "[Markdown]"
   },
   "outputs": [],
   "source": [
    "# -----------------------------\n",
    "# Example Test Cases\n",
    "# -----------------------------"
   ]
  },
  {
   "cell_type": "code",
   "execution_count": null,
   "id": "4537d71f",
   "metadata": {
    "lines_to_next_cell": 2
   },
   "outputs": [],
   "source": [
    "if __name__ == \"__main__\":\n",
    "    # Test case 1\n",
    "    x = 4\n",
    "    print(\"Expected: 2, Got:\", mySqrt(x))\n",
    "\n",
    "    # Test case 2\n",
    "    x = 8\n",
    "    print(\"Expected: 2, Got:\", mySqrt(x))"
   ]
  }
 ],
 "metadata": {
  "jupytext": {
   "cell_metadata_filter": "title,-all",
   "main_language": "python",
   "notebook_metadata_filter": "-all"
  }
 },
 "nbformat": 4,
 "nbformat_minor": 5
}
