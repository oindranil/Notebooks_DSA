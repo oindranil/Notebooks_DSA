{
 "cells": [
  {
   "cell_type": "markdown",
   "id": "2ef84243",
   "metadata": {},
   "source": [
    "Problem 1135: Connecting Cities With Minimum Cost\n",
    "\n",
    "Source: LeetCode\n",
    "\n",
    "Difficulty: Hard\n",
    "\n",
    "Logic (Prim's Algorithm):\n",
    "1. Build adjacency list for the graph.\n",
    "2. Start from city 1, add all edges to a min-heap.\n",
    "3. Repeatedly pick the smallest edge that leads to a new city.\n",
    "4. Keep adding cities until all n cities are connected.\n",
    "5. If fewer than n cities are connected, return -1.\n",
    "\n",
    "Time Complexity: O(E log V)  (heap operations)\n",
    "\n",
    "Space Complexity: O(E + V)  (graph + heap + visited)\n",
    "-----------------------------------------------------------"
   ]
  },
  {
   "cell_type": "code",
   "execution_count": null,
   "id": "e33b73a7",
   "metadata": {},
   "outputs": [],
   "source": [
    "import heapq\n",
    "\n",
    "def minimumCost(n, connections):\n",
    "    \"\"\"\n",
    "    :type n: int\n",
    "    :type connections: List[List[int]]\n",
    "    :rtype: int\n",
    "    \"\"\"\n",
    "    # Build adjacency list\n",
    "    graph = {i: [] for i in range(1, n+1)}\n",
    "    for u, v, cost in connections:\n",
    "        graph[u].append((cost, v))\n",
    "        graph[v].append((cost, u))\n",
    "\n",
    "    visited = set()\n",
    "    min_heap = [(0, 1)]  # (cost, city), start with city 1\n",
    "    total_cost = 0\n",
    "\n",
    "    while min_heap and len(visited) < n:\n",
    "        cost, city = heapq.heappop(min_heap)\n",
    "        if city in visited:\n",
    "            continue\n",
    "        visited.add(city)\n",
    "        total_cost += cost\n",
    "\n",
    "        for next_cost, neighbor in graph[city]:\n",
    "            if neighbor not in visited:\n",
    "                heapq.heappush(min_heap, (next_cost, neighbor))\n",
    "\n",
    "    return total_cost if len(visited) == n else -1"
   ]
  },
  {
   "cell_type": "markdown",
   "id": "9a6184a6",
   "metadata": {
    "lines_to_next_cell": 0
   },
   "source": [
    "-----------------------------\n",
    "Example Test Cases\n",
    "-----------------------------"
   ]
  },
  {
   "cell_type": "code",
   "execution_count": null,
   "id": "28a58945",
   "metadata": {},
   "outputs": [],
   "source": [
    "if __name__ == \"__main__\":\n",
    "    # Test case 1: Fully connectable\n",
    "    n = 3\n",
    "    connections = [[1,2,5],[1,3,6],[2,3,1]]\n",
    "    print(\"Expected: 6, Got:\", minimumCost(n, connections))\n",
    "\n",
    "    # Test case 2: Not fully connectable\n",
    "    n = 4\n",
    "    connections = [[1,2,3],[3,4,4]]\n",
    "    print(\"Expected: -1, Got:\", minimumCost(n, connections))"
   ]
  }
 ],
 "metadata": {
  "jupytext": {
   "cell_metadata_filter": "-all",
   "main_language": "python",
   "notebook_metadata_filter": "-all"
  }
 },
 "nbformat": 4,
 "nbformat_minor": 5
}
