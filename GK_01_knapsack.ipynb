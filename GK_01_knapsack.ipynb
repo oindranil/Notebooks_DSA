{
 "cells": [
  {
   "cell_type": "markdown",
   "id": "630af66b",
   "metadata": {
    "cell_marker": "\"\"\"",
    "lines_to_next_cell": 0
   },
   "source": [
    "program: 0-1 Knapsack Problem\n",
    "\n",
    "topic: Dynamic Programming\n",
    "\n",
    "subtopic: Tabulation (Bottom-Up)\n",
    "\n",
    "source: GeeksForGeeks\n",
    "\n",
    "url: [0-1 Knapsack Problem | DP-10](https://www.geeksforgeeks.org/0-1-knapsack-problem-dp-10/)\n",
    "\n",
    "difficulty: Medium\n",
    "\n",
    "description: Given weights and values of N items, put these items in a knapsack of capacity W\n",
    "to get the maximum total value. Each item can either be included (1) or excluded (0).\n",
    "\n",
    "algorithm logic:\n",
    "- We use a DP table `K[i][w]` where `i` represents items considered (1..n) and `w` represents\n",
    "  capacities from 0 to W.\n",
    "- Recurrence:\n",
    "    K[i][w] = max(\n",
    "        value[i-1] + K[i-1][w - weight[i-1]]  if weight[i-1] <= w,\n",
    "        K[i-1][w]\n",
    "    )\n",
    "- Base case: K[0][*] = 0 and K[*][0] = 0\n",
    "- After filling the table, reconstruct the solution by tracing back from K[n][W] to see\n",
    "  which items were included."
   ]
  },
  {
   "cell_type": "code",
   "execution_count": null,
   "id": "42e4f2b0",
   "metadata": {
    "lines_to_next_cell": 1
   },
   "outputs": [],
   "source": [
    "def knapsack(W, weights, values, n):\n",
    "    \"\"\"\n",
    "    Solves 0-1 Knapsack Problem using bottom-up DP.\n",
    "    Returns the maximum value and the selection vector.\n",
    "    \"\"\"\n",
    "    # DP table\n",
    "    K = [[0 for _ in range(W + 1)] for _ in range(n + 1)]\n",
    "\n",
    "    for i in range(1, n + 1):\n",
    "        for w in range(1, W + 1):\n",
    "            if weights[i - 1] <= w:\n",
    "                K[i][w] = max(values[i - 1] + K[i - 1][w - weights[i - 1]], K[i - 1][w])\n",
    "            else:\n",
    "                K[i][w] = K[i - 1][w]\n",
    "\n",
    "    # reconstruct selected items\n",
    "    selection = [0] * n\n",
    "    w = W\n",
    "    for i in range(n, 0, -1):\n",
    "        if K[i][w] != K[i - 1][w]:  # item was included\n",
    "            selection[i - 1] = 1\n",
    "            w -= weights[i - 1]\n",
    "\n",
    "    return K[n][W], selection"
   ]
  },
  {
   "cell_type": "code",
   "execution_count": null,
   "id": "5712ba5d",
   "metadata": {},
   "outputs": [],
   "source": [
    "if __name__ == \"__main__\":\n",
    "    values = [60, 100, 120]\n",
    "    weights = [10, 20, 30]\n",
    "    W = 50\n",
    "    n = len(values)\n",
    "\n",
    "    print(\"Values:\", values)\n",
    "    print(\"Weights:\", weights)\n",
    "    print(\"Capacity:\", W)\n",
    "\n",
    "    max_val, selection = knapsack(W, weights, values, n)\n",
    "    print(\"\\nMaximum Value:\", max_val)\n",
    "    print(\"Selection (0=not included, 1=included):\", selection)"
   ]
  }
 ],
 "metadata": {
  "jupytext": {
   "cell_metadata_filter": "-all",
   "main_language": "python",
   "notebook_metadata_filter": "-all"
  }
 },
 "nbformat": 4,
 "nbformat_minor": 5
}
