{
 "cells": [
  {
   "cell_type": "markdown",
   "id": "d05b4dc8",
   "metadata": {
    "cell_marker": "\"\"\"",
    "lines_to_next_cell": 1
   },
   "source": [
    "Source: LeetCode\n",
    "\n",
    "Problem #: 695\n",
    "\n",
    "Title: Max Area of Island\n",
    "\n",
    "Difficulty: Medium\n",
    "\n",
    "Topic: Graph\n",
    "\n",
    "Subtopic: DFS / Grid\n",
    "\n",
    "Description: Given a 2D grid of 0s (water) and 1s (land), find the maximum area of an island. An island is a connected component of 1s connected 4-directionally.\n",
    "\n",
    "Logic (DFS):\n",
    "1. Iterate through each cell in the grid.\n",
    "2. When a land cell (1) is found:\n",
    "   - Start DFS to explore the entire island.\n",
    "   - Mark visited cells as 0 to avoid revisiting.\n",
    "   - Count the number of cells visited → area of this island.\n",
    "3. Keep track of the maximum area among all islands.\n",
    "\n",
    "Time Complexity: O(m * n)\n",
    "\n",
    "Space Complexity: O(m * n) recursion stack in worst case"
   ]
  },
  {
   "cell_type": "code",
   "execution_count": null,
   "id": "1759b57f",
   "metadata": {},
   "outputs": [],
   "source": [
    "def maxAreaOfIsland(grid):\n",
    "    if not grid or not grid[0]:\n",
    "        return 0\n",
    "\n",
    "    rows, cols = len(grid), len(grid[0])\n",
    "\n",
    "    def dfs(r, c):\n",
    "        if r < 0 or r >= rows or c < 0 or c >= cols or grid[r][c] == 0:\n",
    "            return 0\n",
    "        grid[r][c] = 0  # mark as visited\n",
    "        area = 1\n",
    "        area += dfs(r+1, c)\n",
    "        area += dfs(r-1, c)\n",
    "        area += dfs(r, c+1)\n",
    "        area += dfs(r, c-1)\n",
    "        return area\n",
    "\n",
    "    max_area = 0\n",
    "    for r in range(rows):\n",
    "        for c in range(cols):\n",
    "            if grid[r][c] == 1:\n",
    "                max_area = max(max_area, dfs(r, c))\n",
    "\n",
    "    return max_area"
   ]
  },
  {
   "cell_type": "markdown",
   "id": "437c81f4",
   "metadata": {
    "lines_to_next_cell": 0
   },
   "source": [
    "-----------------------------\n",
    "Example Test Cases\n",
    "-----------------------------"
   ]
  },
  {
   "cell_type": "code",
   "execution_count": null,
   "id": "624239fc",
   "metadata": {},
   "outputs": [],
   "source": [
    "if __name__ == \"__main__\":\n",
    "    grid1 = [\n",
    "        [0,0,1,0,0,0,0,1,0,0,0,0,0],\n",
    "        [0,0,0,0,0,0,0,1,1,1,0,0,0],\n",
    "        [0,1,1,0,1,0,0,0,0,0,0,0,0],\n",
    "        [0,1,0,0,1,1,0,0,1,0,1,0,0],\n",
    "        [0,1,0,0,1,1,0,0,1,1,1,0,0],\n",
    "        [0,0,0,0,0,0,0,0,0,0,1,0,0],\n",
    "        [0,0,0,0,0,0,0,1,1,1,0,0,0],\n",
    "        [0,0,0,0,0,0,0,1,1,0,0,0,0]\n",
    "    ]\n",
    "    print(\"Expected: 6, Got:\", maxAreaOfIsland(grid1))\n",
    "\n",
    "    grid2 = [\n",
    "        [0,0,0,0,0,0,0,0]\n",
    "    ]\n",
    "    print(\"Expected: 0, Got:\", maxAreaOfIsland(grid2))"
   ]
  }
 ],
 "metadata": {
  "jupytext": {
   "cell_metadata_filter": "-all",
   "main_language": "python",
   "notebook_metadata_filter": "-all"
  }
 },
 "nbformat": 4,
 "nbformat_minor": 5
}
