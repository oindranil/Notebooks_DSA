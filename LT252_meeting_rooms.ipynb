{
 "cells": [
  {
   "cell_type": "markdown",
   "id": "3a186ad4",
   "metadata": {
    "cell_marker": "\"\"\"",
    "lines_to_next_cell": 0
   },
   "source": [
    "Source: LeetCode\n",
    "\n",
    "Problem #: 252\n",
    "\n",
    "Title: Meeting Rooms\n",
    "\n",
    "Difficulty: Easy\n",
    "\n",
    "Topic: Sort / Interval\n",
    "\n",
    "Description: Given an array of meeting time intervals where intervals[i] = [start_i, end_i], determine if a person can attend all meetings (i.e., no overlapping intervals).\n",
    "\n",
    "Logic:\n",
    "1. Sort intervals by their start time.\n",
    "2. Traverse the intervals:\n",
    "   - If the current interval's start is less than the previous interval's end, there is an overlap → return False.\n",
    "3. If no overlap found → return True.\n",
    "\n",
    "Time Complexity: O(n log n) due to sorting\n",
    "\n",
    "Space Complexity: O(1) (ignoring input sort)"
   ]
  },
  {
   "cell_type": "code",
   "execution_count": null,
   "id": "a6b689a1",
   "metadata": {},
   "outputs": [],
   "source": [
    "def canAttendMeetings(intervals):\n",
    "    \"\"\"\n",
    "    Return True if a person can attend all meetings (no overlapping intervals).\n",
    "    \"\"\"\n",
    "    # Sort intervals by start time\n",
    "    intervals.sort(key=lambda x: x[0])\n",
    "    \n",
    "    # Check for overlap\n",
    "    for i in range(1, len(intervals)):\n",
    "        if intervals[i][0] < intervals[i-1][1]:\n",
    "            return False\n",
    "    return True"
   ]
  },
  {
   "cell_type": "markdown",
   "id": "d5b548a7",
   "metadata": {
    "lines_to_next_cell": 0
   },
   "source": [
    "-----------------------------\n",
    "Example Test Cases\n",
    "-----------------------------"
   ]
  },
  {
   "cell_type": "code",
   "execution_count": null,
   "id": "e67d5a14",
   "metadata": {},
   "outputs": [],
   "source": [
    "if __name__ == \"__main__\":\n",
    "    # Test case 1\n",
    "    intervals = [[0, 30], [5, 10], [15, 20]]\n",
    "    print(\"Expected: False, Got:\", canAttendMeetings(intervals))\n",
    "\n",
    "    # Test case 2\n",
    "    intervals = [[7, 10], [2, 4]]\n",
    "    print(\"Expected: True, Got:\", canAttendMeetings(intervals))\n",
    "\n",
    "    # Test case 3 (no overlap, end=start)\n",
    "    intervals = [[1, 2], [2, 3], [3, 4]]\n",
    "    print(\"Expected: True, Got:\", canAttendMeetings(intervals))\n",
    "\n",
    "    # Test case 4 (single meeting)\n",
    "    intervals = [[5, 10]]\n",
    "    print(\"Expected: True, Got:\", canAttendMeetings(intervals))\n",
    "\n",
    "    # Test case 5 (nested overlap)\n",
    "    intervals = [[1, 10], [2, 6], [7, 9]]\n",
    "    print(\"Expected: False, Got:\", canAttendMeetings(intervals))"
   ]
  }
 ],
 "metadata": {
  "jupytext": {
   "cell_metadata_filter": "-all",
   "main_language": "python",
   "notebook_metadata_filter": "-all"
  }
 },
 "nbformat": 4,
 "nbformat_minor": 5
}
