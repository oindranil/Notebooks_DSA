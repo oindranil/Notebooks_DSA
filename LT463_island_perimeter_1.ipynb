{
 "cells": [
  {
   "cell_type": "markdown",
   "id": "d002dc0a",
   "metadata": {
    "cell_marker": "\"\"\"",
    "lines_to_next_cell": 1
   },
   "source": [
    "Source: LeetCode\n",
    "\n",
    "Problem #: 463\n",
    "\n",
    "Title: Island Perimeter\n",
    "\n",
    "Difficulty: Easy\n",
    "\n",
    "Topic: Graph / Grid\n",
    "\n",
    "Subtopic: Counting Edges\n",
    "\n",
    "Description: You are given a map in the form of a 2D grid where 1 represents land and 0 represents water. Return the perimeter of the island.\n",
    "\n",
    "Logic:\n",
    "1. Iterate through grid cells.\n",
    "2. For each land cell:\n",
    "   - Start with +4.\n",
    "   - Subtract 2 if it shares an edge with land above.\n",
    "   - Subtract 2 if it shares an edge with land to the left.\n",
    "3. Sum all contributions.\n",
    "\n",
    "Time Complexity: O(m*n)\n",
    "\n",
    "Space Complexity: O(1)"
   ]
  },
  {
   "cell_type": "code",
   "execution_count": null,
   "id": "d480c4b3",
   "metadata": {},
   "outputs": [],
   "source": [
    "def islandPerimeter(grid):\n",
    "    if not grid:\n",
    "        return 0\n",
    "\n",
    "    rows, cols = len(grid), len(grid[0])\n",
    "    perimeter = 0\n",
    "\n",
    "    for r in range(rows):\n",
    "        for c in range(cols):\n",
    "            if grid[r][c] == 1:\n",
    "                perimeter += 4\n",
    "                if r > 0 and grid[r-1][c] == 1:\n",
    "                    perimeter -= 2\n",
    "                if c > 0 and grid[r][c-1] == 1:\n",
    "                    perimeter -= 2\n",
    "\n",
    "    return perimeter"
   ]
  },
  {
   "cell_type": "markdown",
   "id": "2f99ca36",
   "metadata": {
    "lines_to_next_cell": 0
   },
   "source": [
    "-----------------------------\n",
    "Example Test Cases\n",
    "-----------------------------"
   ]
  },
  {
   "cell_type": "code",
   "execution_count": null,
   "id": "40016cc8",
   "metadata": {},
   "outputs": [],
   "source": [
    "if __name__ == \"__main__\":\n",
    "    grid = [\n",
    "        [0,1,0,0],\n",
    "        [1,1,1,0],\n",
    "        [0,1,0,0],\n",
    "        [1,1,0,0]\n",
    "    ]\n",
    "    print(\"Expected: 16, Got:\", islandPerimeter(grid))\n",
    "\n",
    "    grid = [[1]]\n",
    "    print(\"Expected: 4, Got:\", islandPerimeter(grid))\n",
    "\n",
    "    grid = [[1,0]]\n",
    "    print(\"Expected: 4, Got:\", islandPerimeter(grid))"
   ]
  }
 ],
 "metadata": {
  "jupytext": {
   "cell_metadata_filter": "-all",
   "main_language": "python",
   "notebook_metadata_filter": "-all"
  }
 },
 "nbformat": 4,
 "nbformat_minor": 5
}
