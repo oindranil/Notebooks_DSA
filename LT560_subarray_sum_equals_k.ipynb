{
 "cells": [
  {
   "cell_type": "markdown",
   "id": "ce60737d",
   "metadata": {
    "cell_marker": "\"\"\""
   },
   "source": [
    "LeetCode 560 - Subarray Sum Equals K\n",
    "\n",
    "Problem: Given an array of integers nums and an integer k, return the total number of continuous subarrays whose sum equals to k.\n",
    "\n",
    "Approaches:\n",
    "1. Brute Force (O(n^2), O(1) space)\n",
    "   - Check all subarrays nums[i:j+1] and sum them.\n",
    "   - Simple but slow for large arrays.\n",
    "\n",
    "2. Prefix Sum + Hash Map (O(n), O(n) space)\n",
    "   - Maintain running sum.\n",
    "   - Use hash map to store frequencies of cumulative sums.\n",
    "   - If cum_sum - k exists in map, then a subarray ending at current index sums to k.\n",
    "   - Much more efficient.\n",
    "\n",
    "This script compares both approaches using time and memory profiling."
   ]
  },
  {
   "cell_type": "code",
   "execution_count": null,
   "id": "42fab612",
   "metadata": {},
   "outputs": [],
   "source": [
    "import time\n",
    "import tracemalloc\n",
    "from collections import defaultdict"
   ]
  },
  {
   "cell_type": "markdown",
   "id": "3d2aedd0",
   "metadata": {
    "lines_to_next_cell": 0
   },
   "source": [
    "-----------------------------\n",
    "Approach 1: Brute Force\n",
    "-----------------------------"
   ]
  },
  {
   "cell_type": "code",
   "execution_count": null,
   "id": "a617e27e",
   "metadata": {},
   "outputs": [],
   "source": [
    "def subarraySum_bruteforce(nums, k):\n",
    "    \"\"\"\n",
    "    Brute force approach: O(n^2) time, O(1) space\n",
    "    \"\"\"\n",
    "    count = 0\n",
    "    n = len(nums)\n",
    "    for i in range(n):\n",
    "        cum_sum = 0\n",
    "        for j in range(i, n):\n",
    "            cum_sum += nums[j]\n",
    "            if cum_sum == k:\n",
    "                count += 1\n",
    "    return count"
   ]
  },
  {
   "cell_type": "markdown",
   "id": "dea55d3a",
   "metadata": {
    "lines_to_next_cell": 0
   },
   "source": [
    "-----------------------------\n",
    "Approach 2: Prefix Sum + Hash Map\n",
    "-----------------------------"
   ]
  },
  {
   "cell_type": "code",
   "execution_count": null,
   "id": "dac91049",
   "metadata": {},
   "outputs": [],
   "source": [
    "def subarraySum_hashmap(nums, k):\n",
    "    \"\"\"\n",
    "    Optimized approach: O(n) time, O(n) space\n",
    "    \"\"\"\n",
    "    count = 0\n",
    "    cum_sum = 0\n",
    "    count_map = defaultdict(int)\n",
    "    count_map[0] = 1  # Base case: sum=0 occurs once\n",
    "\n",
    "    for num in nums:\n",
    "        cum_sum += num\n",
    "        if cum_sum - k in count_map:\n",
    "            count += count_map[cum_sum - k]\n",
    "        count_map[cum_sum] += 1\n",
    "\n",
    "    return count"
   ]
  },
  {
   "cell_type": "markdown",
   "id": "ff1cd959",
   "metadata": {
    "lines_to_next_cell": 0
   },
   "source": [
    "-----------------------------\n",
    "Profiling Utility\n",
    "-----------------------------"
   ]
  },
  {
   "cell_type": "code",
   "execution_count": null,
   "id": "0315cbe1",
   "metadata": {},
   "outputs": [],
   "source": [
    "def run_with_profiling(func, nums, k):\n",
    "    tracemalloc.start()\n",
    "    start_time = time.perf_counter()\n",
    "    res = func(nums, k)\n",
    "    end_time = time.perf_counter()\n",
    "    current, peak = tracemalloc.get_traced_memory()\n",
    "    tracemalloc.stop()\n",
    "    return res, end_time - start_time, peak / 1024  # KB"
   ]
  },
  {
   "cell_type": "markdown",
   "id": "821c0d84",
   "metadata": {
    "lines_to_next_cell": 0
   },
   "source": [
    "-----------------------------\n",
    "Example Test Cases\n",
    "-----------------------------"
   ]
  },
  {
   "cell_type": "code",
   "execution_count": null,
   "id": "98835112",
   "metadata": {},
   "outputs": [],
   "source": [
    "if __name__ == \"__main__\":\n",
    "    print(\"LeetCode 560 - Subarray Sum Equals K\")\n",
    "    print(\"-----------------------------------\")\n",
    "\n",
    "    # Small test case (for correctness)\n",
    "    nums = [1, 1, 1]\n",
    "    k = 2\n",
    "    print(f\"Input: nums={nums}, k={k}\")\n",
    "    print(\"Expected: 2\")\n",
    "\n",
    "    for func in [subarraySum_bruteforce, subarraySum_hashmap]:\n",
    "        res, t, mem = run_with_profiling(func, nums, k)\n",
    "        print(f\"{func.__name__:>25}: Result={res}, Time={t:.6f}s, PeakMem={mem:.1f}KB\")\n",
    "\n",
    "    print(\"\\n--- Larger Example for Profiling ---\")\n",
    "    nums = [1] * 2000  # Large input\n",
    "    k = 50\n",
    "    print(f\"Array size: {len(nums)}, k={k}\")\n",
    "\n",
    "    for func in [subarraySum_bruteforce, subarraySum_hashmap]:\n",
    "        res, t, mem = run_with_profiling(func, nums, k)\n",
    "        print(f\"{func.__name__:>25}: Result={res}, Time={t:.6f}s, PeakMem={mem:.1f}KB\")"
   ]
  }
 ],
 "metadata": {
  "jupytext": {
   "cell_metadata_filter": "-all",
   "main_language": "python",
   "notebook_metadata_filter": "-all"
  }
 },
 "nbformat": 4,
 "nbformat_minor": 5
}
