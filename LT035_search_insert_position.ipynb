{
 "cells": [
  {
   "cell_type": "markdown",
   "id": "214f3704",
   "metadata": {
    "cell_marker": "\"\"\"",
    "lines_to_next_cell": 0
   },
   "source": [
    "Source: LeetCode\n",
    "\n",
    "Problem #: 35\n",
    "\n",
    "Title: Search Insert Position\n",
    "\n",
    "Difficulty: Easy\n",
    "\n",
    "Topic: Search (Binary Search)\n",
    "Description: Given a sorted array and a target value, return the index if the target is found. If not, return the index where it would be if it were inserted in order."
   ]
  },
  {
   "cell_type": "code",
   "execution_count": null,
   "id": "d345ddc2",
   "metadata": {
    "lines_to_next_cell": 1
   },
   "outputs": [],
   "source": [
    "def searchInsert(self, nums, target):\n",
    "    \"\"\"\n",
    "    :type nums: List[int]\n",
    "    :type target: int\n",
    "    :rtype: int\n",
    "    \"\"\"\n",
    "    left, right = 0, len(nums) - 1\n",
    "    \n",
    "    while left <= right:\n",
    "        mid = left + (right - left) // 2\n",
    "        if nums[mid] == target:\n",
    "            return mid           # target found\n",
    "        elif nums[mid] < target:\n",
    "            left = mid + 1       # search right half\n",
    "        else:\n",
    "            right = mid - 1      # search left half\n",
    "            \n",
    "    # target not found, left is the correct insert position\n",
    "    return left"
   ]
  },
  {
   "cell_type": "code",
   "execution_count": null,
   "id": "bab86468",
   "metadata": {
    "lines_to_next_cell": 0,
    "title": "[Markdown]"
   },
   "outputs": [],
   "source": [
    "# -----------------------------\n",
    "# Example Test Cases\n",
    "# -----------------------------"
   ]
  },
  {
   "cell_type": "code",
   "execution_count": null,
   "id": "1f0c9c0f",
   "metadata": {},
   "outputs": [],
   "source": [
    "if __name__ == \"__main__\":\n",
    "    # Test case 1\n",
    "    nums1 = [1,3,5,6]\n",
    "    target1 = 5\n",
    "    print(\"Expected: 2, Got:\", searchInsert(nums1, target1))\n",
    "\n",
    "    # Test case 2\n",
    "    nums2 = [1,3,5,6]\n",
    "    target2 = 2\n",
    "    print(\"Expected: 1, Got:\", searchInsert(nums2, target2))\n",
    "\n",
    "    # Test case 3\n",
    "    nums3 = [1,3,5,6]\n",
    "    target3 = 7\n",
    "    print(\"Expected: 4, Got:\", searchInsert(nums3, target3))"
   ]
  }
 ],
 "metadata": {
  "jupytext": {
   "cell_metadata_filter": "title,-all",
   "main_language": "python",
   "notebook_metadata_filter": "-all"
  }
 },
 "nbformat": 4,
 "nbformat_minor": 5
}
