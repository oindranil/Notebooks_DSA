{
 "cells": [
  {
   "cell_type": "markdown",
   "id": "ca78714f",
   "metadata": {},
   "source": [
    "\n",
    "program: ways to cover a distance\n",
    "\n",
    "\n",
    "\n",
    "topic: dynamic programming\n",
    "\n",
    "\n",
    "\n",
    "subtopic: Fibonacci-like DP\n",
    "\n",
    "\n",
    "\n",
    "URL: [https://www.geeksforgeeks.org/count-number-of-ways-to-cover-a-distance/](https://www.geeksforgeeks.org/count-number-of-ways-to-cover-a-distance/)\n",
    "\n",
    "\n",
    "\n",
    "description:\n",
    "\n",
    "Count the number of ways to cover a given distance with steps of size 1, 2, or 3.\n",
    "\n",
    "\n",
    "\n",
    "logic:\n",
    "\n",
    "Let dp[i] be the number of ways to reach distance i.\n",
    "\n",
    "Recurrence: dp[i] = dp[i-1] + dp[i-2] + dp[i-3]\n",
    "\n",
    "Base cases: dp[0] = 1, dp[1] = 1, dp[2] = 2\n",
    "\n",
    "This is very similar to a generalized Fibonacci sequence."
   ]
  },
  {
   "cell_type": "code",
   "execution_count": null,
   "id": "d9db2625",
   "metadata": {
    "lines_to_next_cell": 1
   },
   "outputs": [],
   "source": [
    "\n",
    "def count_ways(distance: int) -> int:\n",
    "    if distance < 0:\n",
    "        return 0\n",
    "    if distance == 0:\n",
    "        return 1\n",
    "\n",
    "    dp = [0] * (distance + 1)\n",
    "    dp[0] = 1  # 1 way to cover distance 0 (do nothing)\n",
    "    \n",
    "    for i in range(1, distance + 1):\n",
    "        dp[i] += dp[i - 1] if i - 1 >= 0 else 0\n",
    "        dp[i] += dp[i - 2] if i - 2 >= 0 else 0\n",
    "        dp[i] += dp[i - 3] if i - 3 >= 0 else 0\n",
    "    \n",
    "    return dp[distance]"
   ]
  },
  {
   "cell_type": "code",
   "execution_count": null,
   "id": "d9d8fbe7",
   "metadata": {},
   "outputs": [],
   "source": [
    "if __name__ == \"__main__\":\n",
    "    dist = 5\n",
    "    print(f\"Distance: {dist}\")\n",
    "    print(f\"Ways to cover distance {dist} with steps 1, 2, 3: {count_ways(dist)}\")"
   ]
  }
 ],
 "metadata": {
  "jupytext": {
   "cell_metadata_filter": "-all",
   "main_language": "python",
   "notebook_metadata_filter": "-all"
  }
 },
 "nbformat": 4,
 "nbformat_minor": 5
}
